{
 "cells": [
  {
   "cell_type": "code",
   "execution_count": 1,
   "id": "8bd70cad",
   "metadata": {},
   "outputs": [],
   "source": [
    "#Q1, Create a vehicle class with an init method having instance variables as name_of_vehicle, max_speed and average_of_vehicle."
   ]
  },
  {
   "cell_type": "code",
   "execution_count": 2,
   "id": "68c0c281",
   "metadata": {},
   "outputs": [],
   "source": [
    "class vehicle:\n",
    "    \n",
    "    def __init__(self, name_of_vehicle, max_speed, average_of_vehicle):\n",
    "        self.name_of_vehicle = name_of_vehicle\n",
    "        self.max_speed = max_speed\n",
    "        self.average_of_vehicle = average_of_vehicle\n",
    "        \n",
    "    def return_details(self):\n",
    "        return self.name_of_vehicle, self.max_speed, self.average_of_vehicle"
   ]
  },
  {
   "cell_type": "code",
   "execution_count": 3,
   "id": "e90d222e",
   "metadata": {},
   "outputs": [],
   "source": [
    "car0 = vehicle(\"ms\", 35, 23)"
   ]
  },
  {
   "cell_type": "code",
   "execution_count": 4,
   "id": "e8d633e2",
   "metadata": {},
   "outputs": [],
   "source": [
    "car01 = vehicle(\"RR\", 127, 83)"
   ]
  },
  {
   "cell_type": "code",
   "execution_count": 5,
   "id": "6e93df48",
   "metadata": {},
   "outputs": [
    {
     "data": {
      "text/plain": [
       "23"
      ]
     },
     "execution_count": 5,
     "metadata": {},
     "output_type": "execute_result"
    }
   ],
   "source": [
    "car0.average_of_vehicle"
   ]
  },
  {
   "cell_type": "code",
   "execution_count": 6,
   "id": "18a40dfa",
   "metadata": {},
   "outputs": [
    {
     "data": {
      "text/plain": [
       "'RR'"
      ]
     },
     "execution_count": 6,
     "metadata": {},
     "output_type": "execute_result"
    }
   ],
   "source": [
    "car01.name_of_vehicle"
   ]
  },
  {
   "cell_type": "code",
   "execution_count": 7,
   "id": "5789ea97",
   "metadata": {},
   "outputs": [
    {
     "data": {
      "text/plain": [
       "('ms', 35, 23)"
      ]
     },
     "execution_count": 7,
     "metadata": {},
     "output_type": "execute_result"
    }
   ],
   "source": [
    "car0.return_details()"
   ]
  },
  {
   "cell_type": "code",
   "execution_count": 8,
   "id": "bd789947",
   "metadata": {},
   "outputs": [
    {
     "data": {
      "text/plain": [
       "('RR', 127, 83)"
      ]
     },
     "execution_count": 8,
     "metadata": {},
     "output_type": "execute_result"
    }
   ],
   "source": [
    "car01.return_details()"
   ]
  },
  {
   "cell_type": "code",
   "execution_count": null,
   "id": "cbfc1ff5",
   "metadata": {},
   "outputs": [],
   "source": []
  },
  {
   "cell_type": "code",
   "execution_count": null,
   "id": "668eb418",
   "metadata": {},
   "outputs": [],
   "source": []
  },
  {
   "cell_type": "code",
   "execution_count": 9,
   "id": "60f886fa",
   "metadata": {},
   "outputs": [],
   "source": [
    "#Q2. Create a child class car from the vehicle class created in Que 1, which will inherit the vehicle class.\n",
    "#Create a method named seating_capacity which takes capacity as an argument and returns the name of\n",
    "#the vehicle and its seating capacity."
   ]
  },
  {
   "cell_type": "code",
   "execution_count": 10,
   "id": "289cf860",
   "metadata": {},
   "outputs": [],
   "source": [
    "class car_1(vehicle):\n",
    "    \n",
    "    def seating_capacity(self, x):\n",
    "        return self.name_of_vehicle, x"
   ]
  },
  {
   "cell_type": "code",
   "execution_count": 11,
   "id": "a12b6f3d",
   "metadata": {},
   "outputs": [],
   "source": [
    "car0x = car_1(\"mahindra\", 345, 123)"
   ]
  },
  {
   "cell_type": "code",
   "execution_count": 12,
   "id": "53c8a2ef",
   "metadata": {},
   "outputs": [
    {
     "data": {
      "text/plain": [
       "('mahindra', 10)"
      ]
     },
     "execution_count": 12,
     "metadata": {},
     "output_type": "execute_result"
    }
   ],
   "source": [
    "car0x.seating_capacity(10)"
   ]
  },
  {
   "cell_type": "code",
   "execution_count": null,
   "id": "8447a55a",
   "metadata": {},
   "outputs": [],
   "source": []
  },
  {
   "cell_type": "code",
   "execution_count": 13,
   "id": "90196773",
   "metadata": {},
   "outputs": [],
   "source": [
    "#Q3. What is multiple inheritance? Write a python code to demonstrate multiple inheritance.\n",
    "\n",
    "#ANSWER :-\n",
    "# in single inheritance we inherit in child class with the parent class e.g Father class..........\n",
    "# but in multiple inheritance we inheir the child class with more than one class e.g both Father and Mother class"
   ]
  },
  {
   "cell_type": "code",
   "execution_count": 14,
   "id": "16bb219f",
   "metadata": {},
   "outputs": [],
   "source": [
    "class father_class:\n",
    "    \n",
    "    def father_(self):\n",
    "        return \"this is father class\"\n",
    "    "
   ]
  },
  {
   "cell_type": "code",
   "execution_count": 15,
   "id": "1810cbf6",
   "metadata": {},
   "outputs": [],
   "source": [
    "class mother_class:\n",
    "    \n",
    "    def mother_(self):\n",
    "        return \"this is mother class\"\n",
    "    "
   ]
  },
  {
   "cell_type": "code",
   "execution_count": 16,
   "id": "5024727b",
   "metadata": {},
   "outputs": [],
   "source": [
    "class child_class(father_class, mother_class):\n",
    "    pass"
   ]
  },
  {
   "cell_type": "code",
   "execution_count": 17,
   "id": "86d9b5c0",
   "metadata": {},
   "outputs": [],
   "source": [
    "child_obj = child_class()"
   ]
  },
  {
   "cell_type": "code",
   "execution_count": 18,
   "id": "79fe7531",
   "metadata": {},
   "outputs": [
    {
     "data": {
      "text/plain": [
       "'this is father class'"
      ]
     },
     "execution_count": 18,
     "metadata": {},
     "output_type": "execute_result"
    }
   ],
   "source": [
    "child_obj.father_()"
   ]
  },
  {
   "cell_type": "code",
   "execution_count": 19,
   "id": "4470c394",
   "metadata": {},
   "outputs": [
    {
     "data": {
      "text/plain": [
       "'this is mother class'"
      ]
     },
     "execution_count": 19,
     "metadata": {},
     "output_type": "execute_result"
    }
   ],
   "source": [
    "child_obj.mother_()"
   ]
  },
  {
   "cell_type": "code",
   "execution_count": 20,
   "id": "778ab984",
   "metadata": {},
   "outputs": [],
   "source": [
    "# HERE WE CAN SEE THAT THE CHILD CLASS CAN INHEIR THE PROPERTIES OF BOTH FATHER CLASS AND MOTHER CLASS AT THE SAME TIME"
   ]
  },
  {
   "cell_type": "code",
   "execution_count": null,
   "id": "4c3fb894",
   "metadata": {},
   "outputs": [],
   "source": []
  },
  {
   "cell_type": "code",
   "execution_count": 21,
   "id": "4b8b782f",
   "metadata": {},
   "outputs": [],
   "source": [
    "#Q5.What is method overriding in python? Write a python code to demonstrate method overriding."
   ]
  },
  {
   "cell_type": "code",
   "execution_count": 22,
   "id": "a7c72de4",
   "metadata": {},
   "outputs": [],
   "source": [
    "#ANSWER :\n",
    "# method overrinding is the ability of the child class to over-ride the valuw present in the parent class....\n",
    "# when a methodis present in parent class but at the same time in the child class too, it means child class overides the parent class"
   ]
  },
  {
   "cell_type": "code",
   "execution_count": 23,
   "id": "98055132",
   "metadata": {},
   "outputs": [],
   "source": [
    "#For Example:-\n",
    "\n",
    "\n",
    "class parent:\n",
    "    \n",
    "    def __init__(self, x, y):\n",
    "        self.__x = x\n",
    "        self.__y = y\n",
    "        \n",
    "    def area(self):\n",
    "        return self.__x * self.__y"
   ]
  },
  {
   "cell_type": "code",
   "execution_count": 24,
   "id": "293c0ba9",
   "metadata": {},
   "outputs": [],
   "source": [
    "rec = parent(3, 5)"
   ]
  },
  {
   "cell_type": "code",
   "execution_count": 25,
   "id": "600cd192",
   "metadata": {},
   "outputs": [
    {
     "data": {
      "text/plain": [
       "15"
      ]
     },
     "execution_count": 25,
     "metadata": {},
     "output_type": "execute_result"
    }
   ],
   "source": [
    "rec.area()"
   ]
  },
  {
   "cell_type": "code",
   "execution_count": 39,
   "id": "95f33290",
   "metadata": {},
   "outputs": [],
   "source": [
    "class child(parent):\n",
    "    \n",
    "    def __init__(self, radius):\n",
    "        self.__radius = radius\n",
    "        \n",
    "    def area(self):\n",
    "        return 3.14 * self.__radius * self.__radius"
   ]
  },
  {
   "cell_type": "code",
   "execution_count": 40,
   "id": "4cfabd30",
   "metadata": {},
   "outputs": [],
   "source": [
    "circle = child(3)"
   ]
  },
  {
   "cell_type": "code",
   "execution_count": 41,
   "id": "e6edb9d1",
   "metadata": {},
   "outputs": [
    {
     "data": {
      "text/plain": [
       "28.259999999999998"
      ]
     },
     "execution_count": 41,
     "metadata": {},
     "output_type": "execute_result"
    }
   ],
   "source": [
    "circle.area()"
   ]
  },
  {
   "cell_type": "code",
   "execution_count": 42,
   "id": "b450fafb",
   "metadata": {},
   "outputs": [],
   "source": [
    "sq = parent(4, 4)"
   ]
  },
  {
   "cell_type": "code",
   "execution_count": 43,
   "id": "595e0aad",
   "metadata": {},
   "outputs": [
    {
     "data": {
      "text/plain": [
       "16"
      ]
     },
     "execution_count": 43,
     "metadata": {},
     "output_type": "execute_result"
    }
   ],
   "source": [
    "sq.area()"
   ]
  },
  {
   "cell_type": "code",
   "execution_count": 47,
   "id": "e4125cf8",
   "metadata": {},
   "outputs": [],
   "source": [
    "circle1 = child(14)"
   ]
  },
  {
   "cell_type": "code",
   "execution_count": 48,
   "id": "7cbe918b",
   "metadata": {},
   "outputs": [
    {
     "data": {
      "text/plain": [
       "615.44"
      ]
     },
     "execution_count": 48,
     "metadata": {},
     "output_type": "execute_result"
    }
   ],
   "source": [
    "circle1.area()"
   ]
  }
 ],
 "metadata": {
  "kernelspec": {
   "display_name": "Python 3 (ipykernel)",
   "language": "python",
   "name": "python3"
  },
  "language_info": {
   "codemirror_mode": {
    "name": "ipython",
    "version": 3
   },
   "file_extension": ".py",
   "mimetype": "text/x-python",
   "name": "python",
   "nbconvert_exporter": "python",
   "pygments_lexer": "ipython3",
   "version": "3.11.4"
  }
 },
 "nbformat": 4,
 "nbformat_minor": 5
}
