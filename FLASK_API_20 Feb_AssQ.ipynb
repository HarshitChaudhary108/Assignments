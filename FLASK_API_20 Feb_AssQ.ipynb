{
 "cells": [
  {
   "cell_type": "markdown",
   "id": "048e8640",
   "metadata": {},
   "source": [
    "## Q1. Explain GET and POST methods.\n",
    "### Answer :\n"
   ]
  },
  {
   "cell_type": "markdown",
   "id": "71036612",
   "metadata": {},
   "source": [
    "#### GET and POST are the HTTP method requests used to communicate between client and servers. Both methods used to send html form data. \n",
    "#### When the client send data through GET Method, everyone can see that, means it's visible to everyone through URL. This makes GET Method a bit insecure to share sensitive data. For example : Keywords searched on Google\n",
    "#### POST Method is used for the same purpose as GET Method but unlike GET Method POST Method is secure because the data shared through POST Method is not visible to everyone as the data is shared as the body. For Example : Gmail and Password on Gmail are not visible to everyone, no one can see even the user can't see"
   ]
  },
  {
   "cell_type": "markdown",
   "id": "8ee9b8c0",
   "metadata": {},
   "source": [
    "# "
   ]
  },
  {
   "cell_type": "markdown",
   "id": "fd9c4959",
   "metadata": {},
   "source": [
    "## Q2. Why is request used in Flask?\n",
    "### Answer :"
   ]
  },
  {
   "cell_type": "markdown",
   "id": "64a1b364",
   "metadata": {},
   "source": [
    "#### \"request\" is an object in Flask used to retrieve the incoming data sent by client to the server through GET and POST Methods.\n",
    "#### For example : you have created a webpage containing a form and the form is asking the details of the user. so to retrieve this data sent by the client to the server, we can use \"request\" object to retrieve and store that data in a database."
   ]
  },
  {
   "cell_type": "markdown",
   "id": "666efde6",
   "metadata": {},
   "source": [
    "# "
   ]
  },
  {
   "cell_type": "markdown",
   "id": "ec6d2557",
   "metadata": {},
   "source": [
    "## Q3. Why is redirect() used in Flask?\n",
    "### Answer :"
   ]
  },
  {
   "cell_type": "markdown",
   "id": "9048a2c6",
   "metadata": {},
   "source": [
    "#### \"redirect\" is used in Flask to redirect the user to a different URL after they perform a specific action."
   ]
  },
  {
   "cell_type": "raw",
   "id": "497d83bd",
   "metadata": {},
   "source": [
    "# Sample Code :\n",
    "\n",
    "from flask import Flask, redirect\n",
    "\n",
    "app = Flask(\"__main__\")\n",
    "\n",
    "@app.route(\"/\")\n",
    " def redirecr_page():\n",
    "    return redirect(\"https://www.youtube.com/watch?v=K3B8-klo5xc&list=RDK3B8-klo5xc&start_radio=1&ab_channel=SonyMusicIndia\")\n",
    "\n",
    "if __name__==\"__main__\":\n",
    "    app.run(host=(\"0.0.0.0\"))"
   ]
  },
  {
   "cell_type": "markdown",
   "id": "55cab2c4",
   "metadata": {},
   "source": [
    "### Result :"
   ]
  },
  {
   "cell_type": "markdown",
   "id": "4b942d52",
   "metadata": {},
   "source": [
    "![title](img/ss1.png)\n",
    "![title](img/ss2.png)"
   ]
  },
  {
   "cell_type": "markdown",
   "id": "565ea330",
   "metadata": {},
   "source": [
    "# "
   ]
  },
  {
   "cell_type": "markdown",
   "id": "44f31f21",
   "metadata": {},
   "source": [
    "## Q4. What are templates in Flask? Why is the render_template() function used?\n",
    "### Answer :"
   ]
  },
  {
   "cell_type": "markdown",
   "id": "944556b9",
   "metadata": {},
   "source": [
    "#### Flask Templates are external HTML, CSS, JAVA files that can be rendered by Flask. Flask use jinja2 as the templating engine\n",
    "#### render_template() function is used to render an external HTML template. It takes the name of the template as its first agument and the set of args as the second variable"
   ]
  },
  {
   "cell_type": "markdown",
   "id": "2edb5d31",
   "metadata": {},
   "source": [
    "#### Sample Code :"
   ]
  },
  {
   "cell_type": "raw",
   "id": "64db0b50",
   "metadata": {},
   "source": [
    "from flask import Flask, render_template, request, jsonify\n",
    "\n",
    "app = Flask(\"__main__\")\n",
    "\n",
    "@app.route(\"/\", methods = ['GET', 'POST'])\n",
    "def home_page():\n",
    "    return render_template('trial.html')\n",
    "\n",
    "if __name__==\"__main__\":\n",
    "    app.run(host=\"0.0.0.0\")"
   ]
  },
  {
   "cell_type": "markdown",
   "id": "efee4fe2",
   "metadata": {},
   "source": [
    "# "
   ]
  },
  {
   "cell_type": "markdown",
   "id": "26de49f4",
   "metadata": {},
   "source": [
    "## Q5. Create a simple API. Use Postman to test it. Attach the screenshot of the output in the Jupyter Notebook.\n",
    "### Answer :"
   ]
  },
  {
   "cell_type": "raw",
   "id": "a5bd41df",
   "metadata": {},
   "source": [
    "from flask import Flask, jsonify, request\n",
    "\n",
    "app = Flask(\"__main__\")\n",
    "\n",
    "@app.route(\"/api\", methods = ['POST'])\n",
    "def api_test():\n",
    "    data = request.json(\"data_json\")\n",
    "    response = \"Received Data :\" + data\n",
    "    return response\n",
    "\n",
    "if __name__==\"__main__\":\n",
    "    app.run(host=(\"0.0.0.0\"))"
   ]
  },
  {
   "cell_type": "code",
   "execution_count": null,
   "id": "32bb917c",
   "metadata": {},
   "outputs": [],
   "source": []
  }
 ],
 "metadata": {
  "kernelspec": {
   "display_name": "Python 3 (ipykernel)",
   "language": "python",
   "name": "python3"
  },
  "language_info": {
   "codemirror_mode": {
    "name": "ipython",
    "version": 3
   },
   "file_extension": ".py",
   "mimetype": "text/x-python",
   "name": "python",
   "nbconvert_exporter": "python",
   "pygments_lexer": "ipython3",
   "version": "3.11.4"
  }
 },
 "nbformat": 4,
 "nbformat_minor": 5
}
