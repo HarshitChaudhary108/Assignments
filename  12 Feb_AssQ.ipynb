{
 "cells": [
  {
   "cell_type": "markdown",
   "id": "7b834834",
   "metadata": {},
   "source": [
    "# Q1. What is an exception in python ? Write the difference between syntax error and an exception ?"
   ]
  },
  {
   "cell_type": "markdown",
   "id": "6c85fe0e",
   "metadata": {},
   "source": [
    "## Answer :-\n",
    "#### Syntax Error : When the syntax of the language is not followed then syntax error occurs\n",
    "#### Exception : Error that occurs during the runtime of the execution of the program after passing the syntax test\n",
    "#### For example : if we divide any number by 0, then \"ZERO DIVISION ERROR\" will occur. Another example can be, if we open a file to read directly, then it will give an exception error that \"File Does not exist\""
   ]
  },
  {
   "cell_type": "markdown",
   "id": "be8913af",
   "metadata": {},
   "source": [
    "# "
   ]
  },
  {
   "cell_type": "markdown",
   "id": "b81ff866",
   "metadata": {},
   "source": [
    "# Q2. What happend when an exception is not handle ? Explain with an example."
   ]
  },
  {
   "cell_type": "markdown",
   "id": "024219dd",
   "metadata": {},
   "source": [
    "## Answer :-\n",
    "#### Exception is a runtime error that occurs during the execution of the program. when an exception is not handled then it stops the further execution of the code."
   ]
  },
  {
   "cell_type": "code",
   "execution_count": 3,
   "id": "f37e5c38",
   "metadata": {},
   "outputs": [
    {
     "ename": "FileNotFoundError",
     "evalue": "[Errno 2] No such file or directory: 'test.txt'",
     "output_type": "error",
     "traceback": [
      "\u001b[1;31m---------------------------------------------------------------------------\u001b[0m",
      "\u001b[1;31mFileNotFoundError\u001b[0m                         Traceback (most recent call last)",
      "Cell \u001b[1;32mIn[3], line 2\u001b[0m\n\u001b[0;32m      1\u001b[0m \u001b[38;5;66;03m# FOR EXAMPLE :-\u001b[39;00m\n\u001b[1;32m----> 2\u001b[0m file \u001b[38;5;241m=\u001b[39m \u001b[38;5;28;43mopen\u001b[39;49m\u001b[43m(\u001b[49m\u001b[38;5;124;43m\"\u001b[39;49m\u001b[38;5;124;43mtest.txt\u001b[39;49m\u001b[38;5;124;43m\"\u001b[39;49m\u001b[43m,\u001b[49m\u001b[43m \u001b[49m\u001b[38;5;124;43m\"\u001b[39;49m\u001b[38;5;124;43mr\u001b[39;49m\u001b[38;5;124;43m\"\u001b[39;49m\u001b[43m)\u001b[49m \u001b[38;5;66;03m# Here, we are trying to open a file in read mode which doesn't exist and we dont have any exception to handle it\u001b[39;00m\n\u001b[0;32m      3\u001b[0m file\u001b[38;5;241m.\u001b[39mread() \n\u001b[0;32m      5\u001b[0m \u001b[38;5;241m5\u001b[39m\u001b[38;5;241m+\u001b[39m\u001b[38;5;241m10\u001b[39m\n",
      "File \u001b[1;32m~\\AppData\\Local\\Programs\\Python\\Python311\\Lib\\site-packages\\IPython\\core\\interactiveshell.py:284\u001b[0m, in \u001b[0;36m_modified_open\u001b[1;34m(file, *args, **kwargs)\u001b[0m\n\u001b[0;32m    277\u001b[0m \u001b[38;5;28;01mif\u001b[39;00m file \u001b[38;5;129;01min\u001b[39;00m {\u001b[38;5;241m0\u001b[39m, \u001b[38;5;241m1\u001b[39m, \u001b[38;5;241m2\u001b[39m}:\n\u001b[0;32m    278\u001b[0m     \u001b[38;5;28;01mraise\u001b[39;00m \u001b[38;5;167;01mValueError\u001b[39;00m(\n\u001b[0;32m    279\u001b[0m         \u001b[38;5;124mf\u001b[39m\u001b[38;5;124m\"\u001b[39m\u001b[38;5;124mIPython won\u001b[39m\u001b[38;5;124m'\u001b[39m\u001b[38;5;124mt let you open fd=\u001b[39m\u001b[38;5;132;01m{\u001b[39;00mfile\u001b[38;5;132;01m}\u001b[39;00m\u001b[38;5;124m by default \u001b[39m\u001b[38;5;124m\"\u001b[39m\n\u001b[0;32m    280\u001b[0m         \u001b[38;5;124m\"\u001b[39m\u001b[38;5;124mas it is likely to crash IPython. If you know what you are doing, \u001b[39m\u001b[38;5;124m\"\u001b[39m\n\u001b[0;32m    281\u001b[0m         \u001b[38;5;124m\"\u001b[39m\u001b[38;5;124myou can use builtins\u001b[39m\u001b[38;5;124m'\u001b[39m\u001b[38;5;124m open.\u001b[39m\u001b[38;5;124m\"\u001b[39m\n\u001b[0;32m    282\u001b[0m     )\n\u001b[1;32m--> 284\u001b[0m \u001b[38;5;28;01mreturn\u001b[39;00m \u001b[43mio_open\u001b[49m\u001b[43m(\u001b[49m\u001b[43mfile\u001b[49m\u001b[43m,\u001b[49m\u001b[43m \u001b[49m\u001b[38;5;241;43m*\u001b[39;49m\u001b[43margs\u001b[49m\u001b[43m,\u001b[49m\u001b[43m \u001b[49m\u001b[38;5;241;43m*\u001b[39;49m\u001b[38;5;241;43m*\u001b[39;49m\u001b[43mkwargs\u001b[49m\u001b[43m)\u001b[49m\n",
      "\u001b[1;31mFileNotFoundError\u001b[0m: [Errno 2] No such file or directory: 'test.txt'"
     ]
    }
   ],
   "source": [
    "# FOR EXAMPLE :-\n",
    "file = open(\"test.txt\", \"r\") # Here, we are trying to open a file in read mode which doesn't exist and we dont have any exception to handle it\n",
    "file.read() \n",
    "\n",
    "5+10"
   ]
  },
  {
   "cell_type": "markdown",
   "id": "ed16d7fb",
   "metadata": {},
   "source": [
    "#### we can see that, we don't have any exception to handle it. when the error occurs it stops the execution of the code and our 5+10 not executed. But, here in the next example. we have an exception to handle the error. let's see what'll happen"
   ]
  },
  {
   "cell_type": "code",
   "execution_count": 7,
   "id": "5f542c41",
   "metadata": {},
   "outputs": [
    {
     "name": "stdout",
     "output_type": "stream",
     "text": [
      "[Errno 2] No such file or directory: 'test.txt'\n"
     ]
    },
    {
     "data": {
      "text/plain": [
       "15"
      ]
     },
     "execution_count": 7,
     "metadata": {},
     "output_type": "execute_result"
    }
   ],
   "source": [
    "try :\n",
    "    file = open(\"test.txt\", \"r\")\n",
    "    file.read() \n",
    "except Exception as e:\n",
    "    print(e)\n",
    "    \n",
    "5+10"
   ]
  },
  {
   "cell_type": "markdown",
   "id": "dca4f01f",
   "metadata": {},
   "source": [
    "#### Here, we can see that in our try block, we opened a file with not exist and when the error occurs, we have an exception to handle it in the except block and even having a error the further execution of the code not stopped as we can see in the example..........."
   ]
  },
  {
   "cell_type": "markdown",
   "id": "01bdcb3c",
   "metadata": {},
   "source": [
    "# "
   ]
  },
  {
   "cell_type": "markdown",
   "id": "430b01dc",
   "metadata": {},
   "source": [
    "## Q3. Which python statements are used to catch and handle exceptions? Explain with example"
   ]
  },
  {
   "cell_type": "markdown",
   "id": "74376982",
   "metadata": {},
   "source": [
    "### Answer :-\n",
    "\n",
    "#### Try and except are used to catch and handle exceptions in python progamming language. statements which can raise exceptions are put in try block and statements that can handle the exceptions are put in except clause."
   ]
  },
  {
   "cell_type": "code",
   "execution_count": 1,
   "id": "8de96408",
   "metadata": {},
   "outputs": [
    {
     "name": "stdout",
     "output_type": "stream",
     "text": [
      "[Errno 2] No such file or directory: 'file.txt'\n"
     ]
    }
   ],
   "source": [
    "try :\n",
    "    file = open(\"file.txt\", \"r\")\n",
    "    file.read()\n",
    "except Exception as e :\n",
    "    print(e)"
   ]
  },
  {
   "cell_type": "markdown",
   "id": "244bb295",
   "metadata": {},
   "source": [
    "#### Here, we can see that we try to open a file in read mode, but this statement will show error bcoz to open a file, the file must exist. So, this error will be catch by out try block and to handle this error, we create an except block............"
   ]
  },
  {
   "cell_type": "markdown",
   "id": "f29b8193",
   "metadata": {},
   "source": [
    "## Q4. Explain with an example."
   ]
  },
  {
   "cell_type": "markdown",
   "id": "8f497972",
   "metadata": {},
   "source": [
    "### Answer"
   ]
  },
  {
   "cell_type": "markdown",
   "id": "6104caf4",
   "metadata": {},
   "source": [
    "### 1. Try and else :\n",
    "#### Try block is used to catch an exception within our code during runtine, if the try block founds an error, our except block handle that, and if the try block successfully executed then else block comes in execution otherwise not"
   ]
  },
  {
   "cell_type": "code",
   "execution_count": 2,
   "id": "aadf2dcc",
   "metadata": {},
   "outputs": [],
   "source": [
    "import logging"
   ]
  },
  {
   "cell_type": "code",
   "execution_count": 7,
   "id": "35cfd582",
   "metadata": {},
   "outputs": [],
   "source": [
    "logging.basicConfig(filename = \"logging_file.log\", level = logging.INFO, format = (\"%(asctime)s %(levelname)s %(message)s\"))"
   ]
  },
  {
   "cell_type": "code",
   "execution_count": 11,
   "id": "173641e0",
   "metadata": {},
   "outputs": [
    {
     "name": "stdout",
     "output_type": "stream",
     "text": [
      "division by zero\n"
     ]
    }
   ],
   "source": [
    "try :\n",
    "    1/0\n",
    "except Exception as e:\n",
    "    print(e)\n",
    "else :\n",
    "    logging.info(\"I am a data scientist\")\n",
    "    "
   ]
  },
  {
   "cell_type": "code",
   "execution_count": 14,
   "id": "3a80c16c",
   "metadata": {},
   "outputs": [
    {
     "name": "stdout",
     "output_type": "stream",
     "text": [
      "9\n"
     ]
    }
   ],
   "source": [
    "try :\n",
    "    add = 4 + 5\n",
    "    print(add)\n",
    "except Exception as e :\n",
    "    print(e)\n",
    "else :\n",
    "    logging.info(\"I am a data scientist\")"
   ]
  },
  {
   "cell_type": "code",
   "execution_count": 15,
   "id": "6487b956",
   "metadata": {},
   "outputs": [],
   "source": [
    "logging.shutdown()"
   ]
  },
  {
   "cell_type": "markdown",
   "id": "a40322e4",
   "metadata": {},
   "source": [
    "### 2. Finally :\n",
    "#### whatever situation it is, finally block executes itself everytime "
   ]
  },
  {
   "cell_type": "code",
   "execution_count": 16,
   "id": "2907f85f",
   "metadata": {},
   "outputs": [
    {
     "name": "stdout",
     "output_type": "stream",
     "text": [
      "division by zero\n",
      "try block contains an error still i'm executing myself\n"
     ]
    }
   ],
   "source": [
    "try :\n",
    "    1/0\n",
    "except Exception as e:\n",
    "    print(e)\n",
    "finally :\n",
    "    print(\"try block contains an error still i'm executing myself\")"
   ]
  },
  {
   "cell_type": "code",
   "execution_count": 17,
   "id": "fc1307ba",
   "metadata": {},
   "outputs": [
    {
     "name": "stdout",
     "output_type": "stream",
     "text": [
      "9\n",
      "No error in try block, still i'm executing myself\n"
     ]
    }
   ],
   "source": [
    "try :\n",
    "    add = 4 + 5\n",
    "    print(add)\n",
    "except Exception as e :\n",
    "    print(e)\n",
    "finally :\n",
    "    print(\"No error in try block, still i'm executing myself\")"
   ]
  },
  {
   "cell_type": "markdown",
   "id": "e683c488",
   "metadata": {},
   "source": [
    "### 3. Raise :\n",
    "#### Raise statement is used to raise exceptions and errors in out code, it stops the execution flow of our code."
   ]
  },
  {
   "cell_type": "code",
   "execution_count": 18,
   "id": "a5895cea",
   "metadata": {},
   "outputs": [
    {
     "name": "stdout",
     "output_type": "stream",
     "text": [
      "Enter the number : -32\n",
      "Value Error\n"
     ]
    }
   ],
   "source": [
    "try :\n",
    "    a = int(input(\"Enter the number : \"))\n",
    "    if a<=0:\n",
    "        raise Exception\n",
    "    print(\"your input number is : \", a )\n",
    "except Exception:\n",
    "    print(\"Value Error\")\n",
    "    "
   ]
  },
  {
   "cell_type": "code",
   "execution_count": 19,
   "id": "7b7ffd35",
   "metadata": {},
   "outputs": [
    {
     "name": "stdout",
     "output_type": "stream",
     "text": [
      "Enter the number : 30\n",
      "your input number is :  30\n"
     ]
    }
   ],
   "source": [
    "try :\n",
    "    a = int(input(\"Enter the number : \"))\n",
    "    if a<=0:\n",
    "        raise Exception\n",
    "    print(\"your input number is : \", a )\n",
    "except Exception:\n",
    "    print(\"Value Error\")\n",
    "    "
   ]
  },
  {
   "cell_type": "markdown",
   "id": "7f3e1ffe",
   "metadata": {},
   "source": [
    "## Q5. Why do we need custom or user defined errors?\n",
    "### Answer :"
   ]
  },
  {
   "cell_type": "markdown",
   "id": "b8269c79",
   "metadata": {},
   "source": [
    "#### Custom exceptions are user-defined exceptions that are created by a new class derived from the built-in Exception class. They allow users to handle specific errors in their programs with the raise, try, and except keywords1."
   ]
  },
  {
   "cell_type": "markdown",
   "id": "b4d7a9cb",
   "metadata": {},
   "source": [
    "## Q6. Create a custom exception class. Use this class to handl an exception.\n",
    "### Answer :"
   ]
  },
  {
   "cell_type": "code",
   "execution_count": 22,
   "id": "e09b8e76",
   "metadata": {},
   "outputs": [],
   "source": [
    "class ErrorXZ(Exception) :\n",
    "    pass"
   ]
  },
  {
   "cell_type": "code",
   "execution_count": 23,
   "id": "a63fb858",
   "metadata": {},
   "outputs": [
    {
     "name": "stdout",
     "output_type": "stream",
     "text": [
      "Sentence : harshit\n",
      "Length of given sentence is less than 10\n"
     ]
    }
   ],
   "source": [
    "try :\n",
    "    str = input(\"Sentence : \")\n",
    "    if len(str)<10:\n",
    "        raise ErrorXZ\n",
    "except ErrorXZ as x :\n",
    "    print(\"Length of given sentence is less than 10\")"
   ]
  }
 ],
 "metadata": {
  "kernelspec": {
   "display_name": "Python 3 (ipykernel)",
   "language": "python",
   "name": "python3"
  },
  "language_info": {
   "codemirror_mode": {
    "name": "ipython",
    "version": 3
   },
   "file_extension": ".py",
   "mimetype": "text/x-python",
   "name": "python",
   "nbconvert_exporter": "python",
   "pygments_lexer": "ipython3",
   "version": "3.11.4"
  }
 },
 "nbformat": 4,
 "nbformat_minor": 5
}
