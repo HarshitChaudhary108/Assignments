{
 "cells": [
  {
   "cell_type": "markdown",
   "id": "b69483ca-769d-4bea-85ac-98a16c31cd24",
   "metadata": {},
   "source": [
    "## Q1: What are the Probability Mass Function (PMF) and Probability Density Function (PDF)? Explain with an example."
   ]
  },
  {
   "cell_type": "markdown",
   "id": "9751ab3d-3a09-47ea-b1e1-00c3efce2ac5",
   "metadata": {},
   "source": [
    "## Answer \n",
    "#### PDF : Probability Density function tell us about the likelihood of a continuous random variable.\n",
    "#### Example : Let say we have data set of heights of students in a class. If PDF = 170, then most of the students of that class ahve their height around 170.\n",
    "#\n",
    "#### PMF : Probability Mass Function describes the outcome probability of a discrete random variable.\n",
    "#### Example : when we roll a dice, there are 6 outcomes we may have (1,2,3,4,5,6), each outcome has has a probability of 1/6. So, the PMF will be 1/6"
   ]
  },
  {
   "cell_type": "markdown",
   "id": "57c96c94-acc8-422e-b9f3-f368c33dad0a",
   "metadata": {},
   "source": [
    "##  Q2: What is Cumulative Density Function (CDF)? Explain with an example. Why CDF is used?"
   ]
  },
  {
   "cell_type": "markdown",
   "id": "00d2f52e-8cf8-4144-84e8-fd1efe014b1d",
   "metadata": {},
   "source": [
    "## Answer\n",
    "#### In simple terms, CDF is just a running total of probabilities of random variables.\n",
    "#\n",
    "#### Example : A fair dice is rolled. the expected random outcomes (1,2,3,4,5,6)\n",
    "#### CDF : the CDF of rolling a fair dice will cumulate (increasing) the probabilities upto each point.\n",
    "#### like, probability of getting 1 or less, probability of getting 2 or less, probability of getting 3 or less, and so on till probability of getting 6 or less."
   ]
  },
  {
   "cell_type": "markdown",
   "id": "ed323e9d-8c42-4e13-927d-bb7983c70c6f",
   "metadata": {},
   "source": [
    "##  Q3: What are some examples of situations where the normal distribution might be used as a model? Explain how the parameters of the normal distribution relate to the shape of the distribution.."
   ]
  },
  {
   "cell_type": "markdown",
   "id": "790bbada-d91f-43e2-aba5-b8ac5d931040",
   "metadata": {},
   "source": [
    "### HEIGHT :  Height distribution is the very classic example of NORMAL DISTRIBUTION MODEL. Most individuals of a population has a specific height Many people of that specific population has a height lower or greater than the average height. The no. of people having height greater and lower than the average height is equal. HERE IT USES NORMAL DISTRIBUTION MODEL.\n",
    "#\n",
    "### TOSSING A COIN : When we toss a fair coin, it has mainly 2 possible outcomes........... 1. HEADS      2. TAILS            The outcome probability for both heads and tails is same 1/2. hence here comes the NORMAL DISTRIBUTION MODEL.\n",
    "#\n",
    "### ROLLING A DICE : when we roll a fair dice, it has mainly 6 outcomes (1,2,3,4,5,6) and all the outcome has same probability 1/6. When we roll a dice multiple times. the result we get in graph is NORMAL DISTRIBUTION.\n",
    "#\n",
    "## There are 2 parameters of the normal distribution which related to the shape of the distribution.\n",
    "### MEAN\n",
    "#### Mean is also a point of symmetry.\n",
    "#### the larger the mean, the distribution shifts to right.\n",
    "#### The smaller the mean, the distribution shifts to left.\n",
    "#\n",
    "### STANDARD DEVIATION\n",
    "#### Standard deviation tells about the dispersion. \n",
    "#### larger std. -> shorter curve and wider \n",
    "#### smaller std -> longer curve and narrow\n"
   ]
  },
  {
   "cell_type": "markdown",
   "id": "e8a154c2-1133-485c-81ec-a62a8f230443",
   "metadata": {},
   "source": [
    "#"
   ]
  },
  {
   "cell_type": "markdown",
   "id": "0ecbda50-0bdb-4dbc-b0fd-9a98cc5f3a04",
   "metadata": {},
   "source": [
    "## Q4: Explain the importance of Normal Distribution. Give a few real-life examples of Normal Distribution.  "
   ]
  },
  {
   "cell_type": "markdown",
   "id": "0e3c2559-d493-4520-af3e-c4ef74703189",
   "metadata": {},
   "source": [
    "## ANSWER :\n",
    "### IMPORTANCE OF NORMAL DISTRIBUTION\n",
    "#### Finance and Risk Assessment : Stock Prices, risk analysis are all rely on normal distribution.\n",
    "#### IQ Score to Blood Pressure, everything follows a NORMAL Distribution graph.\n",
    "#### Quality Control : We use normal distribution to set control limits, if something goes beyond this limit, it;s a red flag.\n",
    "\n",
    "### REAL LIFE EXAMPLES of NORMAL DISTRIBUTION\n",
    "#### 1. Tossing a coin\n",
    "#### 2. Rolling a Dice\n",
    "#### 3. Height Distribution\n",
    "#### 4. IQ Distribution"
   ]
  },
  {
   "cell_type": "markdown",
   "id": "92dfac96-a533-461c-8756-1ddf3d5c8115",
   "metadata": {},
   "source": [
    "#"
   ]
  },
  {
   "cell_type": "markdown",
   "id": "e3c86355-1cd2-4d3a-92b8-17678ceea418",
   "metadata": {},
   "source": [
    "## 5: What is Bernaulli Distribution? Give an Example. What is the difference between Bernoulli Distribution and Binomial Distribution??"
   ]
  },
  {
   "cell_type": "markdown",
   "id": "390815e8-0429-4a49-b0cd-c7ad0a8afe99",
   "metadata": {},
   "source": [
    "## ANSWER\n",
    "### Bernaulli Distribution : Bernaulli theoram models single trial with two possible outcomes either SUCCESS or FAILURE. example given : Tossing a coin, Either we get heads or tails.\n",
    "#\n",
    "### In Bernaulli theoram, we get 2 possible outcomes for a single trial\n",
    "### binomial distibution represents the no. of successes for n independent trials of bernaulli theoram"
   ]
  },
  {
   "cell_type": "markdown",
   "id": "7ce1e692-0752-4294-a7db-85088228daca",
   "metadata": {},
   "source": [
    "##"
   ]
  },
  {
   "cell_type": "markdown",
   "id": "321924e9-458d-492a-bfbe-0dad3a12cabd",
   "metadata": {},
   "source": [
    "## Q6. Consider a dataset with a mean of 50 and a standard deviation of 10. If we assume that the dataset is normally distributed, what is the probability that a randomly selected observation will be greater than 60? Use the appropriate formula and show your calculations."
   ]
  },
  {
   "cell_type": "code",
   "execution_count": 3,
   "id": "87339943-f1d3-4783-87c4-a6c300009775",
   "metadata": {},
   "outputs": [],
   "source": [
    "mean = 50\n",
    "std = 10\n",
    "x = 60"
   ]
  },
  {
   "cell_type": "code",
   "execution_count": 6,
   "id": "635abd4b-2f9f-413a-9ce0-89d5bb1388a0",
   "metadata": {},
   "outputs": [
    {
     "data": {
      "text/plain": [
       "1.0"
      ]
     },
     "execution_count": 6,
     "metadata": {},
     "output_type": "execute_result"
    }
   ],
   "source": [
    "## finding z_score\n",
    "z_score = (x-mean)/std\n",
    "z_score #the fraction of the data"
   ]
  },
  {
   "cell_type": "code",
   "execution_count": 12,
   "id": "1e2bacec-3c45-4071-bb4d-dc11d218ea43",
   "metadata": {},
   "outputs": [],
   "source": [
    "## Using normal distributed table\n",
    "# P(Z>1) = 0.8423\n",
    "Prob = 1 - 0.8423 "
   ]
  },
  {
   "cell_type": "code",
   "execution_count": 15,
   "id": "89630dc9-5569-4f42-aa0f-dbb62c9c3133",
   "metadata": {},
   "outputs": [
    {
     "data": {
      "text/plain": [
       "0.15769999999999995"
      ]
     },
     "execution_count": 15,
     "metadata": {},
     "output_type": "execute_result"
    }
   ],
   "source": [
    "Prob"
   ]
  },
  {
   "cell_type": "markdown",
   "id": "248a4b17-9e63-4753-b0c9-ffeda1c977c6",
   "metadata": {},
   "source": [
    "#"
   ]
  },
  {
   "cell_type": "markdown",
   "id": "f26c814b-f82e-445e-aae6-de73e483eb83",
   "metadata": {},
   "source": [
    "## Q7: Explain uniform Distribution with an example."
   ]
  },
  {
   "cell_type": "markdown",
   "id": "84661b73-bb23-400f-b9c0-41cf4b6e625e",
   "metadata": {},
   "source": [
    "## Answer \n",
    "#### Uniform Distribution ensures equal probability for all outcomes within a specific range.\n",
    "#\n",
    "#### Example :\n",
    "#### We can take examples of rolling a fair dice and tossing a coin\n",
    "#### When we roll a fair dice, the outcome probability from 1 to 6 remains 1/6\n",
    "#### when we toss a fair coin, the outcome probability for both head and tail is 1/2"
   ]
  },
  {
   "cell_type": "markdown",
   "id": "7de325ac-f4df-451a-84a0-3405103c94b2",
   "metadata": {},
   "source": [
    "#"
   ]
  },
  {
   "cell_type": "markdown",
   "id": "cfff8758-7545-4f32-a6a4-d465d4348f5a",
   "metadata": {},
   "source": [
    "##  Q8: What is the z score? State the importance of the z score."
   ]
  },
  {
   "cell_type": "markdown",
   "id": "a159dd38-5807-432f-a347-721af879b221",
   "metadata": {},
   "source": [
    "## Answer "
   ]
  },
  {
   "cell_type": "markdown",
   "id": "79056af1-5c06-4b0c-85dc-8e89f7d875ff",
   "metadata": {},
   "source": [
    "#### Z Score describes how far the data ooint is away from the mean.\n",
    "#### It describes how the observation stands relative to the mean.\n",
    "#### If the z score is +2, it means the data point is 2 std right from the mean........ If we z_score is -2, it means the data point is 2 std left from the mean."
   ]
  },
  {
   "cell_type": "markdown",
   "id": "f9754ea9-672e-4b48-b3a5-edd19355a89d",
   "metadata": {},
   "source": [
    "### IMPORTANCE :\n",
    "#### It helps us to find probability of an observation.\n",
    "#### It standardize the data and helps to get meaningful analysis\n",
    "#### it helps us to understand the position of the data point to see where an observation fits in the distribution."
   ]
  },
  {
   "cell_type": "markdown",
   "id": "82c10fe7-906f-404a-a3b8-f6218d503853",
   "metadata": {},
   "source": [
    "#"
   ]
  },
  {
   "cell_type": "markdown",
   "id": "849f8364-f4e7-46a8-a493-c2e275c5322d",
   "metadata": {},
   "source": [
    "##  Q9: What is Central Limit Theorem? State the significance of the Central Limit Theorem."
   ]
  },
  {
   "cell_type": "markdown",
   "id": "d91a39a1-11d6-4585-9344-352985f9e50a",
   "metadata": {},
   "source": [
    "## Answer "
   ]
  },
  {
   "cell_type": "markdown",
   "id": "30f4e173-0230-402f-a7bb-358ef2529ddf",
   "metadata": {},
   "source": [
    "## The Centeral distribution theoram states that the sampling distribution of the mean will always be normally distributed as long as the sample size is large enough. Regardless of whether the population is normal. poisson, binomial or belongs to any other distribution, the sampling distribution of the mean will always be Normally Distributed."
   ]
  },
  {
   "cell_type": "markdown",
   "id": "2e1bf43e-1b82-4770-811b-9bf36e1c6e9b",
   "metadata": {},
   "source": [
    "#### CLT helps us to handle the data more accurately even though we don't know the actual distribution of the data.\n",
    "#### CLT helps us by making statistical problems easy for us, by allowing us to work on almost simliar to Normally Distribution."
   ]
  },
  {
   "cell_type": "markdown",
   "id": "81b9e321-c4dd-4a5a-ac91-622abc30dfda",
   "metadata": {},
   "source": [
    "#"
   ]
  },
  {
   "cell_type": "markdown",
   "id": "a93e63af-8f99-4bee-8bef-3d31f7968d9b",
   "metadata": {},
   "source": [
    "## Q10: State the assumptions of the Central Limit Theorem."
   ]
  },
  {
   "cell_type": "markdown",
   "id": "54861d26-cbfd-40eb-ad86-a85f5ce5d40e",
   "metadata": {},
   "source": [
    "## Answer\n",
    "#### 1. Random Sampling - the samples should be drawn randomly from the population data\n",
    "#### 2. Independence - One sample should be independent of other sample\n",
    "#### 3. Size Matters - The sample size shouldn't exceed 10% of the population size"
   ]
  }
 ],
 "metadata": {
  "kernelspec": {
   "display_name": "Python 3 (ipykernel)",
   "language": "python",
   "name": "python3"
  },
  "language_info": {
   "codemirror_mode": {
    "name": "ipython",
    "version": 3
   },
   "file_extension": ".py",
   "mimetype": "text/x-python",
   "name": "python",
   "nbconvert_exporter": "python",
   "pygments_lexer": "ipython3",
   "version": "3.12.2"
  }
 },
 "nbformat": 4,
 "nbformat_minor": 5
}
