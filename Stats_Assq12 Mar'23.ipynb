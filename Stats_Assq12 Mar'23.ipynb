{
 "cells": [
  {
   "cell_type": "markdown",
   "id": "c027fc22-4931-4387-84ea-0be78bc62ebd",
   "metadata": {},
   "source": [
    "## Q1. Calculate the 95% confidence interval for a sample of data with a mean of 50 and a standard deviation of 5 using Python. Interpret the results."
   ]
  },
  {
   "cell_type": "markdown",
   "id": "b832b1fa-ae15-4e79-ab4e-e115a73149cd",
   "metadata": {},
   "source": [
    "## Answer "
   ]
  },
  {
   "cell_type": "code",
   "execution_count": 125,
   "id": "8d3372a3-d631-4fd7-9fef-88e225464896",
   "metadata": {},
   "outputs": [],
   "source": [
    "sample_mean = 50\n",
    "sample_std = 5\n",
    "size = 30 ## assume\n",
    "## To find : CI = ?"
   ]
  },
  {
   "cell_type": "code",
   "execution_count": 126,
   "id": "358be555-b65b-44d6-a386-07a07f6bea78",
   "metadata": {},
   "outputs": [],
   "source": [
    "SE = sample_std/math.sqrt(size)"
   ]
  },
  {
   "cell_type": "code",
   "execution_count": 133,
   "id": "86301c9e-b8ca-4bf7-8330-91d1fc924a87",
   "metadata": {},
   "outputs": [],
   "source": [
    "ME = 1.96 * SE"
   ]
  },
  {
   "cell_type": "code",
   "execution_count": 134,
   "id": "84b350c3-ec8b-4315-b9e9-1ee430d18960",
   "metadata": {},
   "outputs": [
    {
     "name": "stdout",
     "output_type": "stream",
     "text": [
      "(48.21077297881646, 51.78922702118354)\n"
     ]
    }
   ],
   "source": [
    "CI = (sample_mean-ME, sample_mean+ME)\n",
    "print(CI)"
   ]
  },
  {
   "cell_type": "markdown",
   "id": "a22ff061-90fe-4a9d-b6fc-39aaf54147dc",
   "metadata": {},
   "source": [
    "## 2. Conduct a chi-square goodness of fit test to determine if the distribution of colors of M&Ms in a bag matches the expected distribution of 20% blue, 20% orange, 20% green, 10% yellow, 10% red, and 20% brown. Use Python to perform the test with a significance level of 0.05."
   ]
  },
  {
   "cell_type": "markdown",
   "id": "283adb79-28eb-4e3c-9b27-14ef57324804",
   "metadata": {},
   "source": [
    "## Answer "
   ]
  },
  {
   "cell_type": "markdown",
   "id": "3633a397-3a63-4853-b519-d0a12803b1e0",
   "metadata": {},
   "source": [
    "### We can see that we are not given the observed values.\n",
    "#### Let's assume the observed values to be"
   ]
  },
  {
   "cell_type": "code",
   "execution_count": 186,
   "id": "53233235-e917-46e4-bf19-4760318c7b2e",
   "metadata": {},
   "outputs": [],
   "source": [
    "H0 = \"Match with expection\"\n",
    "H1 = \"Not match with exception\""
   ]
  },
  {
   "cell_type": "code",
   "execution_count": 194,
   "id": "9d6e5b24-0221-490d-9b19-39336314227f",
   "metadata": {},
   "outputs": [],
   "source": [
    "observed = [34,67,12,45,23,45]"
   ]
  },
  {
   "cell_type": "code",
   "execution_count": 195,
   "id": "1e6c57a7-25b5-4114-b5d5-c4718f255a51",
   "metadata": {},
   "outputs": [
    {
     "name": "stdout",
     "output_type": "stream",
     "text": [
      "[45.2, 45.2, 45.2, 22.6, 22.6, 45.2]\n"
     ]
    }
   ],
   "source": [
    "expected = [0.20 * sum(observed), 0.20 * sum(observed), 0.20 * sum(observed), 0.10 * sum(observed), 0.10 * sum(observed), 0.20 * sum(observed)]\n",
    "print(expected)"
   ]
  },
  {
   "cell_type": "code",
   "execution_count": 196,
   "id": "1786e2ad-37f2-4544-a0aa-f0e7290b45fe",
   "metadata": {},
   "outputs": [],
   "source": [
    "critical_VAL = 11.070"
   ]
  },
  {
   "cell_type": "code",
   "execution_count": 197,
   "id": "36a7567d-d7ff-4c98-9e4e-0a5f4adb170c",
   "metadata": {},
   "outputs": [],
   "source": [
    "from scipy.stats import chisquare"
   ]
  },
  {
   "cell_type": "code",
   "execution_count": 198,
   "id": "f6478316-9eac-4d0e-b472-1f56dc8eadf2",
   "metadata": {},
   "outputs": [],
   "source": [
    "chi_stat, p_value = chisquare(observed, expected)"
   ]
  },
  {
   "cell_type": "code",
   "execution_count": 199,
   "id": "1fe4d13e-50ff-4dfa-887a-319b0a9512ea",
   "metadata": {},
   "outputs": [
    {
     "name": "stdout",
     "output_type": "stream",
     "text": [
      "Chi-square statistics : 59.884955752212385\n",
      "P - Value : 1.2838427885934795e-11\n"
     ]
    }
   ],
   "source": [
    "print(f\"Chi-square statistics : {chi_stat}\")\n",
    "print(f\"P - Value : {p_value}\")"
   ]
  },
  {
   "cell_type": "code",
   "execution_count": 200,
   "id": "1861c02d-f786-4103-8937-5a9ada7233c2",
   "metadata": {},
   "outputs": [
    {
     "name": "stdout",
     "output_type": "stream",
     "text": [
      "We reject the null hypothesis\n"
     ]
    }
   ],
   "source": [
    "if chi_stat < critical_VAL:\n",
    "    print(\"We fail to reject null hypothesis\")\n",
    "else:\n",
    "    print(\"We reject the null hypothesis\")"
   ]
  },
  {
   "cell_type": "markdown",
   "id": "fc7ef261-c572-4c62-a888-3b7a8bf68139",
   "metadata": {},
   "source": [
    "## We can oberve here with the calculations "
   ]
  },
  {
   "cell_type": "markdown",
   "id": "89366f42-ffb8-403e-a9ff-047a98e39db8",
   "metadata": {},
   "source": [
    "#### It's not goodness for fit test"
   ]
  },
  {
   "cell_type": "markdown",
   "id": "8ac26aef-addd-4662-83ff-f8d82e2f35fa",
   "metadata": {},
   "source": [
    "## "
   ]
  },
  {
   "cell_type": "markdown",
   "id": "09abb4e6-fea2-4ef5-b4d9-4a3f69721e69",
   "metadata": {},
   "source": [
    "## Q3. Use Python to calculate the chi-square statistic and p-value for a contingency table with the following data:"
   ]
  },
  {
   "cell_type": "code",
   "execution_count": 94,
   "id": "bc7a3aaf-8f90-4f7d-8717-8dc588fe2c9b",
   "metadata": {},
   "outputs": [],
   "source": [
    "from scipy.stats import chi2_contingency"
   ]
  },
  {
   "cell_type": "code",
   "execution_count": 95,
   "id": "73b9fa0f-eaee-41fe-959e-82cbcb5483df",
   "metadata": {},
   "outputs": [],
   "source": [
    "data = [\n",
    "    [20, 10, 15],\n",
    "    [15, 25, 20]\n",
    "]\n"
   ]
  },
  {
   "cell_type": "code",
   "execution_count": 96,
   "id": "9c1ef3b6-85b4-48b5-80a2-2dd6a894c1e5",
   "metadata": {},
   "outputs": [],
   "source": [
    "stats, pvalue, dof, array = chi2_contingency(data)"
   ]
  },
  {
   "cell_type": "code",
   "execution_count": 97,
   "id": "fb51a912-c86b-459e-bd05-c1c8219367af",
   "metadata": {},
   "outputs": [
    {
     "name": "stdout",
     "output_type": "stream",
     "text": [
      "Chi-stats : 5.833333333333334\n",
      "pvalue : 0.05411376622282158\n",
      "dof : 2\n",
      "array: [[15. 15. 15.]\n",
      " [20. 20. 20.]]\n"
     ]
    }
   ],
   "source": [
    "print(f\"Chi-stats : {stats}\")\n",
    "print(f\"pvalue : {pvalue}\")\n",
    "print(f\"dof : {dof}\")\n",
    "print(f\"array: {array}\")"
   ]
  },
  {
   "cell_type": "markdown",
   "id": "65210f69-24a0-4739-9ffe-0568f9557473",
   "metadata": {},
   "source": [
    "## "
   ]
  },
  {
   "cell_type": "markdown",
   "id": "b2e9bf9d-5dc6-4bf8-ad51-ad7f537b129a",
   "metadata": {},
   "source": [
    "## Q4. A study of the prevalence of smoking in a population of 500 individuals found that 60 individuals smoked. Use Python to calculate the 95% confidence interval for the true proportion of individuals in the population who smoke."
   ]
  },
  {
   "cell_type": "markdown",
   "id": "271a46d3-b1c7-4822-845d-8dc677baa923",
   "metadata": {},
   "source": [
    "## Answer "
   ]
  },
  {
   "cell_type": "code",
   "execution_count": 98,
   "id": "73a6406e-6125-4aed-aa94-debacdae4f19",
   "metadata": {},
   "outputs": [],
   "source": [
    "n = 500\n",
    "x = 60\n",
    "\n",
    "sample_proportion = x/n"
   ]
  },
  {
   "cell_type": "code",
   "execution_count": 99,
   "id": "f7944b35-7c14-48bd-a4e6-1c5d5d4d6349",
   "metadata": {},
   "outputs": [
    {
     "data": {
      "text/plain": [
       "0.12"
      ]
     },
     "execution_count": 99,
     "metadata": {},
     "output_type": "execute_result"
    }
   ],
   "source": [
    "sample_proportion"
   ]
  },
  {
   "cell_type": "code",
   "execution_count": 100,
   "id": "81259394-b331-4615-9ea1-f0b9334f0d0b",
   "metadata": {},
   "outputs": [],
   "source": [
    "SE = maths.sqrt(sample_proportion * (1-sample_proportion) / n)"
   ]
  },
  {
   "cell_type": "code",
   "execution_count": 101,
   "id": "55ccbb23-d67f-4a92-ae66-a6680b12ee4a",
   "metadata": {},
   "outputs": [
    {
     "data": {
      "text/plain": [
       "0.014532721699667961"
      ]
     },
     "execution_count": 101,
     "metadata": {},
     "output_type": "execute_result"
    }
   ],
   "source": [
    "SE"
   ]
  },
  {
   "cell_type": "code",
   "execution_count": 102,
   "id": "fffc4f67-087d-45af-bcad-f9de58cd50cb",
   "metadata": {},
   "outputs": [],
   "source": [
    "zscore_95 = 1.96\n",
    "zscore = zscore_95"
   ]
  },
  {
   "cell_type": "code",
   "execution_count": 103,
   "id": "3f91615d-6129-42d2-8184-4ec2adb3ebb1",
   "metadata": {},
   "outputs": [],
   "source": [
    "ME = zscore * SE"
   ]
  },
  {
   "cell_type": "code",
   "execution_count": 104,
   "id": "a21d4974-a1cd-467f-8937-f5a51e78edf3",
   "metadata": {},
   "outputs": [
    {
     "data": {
      "text/plain": [
       "0.028484134531349202"
      ]
     },
     "execution_count": 104,
     "metadata": {},
     "output_type": "execute_result"
    }
   ],
   "source": [
    "ME"
   ]
  },
  {
   "cell_type": "code",
   "execution_count": 105,
   "id": "1e8b465a-4f24-4f7a-aaee-392e832360fe",
   "metadata": {},
   "outputs": [],
   "source": [
    "CI = (sample_proportion - ME, sample_proportion + ME)"
   ]
  },
  {
   "cell_type": "code",
   "execution_count": 106,
   "id": "4a4cf617-9a4a-4e26-afca-5b7181c839da",
   "metadata": {},
   "outputs": [
    {
     "data": {
      "text/plain": [
       "(0.09151586546865079, 0.1484841345313492)"
      ]
     },
     "execution_count": 106,
     "metadata": {},
     "output_type": "execute_result"
    }
   ],
   "source": [
    "CI"
   ]
  },
  {
   "cell_type": "markdown",
   "id": "2733e382-80d0-4286-9b54-de167933cd39",
   "metadata": {},
   "source": [
    "## "
   ]
  },
  {
   "cell_type": "markdown",
   "id": "99f42c14-d6de-4081-9777-f93e55d887c7",
   "metadata": {},
   "source": [
    "## 5. Calculate the 90% confidence interval for a sample of data with a mean of 75 and a standard deviation of 12 using Python. Interpret the results."
   ]
  },
  {
   "cell_type": "markdown",
   "id": "d4164207-3ddc-4371-92bb-170522299c66",
   "metadata": {},
   "source": [
    "## Answer "
   ]
  },
  {
   "cell_type": "markdown",
   "id": "117c4ce6-d4b0-41d6-ade9-a69cf613ab14",
   "metadata": {},
   "source": [
    "#### As we are not given the sample size and we'll need to find the margin of error to calculate the confidence interval for a sample data.\n",
    "#### Let's assume n = 30"
   ]
  },
  {
   "cell_type": "code",
   "execution_count": 107,
   "id": "5a13bbb9-a9a4-4249-81c5-ca397cf58a5a",
   "metadata": {},
   "outputs": [],
   "source": [
    "n = 30\n",
    "x = 75\n",
    "std = 12"
   ]
  },
  {
   "cell_type": "code",
   "execution_count": 108,
   "id": "2dd92815-6efe-4cee-86dc-b75cf86006e5",
   "metadata": {},
   "outputs": [],
   "source": [
    "alpha = 0.10"
   ]
  },
  {
   "cell_type": "code",
   "execution_count": 113,
   "id": "f79dcc82-4352-499b-8611-9918de38c49d",
   "metadata": {},
   "outputs": [],
   "source": [
    "SE = std/math.sqrt(n)"
   ]
  },
  {
   "cell_type": "code",
   "execution_count": 114,
   "id": "9d4666aa-9b24-4652-98bd-9c7b369ac7d5",
   "metadata": {},
   "outputs": [
    {
     "data": {
      "text/plain": [
       "1.6448536269514722"
      ]
     },
     "execution_count": 114,
     "metadata": {},
     "output_type": "execute_result"
    }
   ],
   "source": [
    "import scipy.stats as stats\n",
    "z_score = stats.norm.ppf((1+0.90)/2)\n",
    "z_score"
   ]
  },
  {
   "cell_type": "code",
   "execution_count": 115,
   "id": "70920e15-db81-4f81-a69a-e05559f873a0",
   "metadata": {},
   "outputs": [],
   "source": [
    "ME = z_score + SE"
   ]
  },
  {
   "cell_type": "code",
   "execution_count": 116,
   "id": "f4ef87e1-a47f-48f4-b0a1-2d101fff7691",
   "metadata": {},
   "outputs": [
    {
     "data": {
      "text/plain": [
       "3.8357438569721367"
      ]
     },
     "execution_count": 116,
     "metadata": {},
     "output_type": "execute_result"
    }
   ],
   "source": [
    "ME"
   ]
  },
  {
   "cell_type": "code",
   "execution_count": 117,
   "id": "12c4079e-a4df-44f0-a114-12676b2346dc",
   "metadata": {},
   "outputs": [],
   "source": [
    "CI = (x - ME, x + ME)"
   ]
  },
  {
   "cell_type": "code",
   "execution_count": 118,
   "id": "46ef553d-6934-481b-9b57-c6a7b71565ee",
   "metadata": {},
   "outputs": [
    {
     "data": {
      "text/plain": [
       "(71.16425614302787, 78.83574385697213)"
      ]
     },
     "execution_count": 118,
     "metadata": {},
     "output_type": "execute_result"
    }
   ],
   "source": [
    "CI"
   ]
  },
  {
   "cell_type": "markdown",
   "id": "2ea917bd-1877-4e82-95e5-b51f5162dda2",
   "metadata": {},
   "source": [
    "#"
   ]
  },
  {
   "cell_type": "markdown",
   "id": "027dbfc3-cb4d-4909-9bbd-51924a411154",
   "metadata": {},
   "source": [
    "## Q7. A random sample of 1000 people was asked if they preferred Coke or Pepsi. Of the sample, 520 preferred Coke. Calculate a 99% confidence interval for the true proportion of people in the population who prefer Coke."
   ]
  },
  {
   "cell_type": "code",
   "execution_count": 33,
   "id": "b3c84b5c-97a6-43e3-9779-a6f89b106ff8",
   "metadata": {},
   "outputs": [],
   "source": [
    "n = 1000"
   ]
  },
  {
   "cell_type": "code",
   "execution_count": 119,
   "id": "f31829a3-5b00-47da-931d-921b825d45e5",
   "metadata": {},
   "outputs": [
    {
     "data": {
      "text/plain": [
       "2.5758293035489004"
      ]
     },
     "execution_count": 119,
     "metadata": {},
     "output_type": "execute_result"
    }
   ],
   "source": [
    "zscore = stats.norm.ppf((1+0.99)/2)\n",
    "zscore"
   ]
  },
  {
   "cell_type": "code",
   "execution_count": 120,
   "id": "a360caee-d830-45c7-910b-f7b3815980e7",
   "metadata": {},
   "outputs": [],
   "source": [
    "SE = maths.sqrt(0.52 * (1-0.52)/1000)"
   ]
  },
  {
   "cell_type": "code",
   "execution_count": 35,
   "id": "3a93fc16-1bda-48e1-8d34-d2cada8d6bd3",
   "metadata": {},
   "outputs": [],
   "source": [
    "ME = zscore * SE "
   ]
  },
  {
   "cell_type": "code",
   "execution_count": 36,
   "id": "dfec243c-f2f6-4cfc-befb-ccb78efa51d9",
   "metadata": {},
   "outputs": [],
   "source": [
    "CI = (0.52 - ME, 0.52 + ME)"
   ]
  },
  {
   "cell_type": "code",
   "execution_count": 37,
   "id": "af77ca4a-2488-4e1b-9f59-e9dc3dc9dce0",
   "metadata": {},
   "outputs": [
    {
     "data": {
      "text/plain": [
       "(0.49151586546865084, 0.5484841345313493)"
      ]
     },
     "execution_count": 37,
     "metadata": {},
     "output_type": "execute_result"
    }
   ],
   "source": [
    "CI "
   ]
  },
  {
   "cell_type": "markdown",
   "id": "65cd6d4b-e454-4b29-9e0d-ead7778cf83f",
   "metadata": {},
   "source": [
    "##"
   ]
  },
  {
   "cell_type": "markdown",
   "id": "1b867d00-f3eb-4364-b03c-abddc62a5277",
   "metadata": {},
   "source": [
    "## Q8. A researcher hypothesizes that a coin is biased towards tails. They flip the coin 100 times and observe 45 tails. Conduct a chi-square goodness of fit test to determine if the observed frequencies match the expected frequencies of a fair coin. Use a significance level of 0.05"
   ]
  },
  {
   "cell_type": "markdown",
   "id": "6efa79ee-e7e3-49f1-85c6-18eb6b86a66c",
   "metadata": {},
   "source": [
    "## Answer  "
   ]
  },
  {
   "cell_type": "code",
   "execution_count": 38,
   "id": "769d0c46-10dd-48e8-91be-f01b70ad12fb",
   "metadata": {},
   "outputs": [],
   "source": [
    "H0 = \"coin is biased towards tails\"\n",
    "H1 = \"coin is not biased towards tails\""
   ]
  },
  {
   "cell_type": "code",
   "execution_count": 39,
   "id": "60bf474d-8255-466d-968a-17e3e8563d85",
   "metadata": {},
   "outputs": [],
   "source": [
    "alpha = 0.05"
   ]
  },
  {
   "cell_type": "code",
   "execution_count": 40,
   "id": "6f417d98-2762-461d-809f-4c29699a54ab",
   "metadata": {},
   "outputs": [],
   "source": [
    "critical_value = 3.841 ## from chi-square table"
   ]
  },
  {
   "cell_type": "code",
   "execution_count": 121,
   "id": "0b291ff6-1a7a-4310-bbad-fa4c63f23788",
   "metadata": {},
   "outputs": [],
   "source": [
    "obs = [55,45]\n",
    "exp = [50,50]"
   ]
  },
  {
   "cell_type": "code",
   "execution_count": 122,
   "id": "592da246-a113-4131-8e59-7572000ad385",
   "metadata": {},
   "outputs": [],
   "source": [
    "chi_sq_stats, pvalue = stats.chisquare(obs, exp, 1)"
   ]
  },
  {
   "cell_type": "code",
   "execution_count": 123,
   "id": "50436f58-00d3-4eae-8fc7-f4f57f49098c",
   "metadata": {},
   "outputs": [],
   "source": [
    "chi_stats = chi_sq_stats"
   ]
  },
  {
   "cell_type": "code",
   "execution_count": 124,
   "id": "a5f61fcb-c228-4123-b7ff-34f36d41e11a",
   "metadata": {},
   "outputs": [
    {
     "name": "stdout",
     "output_type": "stream",
     "text": [
      "We fail to reject the null hypothesis\n"
     ]
    }
   ],
   "source": [
    "if chi_stats < critical_value:\n",
    "    print(\"We fail to reject the null hypothesis\")\n",
    "else:\n",
    "    print(\"We reject the null hypothesis\")"
   ]
  },
  {
   "cell_type": "markdown",
   "id": "b6fc5ebd-d492-4872-8aae-21c3c10f593b",
   "metadata": {},
   "source": [
    "## "
   ]
  },
  {
   "cell_type": "markdown",
   "id": "b36d1e53-b800-4f86-aedf-98053a5284ad",
   "metadata": {},
   "source": [
    "## 9. A study was conducted to determine if there is an association between smoking status (smoker or non-smoker) and lung cancer diagnosis (yes or no). The results are shown in the contingency table below. Conduct a chi-square test for independence to determine if there is a significant association between smoking status and lung cancer diagnosis."
   ]
  },
  {
   "cell_type": "markdown",
   "id": "c352b745-5999-4a01-98ca-a3ac0cf38b97",
   "metadata": {},
   "source": [
    "## Use a significance level of 0.05."
   ]
  },
  {
   "cell_type": "code",
   "execution_count": 44,
   "id": "f32fcbf9-dd1a-4a2a-84f2-49a6aa20c079",
   "metadata": {},
   "outputs": [],
   "source": [
    "##              | Cancer Yes | Cancer No\n",
    "## _____________|____________|____________\n",
    "## Smoker       |    60      |  140\n",
    "## Non - Smoker |    30      |  170"
   ]
  },
  {
   "cell_type": "code",
   "execution_count": 45,
   "id": "50880ad6-edc4-4585-917f-6cd13d36d826",
   "metadata": {},
   "outputs": [],
   "source": [
    "H0 = \"There is no association b/w both\"\n",
    "H1 = \"there is significant association b/w both\""
   ]
  },
  {
   "cell_type": "code",
   "execution_count": 46,
   "id": "de7e42ec-c562-4373-ad3e-06f48439e3e5",
   "metadata": {},
   "outputs": [],
   "source": [
    "dof = 1\n",
    "alpha = 0.05"
   ]
  },
  {
   "cell_type": "code",
   "execution_count": 47,
   "id": "31af762d-0772-4078-acd3-7bf20becd135",
   "metadata": {},
   "outputs": [],
   "source": [
    "criticalValue = 3.841 ## Using the chi-square table"
   ]
  },
  {
   "cell_type": "code",
   "execution_count": 48,
   "id": "edb7bdf0-d1db-4c84-8364-defa63fc222d",
   "metadata": {},
   "outputs": [],
   "source": [
    "import numpy as np\n",
    "table = np.array([[60, 140], [30, 170]])"
   ]
  },
  {
   "cell_type": "code",
   "execution_count": 49,
   "id": "63462f57-5e36-40c6-b2a4-7214d8fea0e5",
   "metadata": {},
   "outputs": [],
   "source": [
    "chi_stats, pvalue, dof, freq = chi2(table)"
   ]
  },
  {
   "cell_type": "code",
   "execution_count": 50,
   "id": "04a9e7bf-8dac-48c0-b2e4-31cf7ad3b39c",
   "metadata": {},
   "outputs": [
    {
     "name": "stdout",
     "output_type": "stream",
     "text": [
      "chi stats : 12.057347670250895\n"
     ]
    }
   ],
   "source": [
    "chi_stats = print(f\"chi stats : {chi_stats}\")"
   ]
  },
  {
   "cell_type": "markdown",
   "id": "fdd9fe81-98cf-459d-bb71-2ebd744923cc",
   "metadata": {},
   "source": [
    "## We can obeserve from the calculations that the critical value is lesser than the chi stats result. HENCE, We can say that we reject the null hypothesis."
   ]
  },
  {
   "cell_type": "markdown",
   "id": "9e3a24ca-16b3-4a08-9cf6-4f9bdae31c00",
   "metadata": {},
   "source": [
    "## "
   ]
  },
  {
   "cell_type": "markdown",
   "id": "15bb1a0d-bd6a-407a-94d0-c7e769ec963a",
   "metadata": {},
   "source": [
    "##  Q10. A study was conducted to determine if the proportion of people who prefer milk chocolate, dark chocolate, or white chocolate is different in the U.S. versus the U.K. A random sample of 500 people from the U.S. and a random sample of 500 people from the U.K. were surveyed. The results are shown in the contingency table below. Conduct a chi-square test for independence to determine if there is a significant association between chocolate preference and country of origin. Use a significance level of 0.01."
   ]
  },
  {
   "cell_type": "code",
   "execution_count": 51,
   "id": "03b13864-8b1c-4e11-884f-a64effdc849b",
   "metadata": {},
   "outputs": [],
   "source": [
    "##              | Milk Choco | Dark Choco | White Choco\n",
    "## _____________|____________|____________|____________\n",
    "## US (n = 500) |    200      |  150       |   150\n",
    "## UK (n = 500) |    225      |  175       |   100"
   ]
  },
  {
   "cell_type": "code",
   "execution_count": 52,
   "id": "4ed2bbf7-0d38-45d4-bfd0-ad39cf0eb73a",
   "metadata": {},
   "outputs": [],
   "source": [
    "nUS = 500\n",
    "nUK = 500"
   ]
  },
  {
   "cell_type": "code",
   "execution_count": 53,
   "id": "801c8b92-3044-4887-a5ee-ff3a12986b8b",
   "metadata": {},
   "outputs": [],
   "source": [
    "H0 = \"There is no significant association b/w both\"\n",
    "H1 = \"There is significant association b/w both\""
   ]
  },
  {
   "cell_type": "code",
   "execution_count": 54,
   "id": "179d1704-8d80-4ca8-befa-72292f84fd99",
   "metadata": {},
   "outputs": [],
   "source": [
    "aplha = 0.01"
   ]
  },
  {
   "cell_type": "code",
   "execution_count": 55,
   "id": "4ec67c28-3e5e-428a-a1f9-f037c509f17f",
   "metadata": {},
   "outputs": [],
   "source": [
    "criticalVAl = 6.635"
   ]
  },
  {
   "cell_type": "code",
   "execution_count": 59,
   "id": "6c8f090a-ecb6-49a2-a9d9-caebee7740b9",
   "metadata": {},
   "outputs": [],
   "source": [
    "data = [[200,150,150], [225, 175, 100]]"
   ]
  },
  {
   "cell_type": "code",
   "execution_count": 60,
   "id": "f457e4e2-518b-466e-9981-6df88d9fff81",
   "metadata": {},
   "outputs": [
    {
     "data": {
      "text/plain": [
       "Chi2ContingencyResult(statistic=13.393665158371041, pvalue=0.0012348168997745915, dof=2, expected_freq=array([[212.5, 162.5, 125. ],\n",
       "       [212.5, 162.5, 125. ]]))"
      ]
     },
     "execution_count": 60,
     "metadata": {},
     "output_type": "execute_result"
    }
   ],
   "source": [
    "stats.chi2_contingency(data)"
   ]
  },
  {
   "cell_type": "code",
   "execution_count": 61,
   "id": "7d7dc34e-43a8-4dd0-99ec-ff0ea18be9ab",
   "metadata": {},
   "outputs": [],
   "source": [
    "Chi_stats = 13.39"
   ]
  },
  {
   "cell_type": "code",
   "execution_count": 62,
   "id": "cb85b2c6-c653-4414-be30-c10714e616ab",
   "metadata": {},
   "outputs": [
    {
     "name": "stdout",
     "output_type": "stream",
     "text": [
      "We reject the null hypothesis\n"
     ]
    }
   ],
   "source": [
    "if Chi_stats < criticalVAl:\n",
    "    print(\"We fail to reject Null Hypothesis\")\n",
    "else:\n",
    "    print(\"We reject the null hypothesis\")"
   ]
  },
  {
   "cell_type": "markdown",
   "id": "a7232a85-4d99-4179-938b-5c390e03bd23",
   "metadata": {},
   "source": [
    "## "
   ]
  },
  {
   "cell_type": "markdown",
   "id": "647ec83e-681d-46ef-95ea-892801f90bfe",
   "metadata": {},
   "source": [
    "## Q11. A random sample of 30 people was selected from a population with an unknown mean and standard deviation. The sample mean was found to be 72 and the sample standard deviation was found to be 10. Conduct a hypothesis test to determine if the population mean is significantly different from 70. Use a significance level of 0.05."
   ]
  },
  {
   "cell_type": "markdown",
   "id": "09879b21-3a0a-432f-b728-eab30190eb15",
   "metadata": {},
   "source": [
    "## Answer "
   ]
  },
  {
   "cell_type": "code",
   "execution_count": 65,
   "id": "c4bd1392-0cff-48b1-8cf1-dbafd5ccc375",
   "metadata": {},
   "outputs": [],
   "source": [
    "n = 30\n",
    "sample_mean = 72\n",
    "sample_std = 10\n",
    "aplha = 0.05"
   ]
  },
  {
   "cell_type": "code",
   "execution_count": 66,
   "id": "d41ac9c0-9094-41d9-93f3-57544e3dd450",
   "metadata": {},
   "outputs": [],
   "source": [
    "H0 = \"Pop_mean = 70\"\n",
    "H1 = \"Pop_mean not equal to 70\""
   ]
  },
  {
   "cell_type": "code",
   "execution_count": 74,
   "id": "e7a57ffb-3508-4bae-8a50-68a2edfd1fa8",
   "metadata": {},
   "outputs": [],
   "source": [
    "t_stats, p_value = stats.ttest_1samp(a=np.random.normal(loc = sample_mean,scale = sample_std, size = n),popmean=70)"
   ]
  },
  {
   "cell_type": "code",
   "execution_count": 77,
   "id": "5859287f-1444-4ec0-8611-be30d48bf6e3",
   "metadata": {},
   "outputs": [
    {
     "data": {
      "text/plain": [
       "(1.1433962945721183, 0.0005158863863703744)"
      ]
     },
     "execution_count": 77,
     "metadata": {},
     "output_type": "execute_result"
    }
   ],
   "source": [
    "t_stats, pvalue"
   ]
  },
  {
   "cell_type": "code",
   "execution_count": 111,
   "id": "966166eb-b83d-4708-86cd-c9a424b84f2c",
   "metadata": {},
   "outputs": [
    {
     "name": "stdout",
     "output_type": "stream",
     "text": [
      "We fail to reject null hypothesis\n"
     ]
    }
   ],
   "source": [
    "if pvalue < alpha :\n",
    "    print(\"We fail to reject null hypothesis\")\n",
    "else:\n",
    "    print(\"We reject the null hypothesis\")"
   ]
  }
 ],
 "metadata": {
  "kernelspec": {
   "display_name": "Python 3 (ipykernel)",
   "language": "python",
   "name": "python3"
  },
  "language_info": {
   "codemirror_mode": {
    "name": "ipython",
    "version": 3
   },
   "file_extension": ".py",
   "mimetype": "text/x-python",
   "name": "python",
   "nbconvert_exporter": "python",
   "pygments_lexer": "ipython3",
   "version": "3.12.2"
  }
 },
 "nbformat": 4,
 "nbformat_minor": 5
}
