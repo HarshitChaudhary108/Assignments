{
 "cells": [
  {
   "cell_type": "markdown",
   "id": "52a5e7be-5437-4647-8c8d-e6169b0ec16f",
   "metadata": {},
   "source": [
    "## Q1: What is Estimation Statistics? Explain point estimate and interval estimate."
   ]
  },
  {
   "cell_type": "markdown",
   "id": "fb398b07-1956-4352-84eb-4949e049e06c",
   "metadata": {},
   "source": [
    "## Answer \n",
    "### Estimation in statistics refers to the pricess of finding the value of population data with the help of sample data.\n",
    "### Point Estimation\n",
    "#### In Point Estimation, a single point data helps us to find the result value of the population data.\n",
    "### Interval Estimation\n",
    "#### In interval estimation, we expect the population paramter to get the value lie somewhere between an interval."
   ]
  },
  {
   "cell_type": "markdown",
   "id": "f27aa477-8fb0-4ee2-8857-461ca2fa1398",
   "metadata": {},
   "source": [
    "#"
   ]
  },
  {
   "cell_type": "markdown",
   "id": "50286b25-1d2f-4b46-8943-f21f27035e46",
   "metadata": {},
   "source": [
    "## 2. Write a Python function to estimate the population mean using a sample mean and standard deviation."
   ]
  },
  {
   "cell_type": "markdown",
   "id": "90ebf52f-a777-4e1d-aaae-162fec1df89b",
   "metadata": {},
   "source": [
    "## Answer "
   ]
  },
  {
   "cell_type": "code",
   "execution_count": 3,
   "id": "8a8f7118-24e6-45b1-965e-c3b123107e82",
   "metadata": {},
   "outputs": [],
   "source": [
    "def estimated_popMean(sample_mean, sample_std, sample_size):\n",
    "    estimatedPopMean = sample_mean * (sample_size**0.5)/sample_std\n",
    "    return estimatedPopMean"
   ]
  },
  {
   "cell_type": "code",
   "execution_count": 4,
   "id": "5e7066ab-e688-48e9-9d7c-3506f5ee7a40",
   "metadata": {},
   "outputs": [
    {
     "data": {
      "text/plain": [
       "26.666666666666668"
      ]
     },
     "execution_count": 4,
     "metadata": {},
     "output_type": "execute_result"
    }
   ],
   "source": [
    "Sample_mean = 40\n",
    "Sample_std = 15\n",
    "Sample_size = 100\n",
    "estimated_popMean(Sample_mean, Sample_std, Sample_size)"
   ]
  },
  {
   "cell_type": "markdown",
   "id": "161866c6-e2c2-4a32-8bb0-1bc9d70c76a1",
   "metadata": {},
   "source": [
    "#"
   ]
  },
  {
   "cell_type": "markdown",
   "id": "a2d788c0-c18e-4ba0-8830-33f55ea50969",
   "metadata": {},
   "source": [
    "##  Q3: What is Hypothesis testing? Why is it used? State the importance of Hypothesis testing."
   ]
  },
  {
   "cell_type": "markdown",
   "id": "43a5f7f7-af47-41bd-bcd7-a430b7deb7a9",
   "metadata": {},
   "source": [
    "## Answer"
   ]
  },
  {
   "cell_type": "markdown",
   "id": "518f60b1-72cf-4564-b2bf-2b5beac6ee6e",
   "metadata": {},
   "source": [
    "### Hypothesis testing is a statistical approach to conclude the population using sample data. It helps the researchers to make decisions using the experimental data.\n",
    "### it evaluates two mutually exclusive statements to check weather which is properly getting fit for the population as per the sample data.\n",
    "### IMPORTANCE :\n",
    "#### It helps the researchers to make experimental decisions based on the sample data.\n",
    "#### validates or rejects the hypothesis about population parameters.\n",
    "#### essential for researches and meaningful conclusions."
   ]
  },
  {
   "cell_type": "markdown",
   "id": "d2d694f7-8ebe-49e4-a992-7a3058208472",
   "metadata": {},
   "source": [
    "## "
   ]
  },
  {
   "cell_type": "markdown",
   "id": "8ddaebf5-4084-4e4f-831b-3f50f6936543",
   "metadata": {},
   "source": [
    "## Q4. Create a hypothesis that states whether the average weight of male college students is greater than the average weight of female college students.."
   ]
  },
  {
   "cell_type": "markdown",
   "id": "c7d12ebc-118c-44fe-93f6-a3f044d47bb4",
   "metadata": {},
   "source": [
    "## Answer\n",
    "### Null Hypothesis : The average height of male college students is greater than the average weight of female college students.\n",
    "### Alternate Hypothesis : the average height of male college students is not greater than the average weight of female college students."
   ]
  },
  {
   "cell_type": "markdown",
   "id": "c37f029e-cad0-4514-a083-9030150a650a",
   "metadata": {},
   "source": [
    "##\n"
   ]
  },
  {
   "cell_type": "markdown",
   "id": "9295d17b-4034-4f53-9fb5-99f5e92c68b9",
   "metadata": {},
   "source": [
    "## Q5. Write a Python script to conduct a hypothesis test on the difference between two population means, given a sample from each population."
   ]
  },
  {
   "cell_type": "markdown",
   "id": "1d8bd39e-525d-44b9-af3b-54145a6a8d09",
   "metadata": {},
   "source": [
    "## Answer "
   ]
  },
  {
   "cell_type": "markdown",
   "id": "fe62c7a1-6c30-407d-929a-cfc8489cc502",
   "metadata": {},
   "source": [
    "#### Suppose we want to test whether the mean weight of a certain species of turtles is equal to 310 pounds. We collect a simple random sample of turtle weights"
   ]
  },
  {
   "cell_type": "code",
   "execution_count": 5,
   "id": "51a1a9b6-aded-400d-9a15-4d8a3abd4dac",
   "metadata": {},
   "outputs": [],
   "source": [
    "sample1 = [300, 315, 320, 311, 314, 309, 300, 308, 305, 303, 305, 301, 303]"
   ]
  },
  {
   "cell_type": "code",
   "execution_count": 6,
   "id": "6d054682-1e29-4d12-b86b-f5958d3055b1",
   "metadata": {},
   "outputs": [],
   "source": [
    "import scipy.stats as stats"
   ]
  },
  {
   "cell_type": "code",
   "execution_count": 7,
   "id": "8eb1e70f-7cbc-467b-b3b9-37e34256240c",
   "metadata": {},
   "outputs": [],
   "source": [
    "result = stats.ttest_1samp(a=sample1, popmean=310)"
   ]
  },
  {
   "cell_type": "code",
   "execution_count": 8,
   "id": "fa82647c-9a0c-4953-b31e-66a39235ef7e",
   "metadata": {},
   "outputs": [
    {
     "data": {
      "text/plain": [
       "0.13899442751587526"
      ]
     },
     "execution_count": 8,
     "metadata": {},
     "output_type": "execute_result"
    }
   ],
   "source": [
    "## AS per CLT rule, we consider it's graph as NORMAL or Gaussian Graph.\n",
    "\n",
    "significance_value = 0.05\n",
    "result.pvalue"
   ]
  },
  {
   "cell_type": "markdown",
   "id": "e20e9d78-5004-4ee4-b50c-489be7094fbf",
   "metadata": {},
   "source": [
    "#### The p value is less greater than the significance value, hence we fail to reject the null hypothesis."
   ]
  },
  {
   "cell_type": "markdown",
   "id": "52c47cb7-b218-46de-bb90-a12505579c0d",
   "metadata": {},
   "source": [
    "## "
   ]
  },
  {
   "cell_type": "markdown",
   "id": "1dbd7c3e-b3f7-4d8e-999e-5465fdf6c1cc",
   "metadata": {},
   "source": [
    "## 2-Sample T-Test"
   ]
  },
  {
   "cell_type": "code",
   "execution_count": 9,
   "id": "37ab1ec6-9392-4428-b0ae-eee81997aa9a",
   "metadata": {},
   "outputs": [],
   "source": [
    "sample1 = [300, 315, 320, 311, 314, 309, 300, 308, 305, 303, 305, 301, 303]\n",
    "sample2 = [335, 329, 322, 321, 324, 319, 304, 308, 305, 311, 307, 300, 305]"
   ]
  },
  {
   "cell_type": "code",
   "execution_count": 10,
   "id": "40f20a21-4300-4386-ad12-b56874e6ca28",
   "metadata": {},
   "outputs": [],
   "source": [
    "result = stats.ttest_ind(a=sample1, b=sample2)"
   ]
  },
  {
   "cell_type": "code",
   "execution_count": 11,
   "id": "4a941fba-c017-4e4c-9253-05f83fde832c",
   "metadata": {},
   "outputs": [
    {
     "data": {
      "text/plain": [
       "0.04633501389516513"
      ]
     },
     "execution_count": 11,
     "metadata": {},
     "output_type": "execute_result"
    }
   ],
   "source": [
    "result.pvalue"
   ]
  },
  {
   "cell_type": "markdown",
   "id": "e3cc2cc3-ff58-453e-b87f-3bc21463e686",
   "metadata": {},
   "source": [
    "#### the p_value is lower than the significance value, hence we reject the null hypothesis in this case."
   ]
  },
  {
   "cell_type": "markdown",
   "id": "de531f1e-04a0-429a-9ddb-12ed6e55ef19",
   "metadata": {},
   "source": [
    "## "
   ]
  },
  {
   "cell_type": "markdown",
   "id": "cd21b1b1-4b33-4296-a9e8-9e803573fc88",
   "metadata": {},
   "source": [
    "## Q6. What is a null and alternative hypothesis? Give some examples."
   ]
  },
  {
   "cell_type": "markdown",
   "id": "7dfc30fb-0995-4dc1-af62-6675431f3d39",
   "metadata": {},
   "source": [
    "## Answer "
   ]
  },
  {
   "cell_type": "markdown",
   "id": "47d1e658-5861-4d2c-b5c3-71be1ad23e38",
   "metadata": {},
   "source": [
    "#### The null hypothesis represents the default assumption that has taken is True\n",
    "#### Example : \" The mean blood pressure for patients taking the new drug is equal to the mean blood pressure for patients not taking the drug.\"\n",
    "#\n",
    "#### The alternate hypothesis represents the opposite of null hypothesis. or says that the null hypothesis is false.\n",
    "#### Example : \" The mean blood pressure for patients taking the new drug is not equal to the mean blood pressure for patients not taking the drug.\""
   ]
  },
  {
   "cell_type": "markdown",
   "id": "68170715-a731-4b5d-bd72-e5b84fea991b",
   "metadata": {},
   "source": [
    "## "
   ]
  },
  {
   "cell_type": "markdown",
   "id": "d2ef563d-3889-436f-b32a-9686751e57a7",
   "metadata": {},
   "source": [
    "## Q7: Write down the steps involved in hypothesis testing."
   ]
  },
  {
   "cell_type": "markdown",
   "id": "a4d907d0-6388-4668-923f-887a1ec8643a",
   "metadata": {},
   "source": [
    "## Answer \n",
    "#### 1. State the hypothesis (Null hypothesis and Alternate hypothesis)\n",
    "#### 2. Perform experiments for null hypothesis\n",
    "#### 3. conclude if the null hypothesis is True or False"
   ]
  },
  {
   "cell_type": "markdown",
   "id": "59496dc8-5a88-454d-9bad-9b56d291db50",
   "metadata": {},
   "source": [
    "## "
   ]
  },
  {
   "cell_type": "markdown",
   "id": "f6982887-43af-4139-888b-841007ffc9f4",
   "metadata": {},
   "source": [
    "## Q8. Define p-value and explain its significance in hypothesis testing."
   ]
  },
  {
   "cell_type": "markdown",
   "id": "5412d807-019f-4f7e-95db-3c4fcb1acc51",
   "metadata": {},
   "source": [
    "## Answer "
   ]
  },
  {
   "cell_type": "markdown",
   "id": "1b574c5c-67cd-4864-bbdd-1c0020e10c96",
   "metadata": {},
   "source": [
    "### p-value tell us the liklihood of obtaining the observed value/results.\n",
    "### It's significance in hypothesis testing :\n",
    "#### if p_value < significance value :\n",
    "##### We reject the null hypothesis\n",
    "#### if p_value > significance value :\n",
    "##### We fail to reject the null hypothesis"
   ]
  },
  {
   "cell_type": "markdown",
   "id": "a42ad2bc-2fbd-4628-ad8c-bb1fb8a5cd86",
   "metadata": {},
   "source": [
    "## "
   ]
  },
  {
   "cell_type": "markdown",
   "id": "95eef917-f06d-4957-8bd8-b376ad5350b8",
   "metadata": {},
   "source": [
    "## 9. Generate a Student's t-distribution plot using Python's matplotlib library, with the degrees of freedom parameter set to 10."
   ]
  },
  {
   "cell_type": "markdown",
   "id": "c20cae3f-0168-4302-a959-8804f9f58280",
   "metadata": {},
   "source": [
    "## Answer"
   ]
  },
  {
   "cell_type": "code",
   "execution_count": 12,
   "id": "d3756604-81df-466f-969f-38ec9b53aae1",
   "metadata": {},
   "outputs": [],
   "source": [
    "import numpy as np\n",
    "import matplotlib.pyplot as plt\n",
    "import scipy.stats as stats"
   ]
  },
  {
   "cell_type": "code",
   "execution_count": 13,
   "id": "f3d2dde2-54ac-4ae3-bb5f-95c516b1e861",
   "metadata": {},
   "outputs": [],
   "source": [
    "x = np.random.standard_t(df=10, size=1000)"
   ]
  },
  {
   "cell_type": "code",
   "execution_count": 14,
   "id": "fd67a743-49cf-4e4b-b433-e9653c3eb570",
   "metadata": {},
   "outputs": [
    {
     "data": {
      "image/png": "[encoded data removed]",
      "text/plain": [
       "<Figure size 640x480 with 1 Axes>"
      ]
     },
     "metadata": {},
     "output_type": "display_data"
    }
   ],
   "source": [
    "plt.hist(x)\n",
    "plt.xlabel(\"x\")\n",
    "plt.title(\"Student's t-distribution df(10)\")\n",
    "plt.grid(True)\n",
    "plt.show()"
   ]
  },
  {
   "cell_type": "markdown",
   "id": "830fafee-d62a-4da7-b507-5241cb131fed",
   "metadata": {},
   "source": [
    "## "
   ]
  },
  {
   "cell_type": "markdown",
   "id": "8c5701f8-6528-44df-98d3-f014587122c2",
   "metadata": {},
   "source": [
    "## Q10. Write a Python program to calculate the two-sample t-test for independent samples, given two random samples of equal size and a null hypothesis that the population means are equal."
   ]
  },
  {
   "cell_type": "code",
   "execution_count": 15,
   "id": "de341472-b348-4743-8961-d8052677e253",
   "metadata": {},
   "outputs": [],
   "source": [
    "sample1 = [300, 315, 320, 311, 314, 309, 300, 308, 305, 303, 305, 301, 303]\n",
    "sample2 = [335, 329, 322, 321, 324, 319, 304, 308, 305, 311, 307, 300, 305]"
   ]
  },
  {
   "cell_type": "code",
   "execution_count": 16,
   "id": "503c195c-b795-48fc-a353-dad440d4fb58",
   "metadata": {},
   "outputs": [],
   "source": [
    "alpha = 0.05\n",
    "result = stats.ttest_ind(a=sample1, b=sample2, equal_var=True)"
   ]
  },
  {
   "cell_type": "code",
   "execution_count": 17,
   "id": "a1c79415-9058-421f-8254-3da60dc84f93",
   "metadata": {},
   "outputs": [],
   "source": [
    "p_value = result.pvalue"
   ]
  },
  {
   "cell_type": "code",
   "execution_count": 18,
   "id": "c15ec789-ab47-4da0-b43f-f50a734f42a8",
   "metadata": {},
   "outputs": [
    {
     "name": "stdout",
     "output_type": "stream",
     "text": [
      "Reject the null hypothesis: Population means are not equal.\n"
     ]
    }
   ],
   "source": [
    "if p_value < alpha:\n",
    "    print(\"Reject the null hypothesis: Population means are not equal.\")\n",
    "else:\n",
    "    print(\"Fail to reject the null hypothesis: Population means are equal.\")"
   ]
  },
  {
   "cell_type": "markdown",
   "id": "9599aabd-29f9-4bbe-97c6-7f45e0e0a6b6",
   "metadata": {},
   "source": [
    "#"
   ]
  },
  {
   "cell_type": "markdown",
   "id": "620b4ed8-549c-454f-957b-ba8fcc410a0d",
   "metadata": {},
   "source": [
    "##  Q11: What is Student’s t distribution? When to use the t-Distribution."
   ]
  },
  {
   "cell_type": "markdown",
   "id": "34ee0baf-4f8a-4fb9-9b3d-a907f7c1e9dc",
   "metadata": {},
   "source": [
    "## Answer"
   ]
  },
  {
   "cell_type": "markdown",
   "id": "f65b04f2-812e-44d3-b431-51ec30403a8a",
   "metadata": {},
   "source": [
    "#### Student T Distribution is a continuous probability distribution, which generalizes the standard normal distribution.\n",
    "#### Generally in Z Test, we need popstd and sample mean to run z-test but what if we don;t have the popstd, in that case Student T Test comes to rescue us."
   ]
  },
  {
   "cell_type": "markdown",
   "id": "69b01889-4014-41f6-86ae-b1a06122ddbc",
   "metadata": {},
   "source": [
    "##"
   ]
  },
  {
   "cell_type": "markdown",
   "id": "a95af86f-65dd-44db-b114-f1e159de32b7",
   "metadata": {},
   "source": [
    "## Q12: What is t-statistic? State the formula for t-statistic."
   ]
  },
  {
   "cell_type": "markdown",
   "id": "01af62bb-77f1-466c-86f0-176e6ef75333",
   "metadata": {},
   "source": [
    "## Answer "
   ]
  },
  {
   "cell_type": "markdown",
   "id": "2a0945d6-f341-4759-adb1-1ba607c9bd43",
   "metadata": {},
   "source": [
    "#### The t - statistics is a value used in hypothesis testing to check whether if there is any significant difference between the means of two groups. It is used in t - tests.\n",
    "#### Formula :\n",
    "#### t = x bar - popmean / ( sample std / root(n))\n",
    "n = sample size"
   ]
  },
  {
   "cell_type": "markdown",
   "id": "e12c9c85-5fa1-43bb-8c2b-9de91e5936fb",
   "metadata": {},
   "source": [
    "## "
   ]
  },
  {
   "cell_type": "markdown",
   "id": "0df6b422-d769-4790-a541-f5353cd52e10",
   "metadata": {},
   "source": [
    "## Q13. A coffee shop owner wants to estimate the average daily revenue for their shop. They take a random sample of 50 days and find the sample mean revenue to be $500 with a standard deviation of $50. Estimate the population mean revenue with a 95% confidence interval."
   ]
  },
  {
   "cell_type": "markdown",
   "id": "960aed22-dbd5-4ffb-bb56-1340630dd060",
   "metadata": {},
   "source": [
    "## Answer "
   ]
  },
  {
   "cell_type": "markdown",
   "id": "cbf4990c-969e-4761-8b0f-1e9a00ca981f",
   "metadata": {},
   "source": [
    "#### Margin of Error : 13.86 "
   ]
  },
  {
   "cell_type": "code",
   "execution_count": 21,
   "id": "381a6e96-de57-4d1f-a9c8-e739a8da0ce1",
   "metadata": {},
   "outputs": [],
   "source": [
    "upper_bound = 500 + 13.86\n",
    "Lower_bound = 500 - 13.86"
   ]
  },
  {
   "cell_type": "code",
   "execution_count": 27,
   "id": "9b15e9af-6a80-47c0-a53c-651a4ef12d1e",
   "metadata": {},
   "outputs": [
    {
     "name": "stdout",
     "output_type": "stream",
     "text": [
      "513.86 to 486.14\n"
     ]
    }
   ],
   "source": [
    "est_popmean = print(f\"{upper_bound} to {Lower_bound}\")"
   ]
  },
  {
   "cell_type": "markdown",
   "id": "8090b8c7-93f2-4e5d-9993-d730f4ee8a59",
   "metadata": {},
   "source": [
    "## "
   ]
  },
  {
   "cell_type": "markdown",
   "id": "8da24638-b897-42b2-b5e6-dc4adc1e54b7",
   "metadata": {},
   "source": [
    "## Q14. A researcher hypothesizes that a new drug will decrease blood pressure by 10 mmHg. They conduct a clinical trial with 100 patients and find that the sample mean decrease in blood pressure is 8 mmHg with a standard deviation of 3 mmHg. Test the hypothesis with a significance level of 0.05."
   ]
  },
  {
   "cell_type": "markdown",
   "id": "b83d7c29-bd50-4cd9-a2c3-e883f210b1f1",
   "metadata": {},
   "source": [
    "## Answer "
   ]
  },
  {
   "cell_type": "code",
   "execution_count": 28,
   "id": "73bf7494-3731-4002-b036-9e88c1ee6d14",
   "metadata": {},
   "outputs": [],
   "source": [
    "## using t statistics, PERFORMING T-TEST, we Get\n",
    "value = -6.67"
   ]
  },
  {
   "cell_type": "code",
   "execution_count": 36,
   "id": "ee205855-c814-407c-932a-b87dc662817e",
   "metadata": {},
   "outputs": [],
   "source": [
    "alpha = 0.05/2 #for two tailed\n",
    "# using t- table, critical_values = 1.96 & -1.96"
   ]
  },
  {
   "cell_type": "markdown",
   "id": "799bd771-596c-4806-bbaa-959c3f87df83",
   "metadata": {},
   "source": [
    "##### HENCE, we can see that the ttest value is not lying between the critical values. WE REJECT THE NULL HYPOTHESIS."
   ]
  },
  {
   "cell_type": "markdown",
   "id": "ee4e1921-a6d2-4a4e-b3c0-96ece5b4dca3",
   "metadata": {},
   "source": [
    "##"
   ]
  },
  {
   "cell_type": "markdown",
   "id": "5177805f-abfe-4df2-9ed4-8b5460f6f28b",
   "metadata": {},
   "source": [
    "## Q15. An electronics company produces a certain type of product with a mean weight of 5 pounds and a standard deviation of 0.5 pounds. A random sample of 25 products is taken, and the sample mean weight is found to be 4.8 pounds. Test the hypothesis that the true mean weight of the products is less than 5 pounds with a significance level of 0.01."
   ]
  },
  {
   "cell_type": "code",
   "execution_count": 40,
   "id": "4e3213f5-6d67-4cb0-b419-501534cfd621",
   "metadata": {},
   "outputs": [],
   "source": [
    "u = 5\n",
    "popstd = 0.5\n",
    "\n",
    "n = 25\n",
    "x_bar = 4.8\n",
    "alpha = 0.01"
   ]
  },
  {
   "cell_type": "code",
   "execution_count": 41,
   "id": "ae352ab1-c09f-40fe-bd38-54d3a8801c19",
   "metadata": {},
   "outputs": [],
   "source": [
    "ttest_value = -2\n",
    "ciritcal_value = -2.492"
   ]
  },
  {
   "cell_type": "code",
   "execution_count": 43,
   "id": "34eaf691-71eb-417f-8620-4ee021da8011",
   "metadata": {},
   "outputs": [
    {
     "name": "stdout",
     "output_type": "stream",
     "text": [
      "We fail to reject the null hypothesis\n"
     ]
    }
   ],
   "source": [
    "if ttest_value < ciritcal_value:\n",
    "    print(\"We reject the null Hypothesis\")\n",
    "else:\n",
    "    print(\"We fail to reject the null hypothesis\")"
   ]
  },
  {
   "cell_type": "markdown",
   "id": "2953bf9d-be79-42d6-b265-39bf151bcab0",
   "metadata": {},
   "source": [
    "##"
   ]
  },
  {
   "cell_type": "markdown",
   "id": "cb37dd65-7740-48c3-b110-94972a7888b3",
   "metadata": {},
   "source": [
    "## Q16. Two groups of students are given different study materials to prepare for a test. The first group (n1 = 30) has a mean score of 80 with a standard deviation of 10, and the second group (n2 = 40) has a mean score of 75 with a standard deviation of 8. Test the hypothesis that the population means for the two groups are equal with a significance level of 0.01."
   ]
  },
  {
   "cell_type": "code",
   "execution_count": 46,
   "id": "dbdca726-b8b9-49b9-a2f6-8c5bb90bf286",
   "metadata": {},
   "outputs": [],
   "source": [
    "#critical_value = +2.9015 , -2.9015\n",
    "t_score = 2.32"
   ]
  },
  {
   "cell_type": "markdown",
   "id": "810eb2fd-8145-4db5-b76e-917dc5709a1e",
   "metadata": {},
   "source": [
    "##### the t_score value lies within critical value. Hence we accept the null hypothesis."
   ]
  },
  {
   "cell_type": "markdown",
   "id": "958b5fb5-723c-4984-843d-effaf48b5c65",
   "metadata": {},
   "source": [
    "##"
   ]
  },
  {
   "cell_type": "markdown",
   "id": "c8105904-a046-4911-b932-201135006d7c",
   "metadata": {},
   "source": [
    "## Q17. A marketing company wants to estimate the average number of ads watched by viewers during a TV program. They take a random sample of 50 viewers and find that the sample mean is 4 with a standard deviation of 1.5. Estimate the population mean with a 99% confidence interval."
   ]
  },
  {
   "cell_type": "markdown",
   "id": "56dee73c-0eb6-4f9c-bb24-6ef822a0d9dc",
   "metadata": {},
   "source": [
    "## Answer"
   ]
  },
  {
   "cell_type": "markdown",
   "id": "ffbf29b2-9a4f-433a-b484-740eda577a39",
   "metadata": {},
   "source": [
    "#### The 99% confidence interval for the population mean (average number of ads watched) is approximately: [ (3.46, 4.54) ]"
   ]
  }
 ],
 "metadata": {
  "kernelspec": {
   "display_name": "Python 3 (ipykernel)",
   "language": "python",
   "name": "python3"
  },
  "language_info": {
   "codemirror_mode": {
    "name": "ipython",
    "version": 3
   },
   "file_extension": ".py",
   "mimetype": "text/x-python",
   "name": "python",
   "nbconvert_exporter": "python",
   "pygments_lexer": "ipython3",
   "version": "3.12.2"
  }
 },
 "nbformat": 4,
 "nbformat_minor": 5
}
