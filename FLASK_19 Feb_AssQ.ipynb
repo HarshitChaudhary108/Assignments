{
 "cells": [
  {
   "cell_type": "markdown",
   "id": "230cac9b",
   "metadata": {},
   "source": [
    "## Q1. What is Flask Framework? What are the advantages of Flask Framework?"
   ]
  },
  {
   "cell_type": "markdown",
   "id": "ac74d8f1",
   "metadata": {},
   "source": [
    "### Answer :\n",
    "#### flask is a micro framework written in python. From my current level of learning i got to know that flask helps us to make REST API, means with the help we can communicate over web using http (hypertext transfer protocol).\n",
    "### Advantages of Flask Framework :\n",
    "#### Flask is lighweight, flexible and easy to use framework written in python \n",
    "#### We can customicze the framework as per our wish anytime, that suits our needs\n",
    "#### We can use it to grow a tech project from small to large scale AND ETC....................."
   ]
  },
  {
   "cell_type": "markdown",
   "id": "7b5037ac",
   "metadata": {},
   "source": [
    "# "
   ]
  },
  {
   "cell_type": "markdown",
   "id": "8ed8d72b",
   "metadata": {},
   "source": [
    "## Q2. Create a simple Flask application to display ‘Hello World!!’. Attach the screenshot of the output in Jupyter Notebook."
   ]
  },
  {
   "cell_type": "code",
   "execution_count": null,
   "id": "f5f153b1",
   "metadata": {},
   "outputs": [],
   "source": [
    "from flask import Flask\n",
    "\n",
    "app = Flask(\"__main__\")\n",
    "\n",
    "@app.route(\"/HelloWorld\")\n",
    "def HW():\n",
    "    return \"Hello World\"\n",
    "\n",
    "if __name__ == \"__main__\":\n",
    "    app.run(host=\"0.0.0.0\")\n",
    "    \n",
    "# URL : Address:5000/HelloWorld"
   ]
  },
  {
   "cell_type": "markdown",
   "id": "2ce44c34",
   "metadata": {},
   "source": [
    "# "
   ]
  },
  {
   "cell_type": "markdown",
   "id": "2ea3a924",
   "metadata": {},
   "source": [
    "## Q3. What is App routing in Flask? Why do we use app routes? "
   ]
  },
  {
   "cell_type": "markdown",
   "id": "f6d99369",
   "metadata": {},
   "source": [
    "### Answer :\n",
    "#### App routing is used to map a specific URl with an associated function which is designed to perform some task.\n",
    "#### We use App Routing to help the user to remember the URL and access the desired page directly without accessing it through the home page, it takes so much time to get the desired page visiting through different pages one by one. So, in this matter App Routing helps us to save our valuable time."
   ]
  },
  {
   "cell_type": "markdown",
   "id": "5146456f",
   "metadata": {},
   "source": [
    "# "
   ]
  },
  {
   "cell_type": "markdown",
   "id": "def6bd3e",
   "metadata": {},
   "source": [
    "## Q4. Create a “/welcome” route to display the welcome message “Welcome to ABC Corporation” and a “/” route to show the following details:\n",
    "## Company Name: ABC Corporation\n",
    "## Location: India\n",
    "## Contact Detail: 999-999-9999"
   ]
  },
  {
   "cell_type": "code",
   "execution_count": null,
   "id": "7bc0dfa2",
   "metadata": {},
   "outputs": [],
   "source": [
    "from flask import Flask\n",
    "\n",
    "new_app = Flask(\"__main__\")\n",
    "\n",
    "@new_app.route(\"/\")\n",
    "def details():\n",
    "    return \"Company Name : ABC Corporation \\n Location : India \\n Contact Detail : 999-999-9999\"\n",
    "\n",
    "@new_app.route(\"/welcome\")\n",
    "def Welcome():\n",
    "    return \"Welcome to ABC Corporation\"\n",
    "\n",
    "if __name__==\"__main__\":\n",
    "    new_app.run(host=\"0.0.0.0\")"
   ]
  },
  {
   "cell_type": "markdown",
   "id": "234fce4d",
   "metadata": {},
   "source": [
    "# "
   ]
  },
  {
   "cell_type": "markdown",
   "id": "4d824278",
   "metadata": {},
   "source": [
    "## Q5. What function is used in Flask for URL Building? Write a Python code to demonstrate the working of the url_for() function."
   ]
  },
  {
   "cell_type": "markdown",
   "id": "46506d2f",
   "metadata": {},
   "source": [
    "### Answer :\n",
    "#### url_for() function is used in Flask for URL Building"
   ]
  },
  {
   "cell_type": "code",
   "execution_count": null,
   "id": "263c1874",
   "metadata": {},
   "outputs": [],
   "source": [
    "from flask import Flask, redirect, url_for\n",
    "\n",
    "app = Flask(__name__)\n",
    "\n",
    "@app.route(\"/student\")\n",
    "def Student():\n",
    "    return \"Hello, This is Student\"\n",
    "\n",
    "@app.route(\"/faculty\")\n",
    "def Faculty():\n",
    "    return \"Hello, This is faculty\"\n",
    "\n",
    "@app.route(\"/user/<role>\")\n",
    "def user(role):\n",
    "    if role == \"student\":\n",
    "        return redirect(url_for(\"Student\"))\n",
    "    elif role == \"faculty\":\n",
    "        return redirect(url_for(\"Faculty\"))\n",
    "    else :\n",
    "        return \"Error Not Found\"\n",
    "\n",
    "if __name__==\"__main__\":\n",
    "    app.run(host=\"0.0.0.0\")"
   ]
  }
 ],
 "metadata": {
  "kernelspec": {
   "display_name": "Python 3 (ipykernel)",
   "language": "python",
   "name": "python3"
  },
  "language_info": {
   "codemirror_mode": {
    "name": "ipython",
    "version": 3
   },
   "file_extension": ".py",
   "mimetype": "text/x-python",
   "name": "python",
   "nbconvert_exporter": "python",
   "pygments_lexer": "ipython3",
   "version": "3.11.4"
  }
 },
 "nbformat": 4,
 "nbformat_minor": 5
}
