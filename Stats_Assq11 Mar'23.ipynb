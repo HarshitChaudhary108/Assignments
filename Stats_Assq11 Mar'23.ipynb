{
 "cells": [
  {
   "cell_type": "markdown",
   "id": "ccd29e67-7867-4527-8bce-fa46d11f3007",
   "metadata": {},
   "source": [
    "## Q1. What is the difference between a t-test and a z-test? Provide an example scenario where you would use each type of test."
   ]
  },
  {
   "cell_type": "markdown",
   "id": "03027b75-1fd9-4df9-8377-50c7a3bf7039",
   "metadata": {},
   "source": [
    "## Answer\n",
    "#### Difference Between z-test and t-test :\n",
    "#### the z-test is used to determine whether the means of two groups are significantly different.\n",
    "#### The z-test is used when the pop std & pop mean is given.\n",
    "#### ----------------------------------------------------\n",
    "#### The t-test is also used to compare the means of two groups but it's more flexible.\n",
    "#### When the pop std is unknown, we use T-Test."
   ]
  },
  {
   "cell_type": "markdown",
   "id": "2acdcfec-ce36-450b-81ef-7e57dcc237ff",
   "metadata": {},
   "source": [
    "## "
   ]
  },
  {
   "cell_type": "markdown",
   "id": "c0c49e5d-268b-40b5-a2a0-9aba0f4056c0",
   "metadata": {},
   "source": [
    "## Q2: Differentiate between one-tailed and two-tailed tests."
   ]
  },
  {
   "cell_type": "markdown",
   "id": "d9770de2-8dc2-49d8-95dd-5f1e38897732",
   "metadata": {},
   "source": [
    "## Answer\n",
    "#### One-Tailed tests : When the result of experiment/tests is one directional,That is known as one-tailed test.\n",
    "#### Two-Tailed tests : When the result of the tests is 2 directional, that is known as two-directional tests."
   ]
  },
  {
   "cell_type": "markdown",
   "id": "6477faf5-d9a4-4e2f-9d51-a8ac06811f65",
   "metadata": {},
   "source": [
    "##"
   ]
  },
  {
   "cell_type": "markdown",
   "id": "5227812d-de7e-4779-8508-fa2e514d8142",
   "metadata": {},
   "source": [
    "## Q3: Explain the concept of Type 1 and Type 2 errors in hypothesis testing. Provide an example scenario for each type of error."
   ]
  },
  {
   "cell_type": "markdown",
   "id": "7e24d5e1-edc9-41ba-a765-9f6156a55dd2",
   "metadata": {},
   "source": [
    "## Answer "
   ]
  },
  {
   "cell_type": "markdown",
   "id": "92495566-d06e-454d-8875-9327a0dc7b78",
   "metadata": {},
   "source": [
    "#### Type 1 error : When we reject the Ho (Null Hypothesis), when the reality is True.\n",
    "#### example : Let say a researhcer wants to check if his new drug has no effect on patient's BP. but While statistical calculations, due to some variations or other factors, there is some significant changes in the blood pressure. If we reject the null hypothesis, but the drug has no effect. That's a type 1 error.\n",
    "#### --------------------------------------------------\n",
    "#### Type 2 error : When we retain the null hypothesis, when in reality it is False.\n",
    "#### Example : Let say the same researcher has invented a new durg and wants to check it on patients and hypothesizes that there is not effect of this drug at all on the mental health of the patient. but while statistical analysis. It accepts the null hypothesis, but to some imbalanced ratio of chemicals affect the mental health of patients. That's a Type 2 error."
   ]
  },
  {
   "cell_type": "markdown",
   "id": "a406acb6-f431-4f3c-b7aa-3a0261fd5698",
   "metadata": {},
   "source": [
    "## "
   ]
  },
  {
   "cell_type": "markdown",
   "id": "2b900559-1bd0-472e-b2fc-89a9802ec602",
   "metadata": {},
   "source": [
    "## Q4:  Explain Bayes's theorem with an example."
   ]
  },
  {
   "cell_type": "markdown",
   "id": "dc43cd30-087b-4cbe-965b-d100bc5edb58",
   "metadata": {},
   "source": [
    "## Answer\n",
    "#### Bayes theorem is a statistical approach in data analysis.\n",
    "#### it empowers us to update the possibility of outcome, based on new evidemces.\n",
    "#### Example :\n",
    "#### x1 , x2 , x3 ---> y\n",
    "#### location , size of house , No. of rooms  ---> Price of House\n",
    "#### Pr(y|x1,x2,x3) = Pr(y) * pr(x1,x2,x3|y)/Pr(x1,x2,x3)"
   ]
  },
  {
   "cell_type": "markdown",
   "id": "53139a16-b8ba-4e00-8c40-82793977b363",
   "metadata": {},
   "source": [
    "## "
   ]
  },
  {
   "cell_type": "markdown",
   "id": "c30e2f1f-a1a2-42bb-8220-d038ad6a5ded",
   "metadata": {},
   "source": [
    "## Q5: What is a confidence interval? How to calculate the confidence interval, explain with an example."
   ]
  },
  {
   "cell_type": "markdown",
   "id": "12c7e0ee-992f-49b2-b9a7-de0ea92dcdad",
   "metadata": {},
   "source": [
    "## Answer \n",
    "#### Confidence interval provides the range of values within which we expect a population parameter to fall.\n",
    "#### We have to use appropriate formula to find this.\n",
    "### Example :\n",
    "#### Suppose we want to estimate the average height of students in a college. We collect a random sample of 50 students and find their average height to be 165 cm. The population standard deviation is 10 cm.\n",
    "##### Answer :\n",
    "##### u = ?\n",
    "##### n = 50\n",
    "##### x_bar = 165cm\n",
    "##### sigma(pop_std) = 10\n",
    "##### Let's use a C.I as 95%\n",
    "##### C.I = 165 +/- 1.96(10/root(50))\n",
    "##### C.I = (160.6, 169.4)"
   ]
  },
  {
   "cell_type": "markdown",
   "id": "a6891bec-03a3-4833-9e55-1a0fcddb4732",
   "metadata": {},
   "source": [
    "##"
   ]
  },
  {
   "cell_type": "markdown",
   "id": "0cada871-cacc-451a-8418-6f56c6cc15c6",
   "metadata": {},
   "source": [
    "## Q6. Use Bayes' Theorem to calculate the probability of an event occurring given prior knowledge of the event's probability and new evidence. Provide a sample problem and solution."
   ]
  },
  {
   "cell_type": "markdown",
   "id": "194f33fe-12c8-40a0-acda-1dbe397f16e9",
   "metadata": {},
   "source": [
    "## Answer \n",
    "#### A bag contains 4 balls. Two balls are drawn at random without replacement, and both are found to be blue. What is the probability that all balls in the bag are blue?\n",
    "##### Answer\n",
    "##### "
   ]
  },
  {
   "cell_type": "markdown",
   "id": "79f141cb-1993-4083-84ec-24c6f6553c7b",
   "metadata": {},
   "source": [
    "## Q7. Calculate the 95% confidence interval for a sample of data with a mean of 50 and a standard deviation of 5. Interpret the results."
   ]
  },
  {
   "cell_type": "markdown",
   "id": "73f43421-19a8-4cca-ac71-302aee71c9ea",
   "metadata": {},
   "source": [
    "## Answer "
   ]
  },
  {
   "cell_type": "code",
   "execution_count": 2,
   "id": "29ccd519-a466-480f-86cd-16bea657c2c7",
   "metadata": {},
   "outputs": [],
   "source": [
    "alpha = 0.05\n",
    "x_bar = 50\n",
    "S = 5"
   ]
  },
  {
   "cell_type": "markdown",
   "id": "8387c851-23b3-45e6-bbe9-b16624c0b765",
   "metadata": {},
   "source": [
    "#### For calculating the confidence interval\n",
    "##### C.I = x +- z(5/root(n))\n",
    "###### z = 1.96\n",
    "###### n = n\n",
    "###### x = 50 (given)"
   ]
  },
  {
   "cell_type": "markdown",
   "id": "56c3cb3d-b883-4baf-931b-90f490ae9c93",
   "metadata": {},
   "source": [
    "##### We are not given the sample size. so we are assuming the sample size to be >30.\n",
    "##### After putting all the values in C.I  "
   ]
  },
  {
   "cell_type": "code",
   "execution_count": 6,
   "id": "0f9fe42a-09bb-4c44-9125-03cc91ff1794",
   "metadata": {},
   "outputs": [],
   "source": [
    "confIntrvl = (48.208, 51.79)"
   ]
  },
  {
   "cell_type": "markdown",
   "id": "07851422-be9c-4629-bcd1-fb7d29600427",
   "metadata": {},
   "source": [
    "## "
   ]
  },
  {
   "cell_type": "markdown",
   "id": "8b045376-4242-40cc-a02e-86e220b5105d",
   "metadata": {},
   "source": [
    "##  Q8. What is the margin of error in a confidence interval? How does sample size affect the margin of error? Provide an example of a scenario where a larger sample size would result in a smaller margin of error."
   ]
  },
  {
   "cell_type": "markdown",
   "id": "d047d11e-6eb4-4866-9dbf-805cb3b35013",
   "metadata": {},
   "source": [
    "## Answer"
   ]
  },
  {
   "cell_type": "markdown",
   "id": "f55a54fd-9d8a-4846-b8d8-c0414edcd231",
   "metadata": {},
   "source": [
    "#### Margin or error is the range of Confidence interval.\n",
    "#### Large sample size --> smaller the margin of error (increases the accuracy of result value)\n",
    "#### Example :\n",
    "##### Let's say we have a sample data of height of 50 students in a school. the sample height mean is 5.7ft. the std is 2.6. find the margin of error.\n",
    "##### x = 5.7.................. n = 50................................ S = 2.6........................ C.I = 95% (assume)\n",
    "##### margin of error = (5, 6.4)\n",
    "#\n",
    "##### Let's say the sample size is changed to n = 100\n",
    "##### maegin of error = (5.2, 6.2)\n",
    "### We can see that as the sample size increases the margin of error also decreases."
   ]
  },
  {
   "cell_type": "markdown",
   "id": "30fc4d23-49a8-47fe-a90a-9ff8384172ee",
   "metadata": {},
   "source": [
    "##"
   ]
  },
  {
   "cell_type": "markdown",
   "id": "50d72c7e-2c5f-4997-8e14-d48cce652c6f",
   "metadata": {},
   "source": [
    "##  Q9. Calculate the z-score for a data point with a value of 75, a population mean of 70, and a population standard deviation of 5. Interpret the results."
   ]
  },
  {
   "cell_type": "code",
   "execution_count": 4,
   "id": "6f2a36fb-85fd-48ac-b015-1c9535f408f0",
   "metadata": {},
   "outputs": [],
   "source": [
    "x = 75\n",
    "popmean = 70\n",
    "std = 5"
   ]
  },
  {
   "cell_type": "markdown",
   "id": "d200cfe1-57c9-47c4-a333-d70f51f3a9f6",
   "metadata": {},
   "source": [
    "#### Using the z-score calsulator\n",
    "#### Z-score = 1"
   ]
  },
  {
   "cell_type": "markdown",
   "id": "547e316f-3144-48c8-9501-76a42c09b214",
   "metadata": {},
   "source": [
    "## "
   ]
  },
  {
   "cell_type": "markdown",
   "id": "7570c221-1157-4d53-90d9-42ab64399655",
   "metadata": {},
   "source": [
    "## Q10. In a study of the effectiveness of a new weight loss drug, a sample of 50 participants lost an average of 6 pounds with a standard deviation of 2.5 pounds. Conduct a hypothesis test to determine if the drug is significantly effective at a 95% confidence level using a t-test."
   ]
  },
  {
   "cell_type": "markdown",
   "id": "383ecd8d-c176-4a2c-a209-c32ad298db1b",
   "metadata": {},
   "source": [
    "## Answer"
   ]
  },
  {
   "cell_type": "code",
   "execution_count": 10,
   "id": "365a0abe-6dbf-4aea-b043-d7be1e77309b",
   "metadata": {},
   "outputs": [],
   "source": [
    "n = 50\n",
    "sample_mean = 6\n",
    "sample_std= 2.5\n",
    "CI = 95"
   ]
  },
  {
   "cell_type": "code",
   "execution_count": 15,
   "id": "1bb4e097-02ff-4795-aa48-61768ad4641c",
   "metadata": {},
   "outputs": [],
   "source": [
    "H0 = \"Drug is significantly effective\"\n",
    "H1 = \"Drug is not significantly effective\"\n",
    "# 2 tail test"
   ]
  },
  {
   "cell_type": "code",
   "execution_count": 13,
   "id": "a24544d3-f227-407c-9ecc-1c259199290d",
   "metadata": {},
   "outputs": [],
   "source": [
    "DoF = 49 #(n - 1 = 49)"
   ]
  },
  {
   "cell_type": "markdown",
   "id": "2f2b72bf-4637-456d-8250-7477469ecd9f",
   "metadata": {},
   "source": [
    "#### Using t-table\n",
    "#### ttest_stat = (0-6)/(2.5/[root(50)])"
   ]
  },
  {
   "cell_type": "code",
   "execution_count": 21,
   "id": "404cf648-f3da-4318-b6f7-22bf43265777",
   "metadata": {},
   "outputs": [],
   "source": [
    "ttest_value = 2.007"
   ]
  },
  {
   "cell_type": "markdown",
   "id": "2df4a39b-e7e1-48fd-a770-ff5694d9d75d",
   "metadata": {},
   "source": [
    "#### using the ttest_value, we find the p_value\n",
    "##### p_value = 0.050283"
   ]
  },
  {
   "cell_type": "markdown",
   "id": "b0e00f84-9f37-4d7e-8629-c55080465068",
   "metadata": {},
   "source": [
    "## this result is not significant at p<0.05 (Significance)\n",
    "#### We can condider that we fail to reject the null hypothesis"
   ]
  },
  {
   "cell_type": "markdown",
   "id": "07808657-72b7-4770-a640-95b703f319ad",
   "metadata": {},
   "source": [
    "## "
   ]
  },
  {
   "cell_type": "markdown",
   "id": "e42d26ab-f963-424f-b170-2822c4f54ffd",
   "metadata": {},
   "source": [
    "## Q11. In a survey of 500 people, 65% reported being satisfied with their current job. Calculate the 95% confidence interval for the true proportion of people who are satisfied with their job."
   ]
  },
  {
   "cell_type": "markdown",
   "id": "0bb5f380-bc7b-4397-8772-9171d95ffff6",
   "metadata": {},
   "source": [
    "#### Using the Standard of Error"
   ]
  },
  {
   "cell_type": "markdown",
   "id": "dfc359e8-d007-4beb-af7f-2ca995cd7169",
   "metadata": {},
   "source": [
    "#### The True proportion of people whoa re satisfied with their jobs"
   ]
  },
  {
   "cell_type": "markdown",
   "id": "12eae2cc-ec33-41ed-af3d-0a37eb99c82c",
   "metadata": {},
   "source": [
    "### (0.61, 0.69)"
   ]
  },
  {
   "cell_type": "markdown",
   "id": "6347539a-43fd-4bab-a325-5def6a828a58",
   "metadata": {},
   "source": [
    "## "
   ]
  },
  {
   "cell_type": "markdown",
   "id": "3250272f-bf12-4ef4-811a-ca4b5e4a4d2f",
   "metadata": {},
   "source": [
    "## Q12. A researcher is testing the effectiveness of two different teaching methods on student performance. Sample A has a mean score of 85 with a standard deviation of 6, while sample B has a mean score of 82 with a standard deviation of 5. Conduct a hypothesis test to determine if the two teaching methods have a significant difference in student performance using a t-test with a significance level of 0.01."
   ]
  },
  {
   "cell_type": "markdown",
   "id": "c80bbbfa-97c1-4a89-8d77-639914f10f40",
   "metadata": {},
   "source": [
    "## sampA "
   ]
  },
  {
   "cell_type": "code",
   "execution_count": 28,
   "id": "af4cd42c-c027-406b-aeae-d18e008aae5d",
   "metadata": {},
   "outputs": [],
   "source": [
    "sample_meanA = 85\n",
    "sample_stdA = 6"
   ]
  },
  {
   "cell_type": "markdown",
   "id": "09f7e431-71c5-46c9-a13c-3bab0da06bb6",
   "metadata": {},
   "source": [
    "## sampB"
   ]
  },
  {
   "cell_type": "code",
   "execution_count": 29,
   "id": "a93056f1-4806-4e66-ae97-c1138c6748ac",
   "metadata": {},
   "outputs": [],
   "source": [
    "sample_meanB = 82\n",
    "sample_stdB = 5"
   ]
  },
  {
   "cell_type": "markdown",
   "id": "ebafbeda-dd21-4a37-951e-979439eddd6d",
   "metadata": {},
   "source": [
    "## Significance = 0.01"
   ]
  },
  {
   "cell_type": "code",
   "execution_count": 30,
   "id": "2da60717-e188-4148-85bf-fe7cba2af9fe",
   "metadata": {},
   "outputs": [],
   "source": [
    "H0 = \"There is no significant change in both the teaching methods\"\n",
    "H1 = \"There is significant change in both the teaching methods\""
   ]
  },
  {
   "cell_type": "code",
   "execution_count": null,
   "id": "6241dac2-53fa-44cc-9133-3a49552b0500",
   "metadata": {},
   "outputs": [],
   "source": []
  },
  {
   "cell_type": "code",
   "execution_count": null,
   "id": "235eb69b-0dba-461d-af6e-2a735c67dbfb",
   "metadata": {},
   "outputs": [],
   "source": []
  },
  {
   "cell_type": "markdown",
   "id": "1df31ebc-e6da-4c65-bd07-10865c2cb9ec",
   "metadata": {},
   "source": [
    "##  Q13. A population has a mean of 60 and a standard deviation of 8. A sample of 50 observations has a mean of 65. Calculate the 90% confidence interval for the true population mean."
   ]
  },
  {
   "cell_type": "code",
   "execution_count": 33,
   "id": "d81c9d85-715d-4c67-b04d-8b06ef6cedf9",
   "metadata": {},
   "outputs": [],
   "source": [
    "popmean = 60\n",
    "popStd = 8\n",
    "\n",
    "n = 50\n",
    "sampleMean = 65\n",
    "CI = 90\n",
    "significance = 0.1"
   ]
  },
  {
   "cell_type": "code",
   "execution_count": 34,
   "id": "b7839709-ff8f-4898-ba3b-d48c2fd18aef",
   "metadata": {},
   "outputs": [],
   "source": [
    "MarginError = 1.85\n",
    "Range = (65-1.85, 65+1.85)"
   ]
  },
  {
   "cell_type": "code",
   "execution_count": 36,
   "id": "b4a76000-9119-4002-838a-a38d1c839817",
   "metadata": {},
   "outputs": [
    {
     "data": {
      "text/plain": [
       "(63.15, 66.85)"
      ]
     },
     "execution_count": 36,
     "metadata": {},
     "output_type": "execute_result"
    }
   ],
   "source": [
    "Range"
   ]
  },
  {
   "cell_type": "markdown",
   "id": "fd1c5e84-1a94-4962-838d-8ac0f02b6e67",
   "metadata": {},
   "source": [
    "## "
   ]
  },
  {
   "cell_type": "markdown",
   "id": "0d94412a-145b-49f5-b8dc-ea6160c4c0c1",
   "metadata": {},
   "source": [
    "##  Q14. In a study of the effects of caffeine on reaction time, a sample of 30 participants had an average reaction time of 0.25 seconds with a standard deviation of 0.05 seconds. Conduct a hypothesis test to determine if the caffeine has a significant effect on reaction time at a 90% confidence level using a t-test."
   ]
  },
  {
   "cell_type": "markdown",
   "id": "5a7586ab-28d6-437d-ab49-08f58e216f2b",
   "metadata": {},
   "source": [
    "### Margin of error = 0.015"
   ]
  },
  {
   "cell_type": "code",
   "execution_count": 39,
   "id": "7436daab-51b3-47c5-8c91-609779f40b21",
   "metadata": {},
   "outputs": [],
   "source": [
    "Criticalvalues = (0.23, 0.26)"
   ]
  },
  {
   "cell_type": "code",
   "execution_count": 40,
   "id": "81afb851-2e52-4bbb-8782-fe20c5c74e06",
   "metadata": {},
   "outputs": [],
   "source": [
    "sampleMean = 0.25"
   ]
  },
  {
   "cell_type": "markdown",
   "id": "aa8deb5c-060a-4380-b968-d9a6c66f27f3",
   "metadata": {},
   "source": [
    "#### Our sample mean is falling bet ween the critical values, Hence we fail to reject the null hypothesis. THERE IS SOME SIGNIFICANT CHANGE IN REACTION TIME BUT Its an error."
   ]
  },
  {
   "cell_type": "code",
   "execution_count": null,
   "id": "8ec17cc5-0fbb-4cd6-9ec2-ca91beec957a",
   "metadata": {},
   "outputs": [],
   "source": []
  },
  {
   "cell_type": "code",
   "execution_count": null,
   "id": "58961139-e2f0-4bfd-a87d-0340b3a59a1f",
   "metadata": {},
   "outputs": [],
   "source": []
  },
  {
   "cell_type": "code",
   "execution_count": null,
   "id": "b20c4345-1b7a-4842-9eb8-85eeb8dd0814",
   "metadata": {},
   "outputs": [],
   "source": []
  },
  {
   "cell_type": "code",
   "execution_count": null,
   "id": "9561c3a0-7f53-489a-ac7a-7368cecef522",
   "metadata": {},
   "outputs": [],
   "source": []
  },
  {
   "cell_type": "code",
   "execution_count": null,
   "id": "04bb22a5-4542-414f-ac65-b6052f202e30",
   "metadata": {},
   "outputs": [],
   "source": []
  },
  {
   "cell_type": "code",
   "execution_count": null,
   "id": "a43e39a9-d200-4d6a-866b-e0f010390976",
   "metadata": {},
   "outputs": [],
   "source": []
  }
 ],
 "metadata": {
  "kernelspec": {
   "display_name": "Python 3 (ipykernel)",
   "language": "python",
   "name": "python3"
  },
  "language_info": {
   "codemirror_mode": {
    "name": "ipython",
    "version": 3
   },
   "file_extension": ".py",
   "mimetype": "text/x-python",
   "name": "python",
   "nbconvert_exporter": "python",
   "pygments_lexer": "ipython3",
   "version": "3.12.2"
  }
 },
 "nbformat": 4,
 "nbformat_minor": 5
}
