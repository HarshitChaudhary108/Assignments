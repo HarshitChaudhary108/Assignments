{
 "cells": [
  {
   "cell_type": "markdown",
   "id": "afbbd277-94b7-4f30-ade9-4ae568a8d3f3",
   "metadata": {},
   "source": [
    "## Q1. What is statistics ?"
   ]
  },
  {
   "cell_type": "markdown",
   "id": "60042db4-eccc-4aa3-8764-30722736d2ee",
   "metadata": {},
   "source": [
    "#### STATS = Statistics is the science of collecting, organising( HELPS IN DECISION TAKING ) and analyzing the data."
   ]
  },
  {
   "cell_type": "markdown",
   "id": "2faf742c-645d-4387-a199-e61017d56cb5",
   "metadata": {},
   "source": [
    "#"
   ]
  },
  {
   "cell_type": "markdown",
   "id": "58bd9d2e-4e54-4a8b-86a9-98c4e640cbd8",
   "metadata": {},
   "source": [
    "## Q2. Define the different types of statistics and give an example of when each type might be used."
   ]
  },
  {
   "cell_type": "markdown",
   "id": "eb49063b-a20b-4cf6-b472-4a6f1c2e9ec2",
   "metadata": {},
   "source": [
    "#### There are 2 types of Statistics.... 1. Descriptive Statistics and 2. Inferential Statistics\n",
    "### 1. Descriptive Statistics\n",
    "#### Descriptive statistics helps to organize and summarize the data, so that pattern can be eaily understood.\n",
    "#### This can include Measure of centeral Tendency (Mean, Median, Mode), Measure of Dispersion (Variance and Standard Deviation) and Different types of distribution like pmf, pdf and etc.\n",
    "###\n",
    "### 2. Inferential statistics\n",
    "#### Inferential statistics makes assumption or prediction from the sample data for the population data from which the sample data is drawn.\n",
    "#### e.g :- Generally TV channels predict for the election results from a sample data after survey.\n"
   ]
  },
  {
   "cell_type": "markdown",
   "id": "e57d8fcf-ef9d-40d9-89b7-65ffe8309ce5",
   "metadata": {},
   "source": [
    "#"
   ]
  },
  {
   "cell_type": "markdown",
   "id": "1a025d11-96f7-47f1-b1a2-c0719d92480e",
   "metadata": {},
   "source": [
    "## Q3. What are the different types of data and how do they differ from each other? Provide an example of each type of data."
   ]
  },
  {
   "cell_type": "markdown",
   "id": "b5db85d0-267c-4af7-9be2-03719f286ffe",
   "metadata": {},
   "source": [
    "### Nominal Data\n",
    "#### it is a kind of categorical/qualitative data. in this type of data the order of the data dpes not matter\n",
    "#### e.g :- Gender, colours,labels\n",
    "#\n",
    "### Ordinal Data\n",
    "#### In this kind of data, the data can be ranked or ordered, but the difference cannot be measured.\n",
    "#### e.g :- Race rank (1st, 2nd, 3rd), {Best, Good, Bad}\n",
    "#\n",
    "### Interval Data\n",
    "#### This can type data can also be ordered and the difference too can be measured but the ratio cannot be measured. No True starting point\n",
    "#### e.g :- Temperature variable\n",
    "#\n",
    "### Ratio Data\n",
    "#### orders matters, difference can be found, ratio too can be found and it contains a True Starting point.\n",
    "#### e.g :- Students marks in a class"
   ]
  },
  {
   "cell_type": "markdown",
   "id": "feeb6b63-2f22-4300-9a22-dd869cf983c1",
   "metadata": {},
   "source": [
    "#"
   ]
  },
  {
   "cell_type": "markdown",
   "id": "28acc27b-5121-47a4-9f01-b5ee5587e4e6",
   "metadata": {},
   "source": [
    "## Q4. Categorise the following datasets with respect to quantitative and qualitative data types: \n",
    "## (i) Grading in exam: A+, A, B+, B, C+, C, D, E....... \n",
    "## (ii) Colour of mangoes: yellow, green, orange, red..........\n",
    "## (iii) Height data of a class: [178.9, 179, 179.5, 176, 177.2, 178.3, 175.8,...].............\n",
    "## (iv) Number of mangoes exported by a farm: [500, 600, 478, 672, ...]...]"
   ]
  },
  {
   "cell_type": "markdown",
   "id": "b7ab9a01-e678-4eb8-95e2-95b0dee5619c",
   "metadata": {},
   "source": [
    "#### qualitative - ordinal\n",
    "#### qualitative - nominal\n",
    "#### quantitative - ratio\n",
    "#### quantitative - ratio"
   ]
  },
  {
   "cell_type": "markdown",
   "id": "a03d0475-7d8d-417e-afb6-64d12fc2b043",
   "metadata": {},
   "source": [
    "#"
   ]
  },
  {
   "cell_type": "markdown",
   "id": "a98f664c-12d9-4289-8287-4a545ec2a763",
   "metadata": {},
   "source": [
    "## Q5. Explain the concept of levels of measurement and give an example of a variable for each level."
   ]
  },
  {
   "cell_type": "markdown",
   "id": "c0f069bd-f616-48f2-9400-8cf4bde5e15a",
   "metadata": {},
   "source": [
    "#### The concept of levels of measurement refers to how variables are categorized and quantified in statistics.\n",
    "#\n",
    "#### Nominal : The most basic, categorical type. no order matters. E.G :- Gender\n",
    "#### ordinal : The categorical type. order matters but cannot be measured. E.G :- Race Ranks\n",
    "#### interval : The quantitative type, order matters, diference can be measured but ratio can't be. E.G :- Temparature variable\n",
    "#### ratio : The quantitative type, order matters, diference can be measured and ratio too can be measured with a starting point. E.G :- Students marks in a classroom."
   ]
  },
  {
   "cell_type": "markdown",
   "id": "7ad918c7-c98b-47c0-bd61-b839bab4872b",
   "metadata": {},
   "source": [
    "## Q6. Why is it important to understand the level of measurement when analyzing data? Provide an example to illustrate your answer.."
   ]
  },
  {
   "cell_type": "markdown",
   "id": "9e0b3d8a-3107-49e1-8fb8-87ab8796e839",
   "metadata": {},
   "source": [
    "#### to analyze teh data, we must have to know about the data regarding of which type does it belongs to therefore, nominal, ordinal, ratio or interval. that's why we need to understand the lebel of measurements to overcome this.\n",
    "#### e.g :- if we want to analyze a data of students height in a classroom, we must know regarding from whic data type it belongs to =, only then we can understand that the ratio can be measured or not,order matters or now, can be rank the data or not and etc."
   ]
  },
  {
   "cell_type": "markdown",
   "id": "0781a2bb-5397-4fb8-bcc5-d069fec514f6",
   "metadata": {},
   "source": [
    "#"
   ]
  },
  {
   "cell_type": "markdown",
   "id": "85b23d00-8af7-420a-8479-4d5c4329cca2",
   "metadata": {},
   "source": [
    "## Q7. How nominal data type is different from ordinal data type."
   ]
  },
  {
   "cell_type": "markdown",
   "id": "f2611595-886c-45cd-96e9-05810bd9cc12",
   "metadata": {},
   "source": [
    "#### In Nominal data type the order of the data doesn't matters but in the ordinal data type the rank or order can be measured."
   ]
  },
  {
   "cell_type": "markdown",
   "id": "e7f29b92-a56c-4609-b09d-24bb0c2c3a57",
   "metadata": {},
   "source": [
    "#"
   ]
  },
  {
   "cell_type": "markdown",
   "id": "56a30261-e19d-449b-97e1-42c8804e8ee2",
   "metadata": {},
   "source": [
    "## Q8. Which type of plot can be used to display data in terms of range?"
   ]
  },
  {
   "cell_type": "markdown",
   "id": "b171b398-f940-4bd9-ba7e-782707bccf70",
   "metadata": {},
   "source": [
    "#### HISTOGRAM"
   ]
  },
  {
   "cell_type": "markdown",
   "id": "ed46f77a-37ae-4c36-86e4-225b5a9c12d5",
   "metadata": {},
   "source": [
    "##"
   ]
  },
  {
   "cell_type": "markdown",
   "id": "ea8df55f-1c2e-484d-bd63-1e2c5f17e66c",
   "metadata": {},
   "source": [
    "## Q9. Describe the difference between descriptive and inferential statistics. Give an example of each type of statistics and explain how they are used.."
   ]
  },
  {
   "cell_type": "markdown",
   "id": "829e7b31-0032-4569-aaca-8256f5e3870b",
   "metadata": {},
   "source": [
    "### 1. Descriptive Statistics\n",
    "#### Descriptive statistics helps to organize and summarize the data, so that pattern can be eaily understood.\n",
    "#\n",
    "### 2. Inferential statistics\n",
    "#### Inferential statistics makes assumption or prediction from the sample data for the population data from which the sample data is drawn.\n",
    "#### e.g :- Generally TV channels predict for the election results from a sample data after survey."
   ]
  },
  {
   "cell_type": "markdown",
   "id": "fb62747e-d8dd-4c46-aeee-66e78404c848",
   "metadata": {},
   "source": [
    "#"
   ]
  },
  {
   "cell_type": "markdown",
   "id": "a209d8e5-46fd-4cbf-b11b-b2fa2faa9c35",
   "metadata": {},
   "source": [
    "## Q10. What are some common measures of central tendency and variability used in statistics? Explain how each measure can be used to describe a dataset.."
   ]
  },
  {
   "cell_type": "markdown",
   "id": "7a630934-928b-4a70-a110-79f062f7fbf5",
   "metadata": {},
   "source": [
    "#### FOR MCT : MEAN, MEDIAN AND MODE\n",
    "#### FOR VARIABILITY : VARIANCE, STANDARD DEVIATION AND RANGE\n",
    "#\n",
    "#### These helps us to summarize and organize the data."
   ]
  }
 ],
 "metadata": {
  "kernelspec": {
   "display_name": "Python 3 (ipykernel)",
   "language": "python",
   "name": "python3"
  },
  "language_info": {
   "codemirror_mode": {
    "name": "ipython",
    "version": 3
   },
   "file_extension": ".py",
   "mimetype": "text/x-python",
   "name": "python",
   "nbconvert_exporter": "python",
   "pygments_lexer": "ipython3",
   "version": "3.12.2"
  }
 },
 "nbformat": 4,
 "nbformat_minor": 5
}
