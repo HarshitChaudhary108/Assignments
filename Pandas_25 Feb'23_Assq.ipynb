{
 "cells": [
  {
   "cell_type": "code",
   "execution_count": 1,
   "id": "63493884",
   "metadata": {},
   "outputs": [],
   "source": [
    "import pandas as pd\n",
    "course_name = ['Data Science', 'Machine Learning', 'Big Data', 'Data Engineer']\n",
    "duration =  [2,3,6,4]\n",
    "df = pd.DataFrame(data = {'course_name' : course_name, 'duration' : duration})"
   ]
  },
  {
   "cell_type": "code",
   "execution_count": 2,
   "id": "43513ca6",
   "metadata": {},
   "outputs": [
    {
     "data": {
      "text/html": [
       "<div>\n",
       "<style scoped>\n",
       "    .dataframe tbody tr th:only-of-type {\n",
       "        vertical-align: middle;\n",
       "    }\n",
       "\n",
       "    .dataframe tbody tr th {\n",
       "        vertical-align: top;\n",
       "    }\n",
       "\n",
       "    .dataframe thead th {\n",
       "        text-align: right;\n",
       "    }\n",
       "</style>\n",
       "<table border=\"1\" class=\"dataframe\">\n",
       "  <thead>\n",
       "    <tr style=\"text-align: right;\">\n",
       "      <th></th>\n",
       "      <th>course_name</th>\n",
       "      <th>duration</th>\n",
       "    </tr>\n",
       "  </thead>\n",
       "  <tbody>\n",
       "    <tr>\n",
       "      <th>0</th>\n",
       "      <td>Data Science</td>\n",
       "      <td>2</td>\n",
       "    </tr>\n",
       "    <tr>\n",
       "      <th>1</th>\n",
       "      <td>Machine Learning</td>\n",
       "      <td>3</td>\n",
       "    </tr>\n",
       "    <tr>\n",
       "      <th>2</th>\n",
       "      <td>Big Data</td>\n",
       "      <td>6</td>\n",
       "    </tr>\n",
       "    <tr>\n",
       "      <th>3</th>\n",
       "      <td>Data Engineer</td>\n",
       "      <td>4</td>\n",
       "    </tr>\n",
       "  </tbody>\n",
       "</table>\n",
       "</div>"
      ],
      "text/plain": [
       "        course_name  duration\n",
       "0      Data Science         2\n",
       "1  Machine Learning         3\n",
       "2          Big Data         6\n",
       "3     Data Engineer         4"
      ]
     },
     "execution_count": 2,
     "metadata": {},
     "output_type": "execute_result"
    }
   ],
   "source": [
    "df"
   ]
  },
  {
   "cell_type": "markdown",
   "id": "d8359559",
   "metadata": {},
   "source": [
    "## Q1. Write a code to print the data present in the second row of the dataframe, df.\n",
    "### Answer "
   ]
  },
  {
   "cell_type": "code",
   "execution_count": 3,
   "id": "11038ba4",
   "metadata": {},
   "outputs": [
    {
     "data": {
      "text/plain": [
       "course_name    Machine Learning\n",
       "duration                      3\n",
       "Name: 1, dtype: object"
      ]
     },
     "execution_count": 3,
     "metadata": {},
     "output_type": "execute_result"
    }
   ],
   "source": [
    "df.iloc[1,[0,1]]"
   ]
  },
  {
   "cell_type": "markdown",
   "id": "dfa3a98d",
   "metadata": {},
   "source": [
    "## Q2. What is the difference between the functions loc and iloc in pandas.DataFrame?\n",
    "### Answer"
   ]
  },
  {
   "cell_type": "markdown",
   "id": "906fe268",
   "metadata": {},
   "source": [
    "#### So in pandas we got 2 functions named as LOC and ILOC \n",
    "#### iloc is integer based function, where we give the default integer values assigned by the pandas as input but on the other hand, in loc we share the displayed name index as input and get the result as per that."
   ]
  },
  {
   "cell_type": "markdown",
   "id": "3fc7e9cd",
   "metadata": {},
   "source": [
    "#"
   ]
  },
  {
   "cell_type": "markdown",
   "id": "a6d0db4a",
   "metadata": {},
   "source": [
    "## Q3. Reindex the given dataframe using a variable, reindex = [3,0,1,2] and store it in the variable, new_df then find the output for both new_df.loc[2] and new_df.iloc[2].\n",
    "\n",
    "## Did you observe any difference in both the outputs? If so then explain it.\n",
    "### Answer"
   ]
  },
  {
   "cell_type": "code",
   "execution_count": 4,
   "id": "41e813a0",
   "metadata": {},
   "outputs": [],
   "source": [
    "reindex = [3,0,1,2]\n",
    "\n",
    "new_df = df.reindex(reindex)"
   ]
  },
  {
   "cell_type": "code",
   "execution_count": 5,
   "id": "4aa7d104",
   "metadata": {},
   "outputs": [
    {
     "data": {
      "text/plain": [
       "course_name    Big Data\n",
       "duration              6\n",
       "Name: 2, dtype: object"
      ]
     },
     "execution_count": 5,
     "metadata": {},
     "output_type": "execute_result"
    }
   ],
   "source": [
    "new_df.loc[2]"
   ]
  },
  {
   "cell_type": "code",
   "execution_count": 6,
   "id": "ebce9f52",
   "metadata": {},
   "outputs": [
    {
     "data": {
      "text/plain": [
       "course_name    Machine Learning\n",
       "duration                      3\n",
       "Name: 1, dtype: object"
      ]
     },
     "execution_count": 6,
     "metadata": {},
     "output_type": "execute_result"
    }
   ],
   "source": [
    "new_df.iloc[2]"
   ]
  },
  {
   "cell_type": "markdown",
   "id": "5d66ff02",
   "metadata": {},
   "source": [
    "#### Yes, we have observed the difference between both the outputs\n",
    "#### as we know that the iloc function is a default index based kind of function, so its giving the output in the default order of indexes. on the other hand, iloc is giving us the output as per the re_indexes."
   ]
  },
  {
   "cell_type": "markdown",
   "id": "b41494d6",
   "metadata": {},
   "source": [
    "#"
   ]
  },
  {
   "cell_type": "markdown",
   "id": "25ac6bf3",
   "metadata": {},
   "source": [
    "#"
   ]
  },
  {
   "cell_type": "code",
   "execution_count": 7,
   "id": "a52c1486",
   "metadata": {},
   "outputs": [],
   "source": [
    "import pandas as pd\n",
    "import numpy as np\n",
    "columns = ['column_1', 'column_2', 'column_3', 'column_4', 'column_5', 'column_6']\n",
    "indices = [1,2,3,4,5,6]\n",
    "#Creating a dataframe:\n",
    "df1 = pd.DataFrame(np.random.rand(6,6), columns = columns, index = indices)"
   ]
  },
  {
   "cell_type": "code",
   "execution_count": 8,
   "id": "1864466d",
   "metadata": {},
   "outputs": [
    {
     "data": {
      "text/html": [
       "<div>\n",
       "<style scoped>\n",
       "    .dataframe tbody tr th:only-of-type {\n",
       "        vertical-align: middle;\n",
       "    }\n",
       "\n",
       "    .dataframe tbody tr th {\n",
       "        vertical-align: top;\n",
       "    }\n",
       "\n",
       "    .dataframe thead th {\n",
       "        text-align: right;\n",
       "    }\n",
       "</style>\n",
       "<table border=\"1\" class=\"dataframe\">\n",
       "  <thead>\n",
       "    <tr style=\"text-align: right;\">\n",
       "      <th></th>\n",
       "      <th>column_1</th>\n",
       "      <th>column_2</th>\n",
       "      <th>column_3</th>\n",
       "      <th>column_4</th>\n",
       "      <th>column_5</th>\n",
       "      <th>column_6</th>\n",
       "    </tr>\n",
       "  </thead>\n",
       "  <tbody>\n",
       "    <tr>\n",
       "      <th>1</th>\n",
       "      <td>0.673881</td>\n",
       "      <td>0.424338</td>\n",
       "      <td>0.800351</td>\n",
       "      <td>0.231279</td>\n",
       "      <td>0.865490</td>\n",
       "      <td>0.358816</td>\n",
       "    </tr>\n",
       "    <tr>\n",
       "      <th>2</th>\n",
       "      <td>0.596586</td>\n",
       "      <td>0.061785</td>\n",
       "      <td>0.736846</td>\n",
       "      <td>0.308205</td>\n",
       "      <td>0.042281</td>\n",
       "      <td>0.734951</td>\n",
       "    </tr>\n",
       "    <tr>\n",
       "      <th>3</th>\n",
       "      <td>0.576857</td>\n",
       "      <td>0.805974</td>\n",
       "      <td>0.181160</td>\n",
       "      <td>0.773929</td>\n",
       "      <td>0.723217</td>\n",
       "      <td>0.031031</td>\n",
       "    </tr>\n",
       "    <tr>\n",
       "      <th>4</th>\n",
       "      <td>0.804493</td>\n",
       "      <td>0.002301</td>\n",
       "      <td>0.676297</td>\n",
       "      <td>0.488257</td>\n",
       "      <td>0.690027</td>\n",
       "      <td>0.014737</td>\n",
       "    </tr>\n",
       "    <tr>\n",
       "      <th>5</th>\n",
       "      <td>0.385964</td>\n",
       "      <td>0.548472</td>\n",
       "      <td>0.299716</td>\n",
       "      <td>0.976327</td>\n",
       "      <td>0.781213</td>\n",
       "      <td>0.060140</td>\n",
       "    </tr>\n",
       "    <tr>\n",
       "      <th>6</th>\n",
       "      <td>0.723530</td>\n",
       "      <td>0.406633</td>\n",
       "      <td>0.093692</td>\n",
       "      <td>0.730485</td>\n",
       "      <td>0.680174</td>\n",
       "      <td>0.238188</td>\n",
       "    </tr>\n",
       "  </tbody>\n",
       "</table>\n",
       "</div>"
      ],
      "text/plain": [
       "   column_1  column_2  column_3  column_4  column_5  column_6\n",
       "1  0.673881  0.424338  0.800351  0.231279  0.865490  0.358816\n",
       "2  0.596586  0.061785  0.736846  0.308205  0.042281  0.734951\n",
       "3  0.576857  0.805974  0.181160  0.773929  0.723217  0.031031\n",
       "4  0.804493  0.002301  0.676297  0.488257  0.690027  0.014737\n",
       "5  0.385964  0.548472  0.299716  0.976327  0.781213  0.060140\n",
       "6  0.723530  0.406633  0.093692  0.730485  0.680174  0.238188"
      ]
     },
     "execution_count": 8,
     "metadata": {},
     "output_type": "execute_result"
    }
   ],
   "source": [
    "df1"
   ]
  },
  {
   "cell_type": "markdown",
   "id": "33750803",
   "metadata": {},
   "source": [
    "## Q4. Write a code to find the following statistical measurements for the above dataframe df1:\n",
    "## (i) mean of each and every column present in the dataframe.\n",
    "## (ii) standard deviation of column, ‘column_2’\n",
    "### Answer"
   ]
  },
  {
   "cell_type": "markdown",
   "id": "a39cfa78",
   "metadata": {},
   "source": [
    "#### Mean"
   ]
  },
  {
   "cell_type": "code",
   "execution_count": 9,
   "id": "672b749c",
   "metadata": {},
   "outputs": [
    {
     "data": {
      "text/plain": [
       "0.626885052847073"
      ]
     },
     "execution_count": 9,
     "metadata": {},
     "output_type": "execute_result"
    }
   ],
   "source": [
    "df1[\"column_1\"].mean()"
   ]
  },
  {
   "cell_type": "code",
   "execution_count": 10,
   "id": "05903fd7",
   "metadata": {},
   "outputs": [
    {
     "data": {
      "text/plain": [
       "0.3749171852620981"
      ]
     },
     "execution_count": 10,
     "metadata": {},
     "output_type": "execute_result"
    }
   ],
   "source": [
    "df1[\"column_2\"].mean()"
   ]
  },
  {
   "cell_type": "code",
   "execution_count": 11,
   "id": "ad7deb81",
   "metadata": {},
   "outputs": [
    {
     "data": {
      "text/plain": [
       "0.46467690937107836"
      ]
     },
     "execution_count": 11,
     "metadata": {},
     "output_type": "execute_result"
    }
   ],
   "source": [
    "df1[\"column_3\"].mean()"
   ]
  },
  {
   "cell_type": "code",
   "execution_count": 12,
   "id": "f992de5a",
   "metadata": {},
   "outputs": [
    {
     "data": {
      "text/plain": [
       "0.584746852778915"
      ]
     },
     "execution_count": 12,
     "metadata": {},
     "output_type": "execute_result"
    }
   ],
   "source": [
    "df1[\"column_4\"].mean()"
   ]
  },
  {
   "cell_type": "code",
   "execution_count": 13,
   "id": "d3f8670c",
   "metadata": {},
   "outputs": [
    {
     "data": {
      "text/plain": [
       "0.6304004223341418"
      ]
     },
     "execution_count": 13,
     "metadata": {},
     "output_type": "execute_result"
    }
   ],
   "source": [
    "df1[\"column_5\"].mean()"
   ]
  },
  {
   "cell_type": "code",
   "execution_count": 14,
   "id": "dd0daa0b",
   "metadata": {},
   "outputs": [
    {
     "data": {
      "text/plain": [
       "0.2396437403400129"
      ]
     },
     "execution_count": 14,
     "metadata": {},
     "output_type": "execute_result"
    }
   ],
   "source": [
    "df1[\"column_6\"].mean()"
   ]
  },
  {
   "cell_type": "markdown",
   "id": "226df2f0",
   "metadata": {},
   "source": [
    "#### Standard Deviation"
   ]
  },
  {
   "cell_type": "code",
   "execution_count": 15,
   "id": "b2f07d97",
   "metadata": {},
   "outputs": [
    {
     "data": {
      "text/plain": [
       "0.1446080891942033"
      ]
     },
     "execution_count": 15,
     "metadata": {},
     "output_type": "execute_result"
    }
   ],
   "source": [
    "df1[\"column_1\"].std()"
   ]
  },
  {
   "cell_type": "markdown",
   "id": "af67cca7",
   "metadata": {},
   "source": [
    "#"
   ]
  },
  {
   "cell_type": "markdown",
   "id": "673fada2",
   "metadata": {},
   "source": [
    "## Q5. Replace the data present in the second row of column, ‘column_2’ by a string variable then find the mean of column, column_2. If you are getting errors in executing it then explain why.\n",
    "[Hint: To replace the data use df1.loc[] and equate this to string data of your choice.]\n",
    "### Answer"
   ]
  },
  {
   "cell_type": "code",
   "execution_count": 16,
   "id": "a9d93f94",
   "metadata": {},
   "outputs": [
    {
     "data": {
      "text/html": [
       "<div>\n",
       "<style scoped>\n",
       "    .dataframe tbody tr th:only-of-type {\n",
       "        vertical-align: middle;\n",
       "    }\n",
       "\n",
       "    .dataframe tbody tr th {\n",
       "        vertical-align: top;\n",
       "    }\n",
       "\n",
       "    .dataframe thead th {\n",
       "        text-align: right;\n",
       "    }\n",
       "</style>\n",
       "<table border=\"1\" class=\"dataframe\">\n",
       "  <thead>\n",
       "    <tr style=\"text-align: right;\">\n",
       "      <th></th>\n",
       "      <th>column_1</th>\n",
       "      <th>column_2</th>\n",
       "      <th>column_3</th>\n",
       "      <th>column_4</th>\n",
       "      <th>column_5</th>\n",
       "      <th>column_6</th>\n",
       "    </tr>\n",
       "  </thead>\n",
       "  <tbody>\n",
       "    <tr>\n",
       "      <th>1</th>\n",
       "      <td>0.673881</td>\n",
       "      <td>0.424338</td>\n",
       "      <td>0.800351</td>\n",
       "      <td>0.231279</td>\n",
       "      <td>0.865490</td>\n",
       "      <td>0.358816</td>\n",
       "    </tr>\n",
       "    <tr>\n",
       "      <th>2</th>\n",
       "      <td>0.596586</td>\n",
       "      <td>0.061785</td>\n",
       "      <td>0.736846</td>\n",
       "      <td>0.308205</td>\n",
       "      <td>0.042281</td>\n",
       "      <td>0.734951</td>\n",
       "    </tr>\n",
       "    <tr>\n",
       "      <th>3</th>\n",
       "      <td>0.576857</td>\n",
       "      <td>0.805974</td>\n",
       "      <td>0.181160</td>\n",
       "      <td>0.773929</td>\n",
       "      <td>0.723217</td>\n",
       "      <td>0.031031</td>\n",
       "    </tr>\n",
       "    <tr>\n",
       "      <th>4</th>\n",
       "      <td>0.804493</td>\n",
       "      <td>0.002301</td>\n",
       "      <td>0.676297</td>\n",
       "      <td>0.488257</td>\n",
       "      <td>0.690027</td>\n",
       "      <td>0.014737</td>\n",
       "    </tr>\n",
       "    <tr>\n",
       "      <th>5</th>\n",
       "      <td>0.385964</td>\n",
       "      <td>0.548472</td>\n",
       "      <td>0.299716</td>\n",
       "      <td>0.976327</td>\n",
       "      <td>0.781213</td>\n",
       "      <td>0.060140</td>\n",
       "    </tr>\n",
       "    <tr>\n",
       "      <th>6</th>\n",
       "      <td>0.723530</td>\n",
       "      <td>0.406633</td>\n",
       "      <td>0.093692</td>\n",
       "      <td>0.730485</td>\n",
       "      <td>0.680174</td>\n",
       "      <td>0.238188</td>\n",
       "    </tr>\n",
       "  </tbody>\n",
       "</table>\n",
       "</div>"
      ],
      "text/plain": [
       "   column_1  column_2  column_3  column_4  column_5  column_6\n",
       "1  0.673881  0.424338  0.800351  0.231279  0.865490  0.358816\n",
       "2  0.596586  0.061785  0.736846  0.308205  0.042281  0.734951\n",
       "3  0.576857  0.805974  0.181160  0.773929  0.723217  0.031031\n",
       "4  0.804493  0.002301  0.676297  0.488257  0.690027  0.014737\n",
       "5  0.385964  0.548472  0.299716  0.976327  0.781213  0.060140\n",
       "6  0.723530  0.406633  0.093692  0.730485  0.680174  0.238188"
      ]
     },
     "execution_count": 16,
     "metadata": {},
     "output_type": "execute_result"
    }
   ],
   "source": [
    "df1"
   ]
  },
  {
   "cell_type": "code",
   "execution_count": 17,
   "id": "6a3e5709",
   "metadata": {},
   "outputs": [],
   "source": [
    "sv = [\"Hare\", \"Krishna\", \"Gaur\", \"Hari\", \"Nitai\", \"Balrama\"]"
   ]
  },
  {
   "cell_type": "code",
   "execution_count": 18,
   "id": "a9b51636",
   "metadata": {},
   "outputs": [],
   "source": [
    "df1.loc[2] = sv"
   ]
  },
  {
   "cell_type": "code",
   "execution_count": 19,
   "id": "037743d3",
   "metadata": {},
   "outputs": [
    {
     "data": {
      "text/html": [
       "<div>\n",
       "<style scoped>\n",
       "    .dataframe tbody tr th:only-of-type {\n",
       "        vertical-align: middle;\n",
       "    }\n",
       "\n",
       "    .dataframe tbody tr th {\n",
       "        vertical-align: top;\n",
       "    }\n",
       "\n",
       "    .dataframe thead th {\n",
       "        text-align: right;\n",
       "    }\n",
       "</style>\n",
       "<table border=\"1\" class=\"dataframe\">\n",
       "  <thead>\n",
       "    <tr style=\"text-align: right;\">\n",
       "      <th></th>\n",
       "      <th>column_1</th>\n",
       "      <th>column_2</th>\n",
       "      <th>column_3</th>\n",
       "      <th>column_4</th>\n",
       "      <th>column_5</th>\n",
       "      <th>column_6</th>\n",
       "    </tr>\n",
       "  </thead>\n",
       "  <tbody>\n",
       "    <tr>\n",
       "      <th>1</th>\n",
       "      <td>0.673881</td>\n",
       "      <td>0.424338</td>\n",
       "      <td>0.800351</td>\n",
       "      <td>0.231279</td>\n",
       "      <td>0.86549</td>\n",
       "      <td>0.358816</td>\n",
       "    </tr>\n",
       "    <tr>\n",
       "      <th>2</th>\n",
       "      <td>Hare</td>\n",
       "      <td>Krishna</td>\n",
       "      <td>Gaur</td>\n",
       "      <td>Hari</td>\n",
       "      <td>Nitai</td>\n",
       "      <td>Balrama</td>\n",
       "    </tr>\n",
       "    <tr>\n",
       "      <th>3</th>\n",
       "      <td>0.576857</td>\n",
       "      <td>0.805974</td>\n",
       "      <td>0.18116</td>\n",
       "      <td>0.773929</td>\n",
       "      <td>0.723217</td>\n",
       "      <td>0.031031</td>\n",
       "    </tr>\n",
       "    <tr>\n",
       "      <th>4</th>\n",
       "      <td>0.804493</td>\n",
       "      <td>0.002301</td>\n",
       "      <td>0.676297</td>\n",
       "      <td>0.488257</td>\n",
       "      <td>0.690027</td>\n",
       "      <td>0.014737</td>\n",
       "    </tr>\n",
       "    <tr>\n",
       "      <th>5</th>\n",
       "      <td>0.385964</td>\n",
       "      <td>0.548472</td>\n",
       "      <td>0.299716</td>\n",
       "      <td>0.976327</td>\n",
       "      <td>0.781213</td>\n",
       "      <td>0.06014</td>\n",
       "    </tr>\n",
       "    <tr>\n",
       "      <th>6</th>\n",
       "      <td>0.72353</td>\n",
       "      <td>0.406633</td>\n",
       "      <td>0.093692</td>\n",
       "      <td>0.730485</td>\n",
       "      <td>0.680174</td>\n",
       "      <td>0.238188</td>\n",
       "    </tr>\n",
       "  </tbody>\n",
       "</table>\n",
       "</div>"
      ],
      "text/plain": [
       "   column_1  column_2  column_3  column_4  column_5  column_6\n",
       "1  0.673881  0.424338  0.800351  0.231279   0.86549  0.358816\n",
       "2      Hare   Krishna      Gaur      Hari     Nitai   Balrama\n",
       "3  0.576857  0.805974   0.18116  0.773929  0.723217  0.031031\n",
       "4  0.804493  0.002301  0.676297  0.488257  0.690027  0.014737\n",
       "5  0.385964  0.548472  0.299716  0.976327  0.781213   0.06014\n",
       "6   0.72353  0.406633  0.093692  0.730485  0.680174  0.238188"
      ]
     },
     "execution_count": 19,
     "metadata": {},
     "output_type": "execute_result"
    }
   ],
   "source": [
    "df1"
   ]
  },
  {
   "cell_type": "code",
   "execution_count": 20,
   "id": "1c79d723",
   "metadata": {},
   "outputs": [
    {
     "data": {
      "text/plain": [
       "['column_1', 'column_2', 'column_3', 'column_4', 'column_5', 'column_6']"
      ]
     },
     "execution_count": 20,
     "metadata": {},
     "output_type": "execute_result"
    }
   ],
   "source": [
    "list(df1.columns)"
   ]
  },
  {
   "cell_type": "code",
   "execution_count": 21,
   "id": "c650b574",
   "metadata": {},
   "outputs": [
    {
     "name": "stdout",
     "output_type": "stream",
     "text": [
      "unsupported operand type(s) for +: 'float' and 'str'\n"
     ]
    }
   ],
   "source": [
    "try:\n",
    "    df1[\"column_2\"].mean()\n",
    "except Exception as e:\n",
    "    print(e)"
   ]
  },
  {
   "cell_type": "markdown",
   "id": "b49d2c39",
   "metadata": {},
   "source": [
    "#### I think, it's just simple that we can derive the mean of only integer values, in column_2, in the second row, we have one string data type value. That's why we are getting error while trying to derive the mean of column_2"
   ]
  },
  {
   "cell_type": "markdown",
   "id": "9c108000",
   "metadata": {},
   "source": [
    "#"
   ]
  },
  {
   "cell_type": "markdown",
   "id": "9d074a67",
   "metadata": {},
   "source": [
    "## Q6. What do you understand about the windows function in pandas and list the types of windows functions?\n",
    "### Answer"
   ]
  },
  {
   "cell_type": "markdown",
   "id": "6f8a52c7",
   "metadata": {},
   "source": [
    "#### Windows function in pandas frequently used during statistical operations and data analysis. In this function we give the number of rows as the input and the function creates a window of that number rows including the boundary digit and then we can perform the mathematical operations. This function makes the complex problems get solved very easily."
   ]
  },
  {
   "cell_type": "markdown",
   "id": "1fca2f58",
   "metadata": {},
   "source": [
    "#"
   ]
  },
  {
   "cell_type": "markdown",
   "id": "ca12fe06",
   "metadata": {},
   "source": [
    "## Q7. Write a code to print only the current month and year at the time of answering this question. [Hint: Use pandas.datetime function]\n",
    "### Answer "
   ]
  },
  {
   "cell_type": "code",
   "execution_count": 22,
   "id": "08a27d88",
   "metadata": {},
   "outputs": [],
   "source": [
    "dt_q = pd.date_range(\"2024-02-05\", \"2024-02-15\")"
   ]
  },
  {
   "cell_type": "code",
   "execution_count": 23,
   "id": "d33a4586",
   "metadata": {},
   "outputs": [
    {
     "data": {
      "text/html": [
       "<div>\n",
       "<style scoped>\n",
       "    .dataframe tbody tr th:only-of-type {\n",
       "        vertical-align: middle;\n",
       "    }\n",
       "\n",
       "    .dataframe tbody tr th {\n",
       "        vertical-align: top;\n",
       "    }\n",
       "\n",
       "    .dataframe thead th {\n",
       "        text-align: right;\n",
       "    }\n",
       "</style>\n",
       "<table border=\"1\" class=\"dataframe\">\n",
       "  <thead>\n",
       "    <tr style=\"text-align: right;\">\n",
       "      <th></th>\n",
       "      <th>date</th>\n",
       "    </tr>\n",
       "  </thead>\n",
       "  <tbody>\n",
       "    <tr>\n",
       "      <th>0</th>\n",
       "      <td>2024-02-05</td>\n",
       "    </tr>\n",
       "    <tr>\n",
       "      <th>1</th>\n",
       "      <td>2024-02-06</td>\n",
       "    </tr>\n",
       "    <tr>\n",
       "      <th>2</th>\n",
       "      <td>2024-02-07</td>\n",
       "    </tr>\n",
       "    <tr>\n",
       "      <th>3</th>\n",
       "      <td>2024-02-08</td>\n",
       "    </tr>\n",
       "    <tr>\n",
       "      <th>4</th>\n",
       "      <td>2024-02-09</td>\n",
       "    </tr>\n",
       "    <tr>\n",
       "      <th>5</th>\n",
       "      <td>2024-02-10</td>\n",
       "    </tr>\n",
       "    <tr>\n",
       "      <th>6</th>\n",
       "      <td>2024-02-11</td>\n",
       "    </tr>\n",
       "    <tr>\n",
       "      <th>7</th>\n",
       "      <td>2024-02-12</td>\n",
       "    </tr>\n",
       "    <tr>\n",
       "      <th>8</th>\n",
       "      <td>2024-02-13</td>\n",
       "    </tr>\n",
       "    <tr>\n",
       "      <th>9</th>\n",
       "      <td>2024-02-14</td>\n",
       "    </tr>\n",
       "    <tr>\n",
       "      <th>10</th>\n",
       "      <td>2024-02-15</td>\n",
       "    </tr>\n",
       "  </tbody>\n",
       "</table>\n",
       "</div>"
      ],
      "text/plain": [
       "         date\n",
       "0  2024-02-05\n",
       "1  2024-02-06\n",
       "2  2024-02-07\n",
       "3  2024-02-08\n",
       "4  2024-02-09\n",
       "5  2024-02-10\n",
       "6  2024-02-11\n",
       "7  2024-02-12\n",
       "8  2024-02-13\n",
       "9  2024-02-14\n",
       "10 2024-02-15"
      ]
     },
     "execution_count": 23,
     "metadata": {},
     "output_type": "execute_result"
    }
   ],
   "source": [
    "df2 = pd.DataFrame({\"date\":dt_q})\n",
    "df2"
   ]
  },
  {
   "cell_type": "code",
   "execution_count": 24,
   "id": "b452ae14",
   "metadata": {},
   "outputs": [],
   "source": [
    "df2[\"Current_year\"] = df2[\"date\"].dt.year\n",
    "df2[\"Current_month\"] = df2[\"date\"].dt.month"
   ]
  },
  {
   "cell_type": "code",
   "execution_count": 25,
   "id": "2cf25a6c",
   "metadata": {},
   "outputs": [
    {
     "data": {
      "text/html": [
       "<div>\n",
       "<style scoped>\n",
       "    .dataframe tbody tr th:only-of-type {\n",
       "        vertical-align: middle;\n",
       "    }\n",
       "\n",
       "    .dataframe tbody tr th {\n",
       "        vertical-align: top;\n",
       "    }\n",
       "\n",
       "    .dataframe thead th {\n",
       "        text-align: right;\n",
       "    }\n",
       "</style>\n",
       "<table border=\"1\" class=\"dataframe\">\n",
       "  <thead>\n",
       "    <tr style=\"text-align: right;\">\n",
       "      <th></th>\n",
       "      <th>date</th>\n",
       "      <th>Current_year</th>\n",
       "      <th>Current_month</th>\n",
       "    </tr>\n",
       "  </thead>\n",
       "  <tbody>\n",
       "    <tr>\n",
       "      <th>0</th>\n",
       "      <td>2024-02-05</td>\n",
       "      <td>2024</td>\n",
       "      <td>2</td>\n",
       "    </tr>\n",
       "    <tr>\n",
       "      <th>1</th>\n",
       "      <td>2024-02-06</td>\n",
       "      <td>2024</td>\n",
       "      <td>2</td>\n",
       "    </tr>\n",
       "    <tr>\n",
       "      <th>2</th>\n",
       "      <td>2024-02-07</td>\n",
       "      <td>2024</td>\n",
       "      <td>2</td>\n",
       "    </tr>\n",
       "    <tr>\n",
       "      <th>3</th>\n",
       "      <td>2024-02-08</td>\n",
       "      <td>2024</td>\n",
       "      <td>2</td>\n",
       "    </tr>\n",
       "    <tr>\n",
       "      <th>4</th>\n",
       "      <td>2024-02-09</td>\n",
       "      <td>2024</td>\n",
       "      <td>2</td>\n",
       "    </tr>\n",
       "    <tr>\n",
       "      <th>5</th>\n",
       "      <td>2024-02-10</td>\n",
       "      <td>2024</td>\n",
       "      <td>2</td>\n",
       "    </tr>\n",
       "    <tr>\n",
       "      <th>6</th>\n",
       "      <td>2024-02-11</td>\n",
       "      <td>2024</td>\n",
       "      <td>2</td>\n",
       "    </tr>\n",
       "    <tr>\n",
       "      <th>7</th>\n",
       "      <td>2024-02-12</td>\n",
       "      <td>2024</td>\n",
       "      <td>2</td>\n",
       "    </tr>\n",
       "    <tr>\n",
       "      <th>8</th>\n",
       "      <td>2024-02-13</td>\n",
       "      <td>2024</td>\n",
       "      <td>2</td>\n",
       "    </tr>\n",
       "    <tr>\n",
       "      <th>9</th>\n",
       "      <td>2024-02-14</td>\n",
       "      <td>2024</td>\n",
       "      <td>2</td>\n",
       "    </tr>\n",
       "    <tr>\n",
       "      <th>10</th>\n",
       "      <td>2024-02-15</td>\n",
       "      <td>2024</td>\n",
       "      <td>2</td>\n",
       "    </tr>\n",
       "  </tbody>\n",
       "</table>\n",
       "</div>"
      ],
      "text/plain": [
       "         date  Current_year  Current_month\n",
       "0  2024-02-05          2024              2\n",
       "1  2024-02-06          2024              2\n",
       "2  2024-02-07          2024              2\n",
       "3  2024-02-08          2024              2\n",
       "4  2024-02-09          2024              2\n",
       "5  2024-02-10          2024              2\n",
       "6  2024-02-11          2024              2\n",
       "7  2024-02-12          2024              2\n",
       "8  2024-02-13          2024              2\n",
       "9  2024-02-14          2024              2\n",
       "10 2024-02-15          2024              2"
      ]
     },
     "execution_count": 25,
     "metadata": {},
     "output_type": "execute_result"
    }
   ],
   "source": [
    "df2"
   ]
  },
  {
   "cell_type": "code",
   "execution_count": 26,
   "id": "3d13b80e",
   "metadata": {},
   "outputs": [
    {
     "data": {
      "text/html": [
       "<div>\n",
       "<style scoped>\n",
       "    .dataframe tbody tr th:only-of-type {\n",
       "        vertical-align: middle;\n",
       "    }\n",
       "\n",
       "    .dataframe tbody tr th {\n",
       "        vertical-align: top;\n",
       "    }\n",
       "\n",
       "    .dataframe thead th {\n",
       "        text-align: right;\n",
       "    }\n",
       "</style>\n",
       "<table border=\"1\" class=\"dataframe\">\n",
       "  <thead>\n",
       "    <tr style=\"text-align: right;\">\n",
       "      <th></th>\n",
       "      <th>Current_year</th>\n",
       "      <th>Current_month</th>\n",
       "    </tr>\n",
       "  </thead>\n",
       "  <tbody>\n",
       "    <tr>\n",
       "      <th>0</th>\n",
       "      <td>2024</td>\n",
       "      <td>2</td>\n",
       "    </tr>\n",
       "    <tr>\n",
       "      <th>1</th>\n",
       "      <td>2024</td>\n",
       "      <td>2</td>\n",
       "    </tr>\n",
       "    <tr>\n",
       "      <th>2</th>\n",
       "      <td>2024</td>\n",
       "      <td>2</td>\n",
       "    </tr>\n",
       "    <tr>\n",
       "      <th>3</th>\n",
       "      <td>2024</td>\n",
       "      <td>2</td>\n",
       "    </tr>\n",
       "    <tr>\n",
       "      <th>4</th>\n",
       "      <td>2024</td>\n",
       "      <td>2</td>\n",
       "    </tr>\n",
       "    <tr>\n",
       "      <th>5</th>\n",
       "      <td>2024</td>\n",
       "      <td>2</td>\n",
       "    </tr>\n",
       "    <tr>\n",
       "      <th>6</th>\n",
       "      <td>2024</td>\n",
       "      <td>2</td>\n",
       "    </tr>\n",
       "    <tr>\n",
       "      <th>7</th>\n",
       "      <td>2024</td>\n",
       "      <td>2</td>\n",
       "    </tr>\n",
       "    <tr>\n",
       "      <th>8</th>\n",
       "      <td>2024</td>\n",
       "      <td>2</td>\n",
       "    </tr>\n",
       "    <tr>\n",
       "      <th>9</th>\n",
       "      <td>2024</td>\n",
       "      <td>2</td>\n",
       "    </tr>\n",
       "    <tr>\n",
       "      <th>10</th>\n",
       "      <td>2024</td>\n",
       "      <td>2</td>\n",
       "    </tr>\n",
       "  </tbody>\n",
       "</table>\n",
       "</div>"
      ],
      "text/plain": [
       "    Current_year  Current_month\n",
       "0           2024              2\n",
       "1           2024              2\n",
       "2           2024              2\n",
       "3           2024              2\n",
       "4           2024              2\n",
       "5           2024              2\n",
       "6           2024              2\n",
       "7           2024              2\n",
       "8           2024              2\n",
       "9           2024              2\n",
       "10          2024              2"
      ]
     },
     "execution_count": 26,
     "metadata": {},
     "output_type": "execute_result"
    }
   ],
   "source": [
    "df2[[\"Current_year\", \"Current_month\"]]"
   ]
  },
  {
   "cell_type": "markdown",
   "id": "065da71a",
   "metadata": {},
   "source": [
    "#"
   ]
  },
  {
   "cell_type": "markdown",
   "id": "c9d6effd",
   "metadata": {},
   "source": [
    "## 8. Write a Python program that takes in two dates as input (in the format YYYY-MM-DD) and  calculates the difference between them in days, hours, and minutes using Pandas time delta. The program should prompt the user to enter the dates and display the result.\n",
    "### Answer"
   ]
  },
  {
   "cell_type": "markdown",
   "id": "beac3f0c",
   "metadata": {},
   "source": [
    "##### days = time_delta.days\n",
    "##### hours = time_delta.seconds // 3600\n",
    "##### minutes = (time_delta.seconds // 60) % 60"
   ]
  },
  {
   "cell_type": "code",
   "execution_count": 187,
   "id": "0d006f71",
   "metadata": {},
   "outputs": [
    {
     "name": "stdout",
     "output_type": "stream",
     "text": [
      "Enter the date 1 : 2023-01-12\n",
      "Enter the date 2 : 2024-02-12\n",
      "days_diff 396 days 00:00:00 hour_diff 0 days 00:00:00 min_diff 0 days 00:00:00\n"
     ]
    },
    {
     "name": "stderr",
     "output_type": "stream",
     "text": [
      "C:\\Users\\theha\\AppData\\Local\\Temp\\ipykernel_19000\\1567326595.py:14: FutureWarning: Calling int on a single element Series is deprecated and will raise a TypeError in the future. Use int(ser.iloc[0]) instead\n",
      "  d1 = int(df1[\"date1\"].dt.day)\n",
      "C:\\Users\\theha\\AppData\\Local\\Temp\\ipykernel_19000\\1567326595.py:15: FutureWarning: Calling int on a single element Series is deprecated and will raise a TypeError in the future. Use int(ser.iloc[0]) instead\n",
      "  d2 = int(df1[\"date2\"].dt.day)\n"
     ]
    }
   ],
   "source": [
    "date1 = (input(\"Enter the date 1 : \"))\n",
    "date2 = (input(\"Enter the date 2 : \"))\n",
    "\n",
    "date1_dt = pd.to_datetime(date1)\n",
    "date2_dt = pd.to_datetime(date2)\n",
    "\n",
    "# difference in days\n",
    "days_diff = date2_dt - date1_dt\n",
    "\n",
    "# difference in hours\n",
    "df1 = pd.DataFrame({\"date1\":[date1_dt],\n",
    "            \"date2\" :[date2_dt]})\n",
    "\n",
    "d1 = int(df1[\"date1\"].dt.day)\n",
    "d2 = int(df1[\"date2\"].dt.day)\n",
    "\n",
    "a = pd.Timedelta(hours = d1*24)\n",
    "b = pd.Timedelta(hours = d2*24)\n",
    "\n",
    "hour_diff = b-a\n",
    "\n",
    "# difference in minutes\n",
    "c = pd.Timedelta(minutes= d1*24*60)\n",
    "d = pd.Timedelta(minutes= d2*24*60)\n",
    "\n",
    "min_diff = d-c\n",
    "\n",
    "print(\"days_diff\", days_diff, \"hour_diff\", hour_diff, \"min_diff\", min_diff)"
   ]
  },
  {
   "cell_type": "markdown",
   "id": "5d12e265",
   "metadata": {},
   "source": [
    "##  Q9. Write a Python program that reads a CSV file containing categorical data and converts a specified  column to a categorical data type. The program should prompt the user to enter the file path, column name, and category order, and then display the sorted data.\n",
    "### Answer"
   ]
  },
  {
   "cell_type": "code",
   "execution_count": 28,
   "id": "39fd76ec",
   "metadata": {},
   "outputs": [
    {
     "name": "stdout",
     "output_type": "stream",
     "text": [
      "enter the file path_BankCustomerData.csv\n",
      "Enter the column you want to get categorised_job\n",
      "Enter the orderTrue\n",
      "['management', 'technician', 'entrepreneur', 'blue-collar', 'unknown', ..., 'student', 'retired', 'blue-collar', 'student', 'management']\n",
      "Length: 42639\n",
      "Categories (12, object): ['admin.' < 'blue-collar' < 'entrepreneur' < 'housemaid' ... 'student' < 'technician' < 'unemployed' < 'unknown']\n"
     ]
    },
    {
     "data": {
      "text/plain": [
       "admin.           4810\n",
       "blue-collar      9536\n",
       "entrepreneur     1453\n",
       "housemaid        1178\n",
       "management       8851\n",
       "retired          1880\n",
       "self-employed    1500\n",
       "services         4033\n",
       "student           718\n",
       "technician       7223\n",
       "unemployed       1193\n",
       "unknown           264\n",
       "Name: count, dtype: int64"
      ]
     },
     "execution_count": 28,
     "metadata": {},
     "output_type": "execute_result"
    }
   ],
   "source": [
    "file_pth = input(\"enter the file path_\")\n",
    "col = input(\"Enter the column you want to get categorised_\")\n",
    "order = bool(input(\"Enter the order\"))\n",
    "\n",
    "ndf = pd.read_csv(file_pth)\n",
    "cat_data = pd.Categorical(ndf[col], ordered=order)\n",
    "print(cat_data)\n",
    "cat_data.value_counts()"
   ]
  },
  {
   "cell_type": "markdown",
   "id": "723a24fc",
   "metadata": {},
   "source": [
    "#"
   ]
  },
  {
   "cell_type": "markdown",
   "id": "5442cea9",
   "metadata": {},
   "source": [
    "## Q10. Write a Python program that reads a CSV file containing sales data for different products and  visualizes the data using a stacked bar chart to show the sales of each product category over time. The program should prompt the user to enter the file path and display the chart.\n",
    "### Answer"
   ]
  },
  {
   "cell_type": "code",
   "execution_count": 29,
   "id": "1e15ea95",
   "metadata": {},
   "outputs": [
    {
     "name": "stdout",
     "output_type": "stream",
     "text": [
      "Enter the file path_sales.csv\n",
      "Index(['ProductID', 'Weight', 'FatContent', 'ProductVisibility', 'ProductType',\n",
      "       'MRP', 'OutletID', 'EstablishmentYear', 'OutletSize', 'LocationType',\n",
      "       'OutletType', 'OutletSales'],\n",
      "      dtype='object')\n",
      "None\n",
      "Enter the Category Column_ProductType\n",
      "['ProductID', 'Weight', 'FatContent', 'ProductVisibility', 'MRP', 'OutletID', 'EstablishmentYear', 'OutletSize', 'LocationType', 'OutletType', 'OutletSales']\n",
      "Enter the Quantity Column_OutletSales\n"
     ]
    },
    {
     "data": {
      "text/plain": [
       "<Axes: xlabel='ProductType'>"
      ]
     },
     "execution_count": 29,
     "metadata": {},
     "output_type": "execute_result"
    },
    {
     "data": {
      "image/png": "[encoded data removed]",
      "text/plain": [
       "<Figure size 640x480 with 1 Axes>"
      ]
     },
     "metadata": {},
     "output_type": "display_data"
    }
   ],
   "source": [
    "try:\n",
    "    pth = input(\"Enter the file path_\")\n",
    "    inner_opening = pd.read_csv(pth)\n",
    "    print(print(inner_opening.columns))\n",
    "except Exception as e:\n",
    "    print(e)\n",
    "    \n",
    "try:\n",
    "    gp_col = input(\"Enter the Category Column_\")\n",
    "except Exception as e:\n",
    "    print(e)\n",
    "\n",
    "    \n",
    "# here, we grouped the data of the category column\n",
    "g = inner_opening.groupby(gp_col)\n",
    "\n",
    "# We got the sum of the grouped data, which includes the total number of products sold\n",
    "gp_data = g.sum()\n",
    "\n",
    "try:\n",
    "    print(list(gp_data.columns))\n",
    "    Quan = input(\"Enter the Quantity Column_\")\n",
    "except Exception as e:\n",
    "    print(e)\n",
    "\n",
    "# We plot the bar\n",
    "gp_data.plot.bar(y=Quan)"
   ]
  },
  {
   "cell_type": "markdown",
   "id": "4c0bbcc4",
   "metadata": {},
   "source": [
    "#"
   ]
  },
  {
   "cell_type": "markdown",
   "id": "c85839a1",
   "metadata": {},
   "source": [
    "## Q11. You are given a CSV file containing student data that includes the student ID and their test score. Write a Python program that reads the CSV file, calculates the mean, median, and mode of the test scores, and displays the results in a table.\n",
    " \n",
    "## The program should do the following\n",
    "#### Prompt the user to enter the file path of the CSV file containing the student data\n",
    "#### Read the CSV file into a Pandas DataFrame\n",
    "#### Calculate the mean, median, and mode of the test scores using Pandas tools\n",
    "#### Display the mean, median, and mode in a table.\n",
    "\n",
    "## Assume the CSV file contains the following columns\n",
    "#### Student ID: The ID of the student\n",
    "#### Test Score: The score of the student's test.\n",
    "#\n",
    "### Answer "
   ]
  },
  {
   "cell_type": "markdown",
   "id": "3bdd8060",
   "metadata": {},
   "source": [
    "#### We have created a csv data of the given data and saved it in our system. Now we are gonna use this in our question"
   ]
  },
  {
   "cell_type": "code",
   "execution_count": 77,
   "id": "e359ac07",
   "metadata": {},
   "outputs": [
    {
     "name": "stdout",
     "output_type": "stream",
     "text": [
      "Enter the file path_StudentID.csv\n",
      "   StudentID  Test_Score\n",
      "0          1          85\n",
      "1          2          90\n",
      "2          3          80\n",
      "3          4          75\n",
      "4          5          85\n",
      "5          6          82\n",
      "6          7          78\n",
      "7          8          85\n",
      "8          9          90\n",
      "9         10          85\n",
      "+-----------+-------\n",
      " | Statistic | Value |\n",
      "+-----------+--------+\n",
      "Mean    | 83.5\n",
      "Median  | 85.0\n",
      "Mode    | 0    85\n",
      "Name: Test_Score, dtype: int64\n"
     ]
    }
   ],
   "source": [
    "file_path = input(\"Enter the file path_\")\n",
    "\n",
    "try:\n",
    "    dfx = pd.read_csv(file_path)\n",
    "    print(dfx) \n",
    "except Exception as e:\n",
    "    print(e)\n",
    "\n",
    "print(\"+-----------+-------\")\n",
    "print(\" | Statistic | Value |\")\n",
    "print(\"+-----------+--------+\")\n",
    "print(\"Mean    |\",  dfx[\"Test_Score\"].mean())\n",
    "print(\"Median  |\",  dfx[\"Test_Score\"].median())\n",
    "print(\"Mode    |\",  dfx[\"Test_Score\"].mode())"
   ]
  }
 ],
 "metadata": {
  "kernelspec": {
   "display_name": "Python 3 (ipykernel)",
   "language": "python",
   "name": "python3"
  },
  "language_info": {
   "codemirror_mode": {
    "name": "ipython",
    "version": 3
   },
   "file_extension": ".py",
   "mimetype": "text/x-python",
   "name": "python",
   "nbconvert_exporter": "python",
   "pygments_lexer": "ipython3",
   "version": "3.11.5"
  }
 },
 "nbformat": 4,
 "nbformat_minor": 5
}
