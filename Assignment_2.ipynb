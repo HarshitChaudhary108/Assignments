{
 "cells": [
  {
   "cell_type": "markdown",
   "id": "23e74d75-5267-476e-afa0-7b709ce93c7e",
   "metadata": {},
   "source": [
    "## Q1. What are the three measures of central tendency?"
   ]
  },
  {
   "cell_type": "markdown",
   "id": "601c21a0-ae75-437a-ac8b-e35be6834875",
   "metadata": {},
   "source": [
    "## Answer\n",
    "#### Mean, Median & Mode"
   ]
  },
  {
   "cell_type": "markdown",
   "id": "6daddc05-0227-42fd-b1d5-45c7c6d08996",
   "metadata": {},
   "source": [
    "#"
   ]
  },
  {
   "cell_type": "markdown",
   "id": "d1fdac64-a271-42f3-9923-4a79376c3a59",
   "metadata": {},
   "source": [
    "## Q2. What is the difference between the mean, median, and mode? How are they used to measure the central tendency of a dataset??"
   ]
  },
  {
   "cell_type": "markdown",
   "id": "b0e1c71e-053c-4a0f-bfce-69f234ce2fb1",
   "metadata": {},
   "source": [
    "## Answer\n",
    "#### Mean : Mean is used to find the average from a set of numbers\n",
    "#### Median : It's the middle value in the data\n",
    "#### Mode : The most occuring element in the data is mode\n",
    "##### These 3 helps us a lot in machine learning.\n",
    "#\n",
    "#### To find the mean, we have to add all the number present in our data and divide it by the total quantity of numbers present in the data.\n",
    "#### If the set has even number of values, we have to find mean of the 2 middle value after sorting the data, and the result is median & if the data has odd number of values, the middle value of the given data is median.\n",
    "#### most occuring value in the data is the mode. its possible to get no mode, 1 mode, or more than 1 mode."
   ]
  },
  {
   "cell_type": "markdown",
   "id": "d8a264b3-abc7-4bc9-be15-343c9c298ef9",
   "metadata": {},
   "source": [
    "#"
   ]
  },
  {
   "cell_type": "markdown",
   "id": "c8dc5fc5-1748-45c4-80bf-20f91dc3ae30",
   "metadata": {},
   "source": [
    "##  Q3. Measure the three measures of central tendency for the given height data:]"
   ]
  },
  {
   "cell_type": "code",
   "execution_count": 2,
   "id": "954d2743-68e3-4eee-9838-7ec9d1985673",
   "metadata": {},
   "outputs": [],
   "source": [
    "a = [178,177,176,177,178.2,178,175,179,180,175,178.9,176.2,177,172.5,178,176.5]"
   ]
  },
  {
   "cell_type": "code",
   "execution_count": 3,
   "id": "69c8a342-38c8-4be5-a9e2-42b02b19ae27",
   "metadata": {},
   "outputs": [],
   "source": [
    "import numpy as np\n",
    "import scipy.stats as stat"
   ]
  },
  {
   "cell_type": "code",
   "execution_count": 4,
   "id": "011864d6-13c0-4e61-8d78-5bef3fde1702",
   "metadata": {},
   "outputs": [
    {
     "data": {
      "text/plain": [
       "177.01875"
      ]
     },
     "execution_count": 4,
     "metadata": {},
     "output_type": "execute_result"
    }
   ],
   "source": [
    "np.mean(a)"
   ]
  },
  {
   "cell_type": "code",
   "execution_count": 5,
   "id": "53fd1b7a-9b8b-487a-afb0-9232a6390daf",
   "metadata": {},
   "outputs": [
    {
     "data": {
      "text/plain": [
       "177.0"
      ]
     },
     "execution_count": 5,
     "metadata": {},
     "output_type": "execute_result"
    }
   ],
   "source": [
    "np.median(a)"
   ]
  },
  {
   "cell_type": "code",
   "execution_count": 6,
   "id": "7fcef693-a3ea-47cc-9aa2-7737f5566712",
   "metadata": {},
   "outputs": [
    {
     "data": {
      "text/plain": [
       "ModeResult(mode=177.0, count=3)"
      ]
     },
     "execution_count": 6,
     "metadata": {},
     "output_type": "execute_result"
    }
   ],
   "source": [
    "stat.mode(a)"
   ]
  },
  {
   "cell_type": "markdown",
   "id": "cdb8ccc7-3e15-4115-80db-fb4a7d3fb5fb",
   "metadata": {},
   "source": [
    "#"
   ]
  },
  {
   "cell_type": "markdown",
   "id": "5f974053-e5a5-47f2-aea1-961e9665e2bc",
   "metadata": {},
   "source": [
    "## Q4. Find the standard deviation for the given data:]"
   ]
  },
  {
   "cell_type": "code",
   "execution_count": 7,
   "id": "c8b08b51-c101-4738-9063-54d895b0fe9f",
   "metadata": {},
   "outputs": [],
   "source": [
    "b = [178,177,176,177,178.2,178,175,179,180,175,178.9,176.2,177,172.5,178,176.5]"
   ]
  },
  {
   "cell_type": "code",
   "execution_count": 8,
   "id": "126fe13d-c41c-4066-a38d-f1f224ed0730",
   "metadata": {},
   "outputs": [
    {
     "data": {
      "text/plain": [
       "1.7885814036548633"
      ]
     },
     "execution_count": 8,
     "metadata": {},
     "output_type": "execute_result"
    }
   ],
   "source": [
    "np.std(b)"
   ]
  },
  {
   "cell_type": "markdown",
   "id": "dbaa4c42-b1a6-422b-a525-d37fe4938dd2",
   "metadata": {},
   "source": [
    "#"
   ]
  },
  {
   "cell_type": "markdown",
   "id": "bd14c7fb-9ea3-42c9-ac63-2bb7bc0f6172",
   "metadata": {},
   "source": [
    "## Q5. How are measures of dispersion such as range, variance, and standard deviation used to describe the spread of a dataset? Provide an example.."
   ]
  },
  {
   "cell_type": "markdown",
   "id": "86b3551f-654c-4e2d-a3c5-4c3631a53901",
   "metadata": {},
   "source": [
    "## Answer\n",
    "#### Range : Range is the difference of the highest and the lowest value of the data set and it gives a rough idea of the spread of the data.\n",
    "#### Variance : Variance is like a fairness score. If the variance is small, it means the distribution of the data is fair or data points are close to each other but if the variance if high, then it clarly indicated that the data points have a huge gap between each other. Variance describes mainly the spread between data points.\n",
    "#### Standard deviation : It's the root of variance and it describes us the average distance from the mean of the data set. It's useful to understand the spread of the data in relation with the mean."
   ]
  },
  {
   "cell_type": "code",
   "execution_count": 9,
   "id": "1494fd71-194d-48ee-a0b3-012a19c83e21",
   "metadata": {},
   "outputs": [],
   "source": [
    "c = [13, 15, 16, 16, 17, 18, 20]"
   ]
  },
  {
   "cell_type": "code",
   "execution_count": 10,
   "id": "d8a8d814-81fe-420a-ae4f-30a7a3470e9f",
   "metadata": {},
   "outputs": [
    {
     "data": {
      "text/plain": [
       "16.428571428571427"
      ]
     },
     "execution_count": 10,
     "metadata": {},
     "output_type": "execute_result"
    }
   ],
   "source": [
    "np.mean(c)"
   ]
  },
  {
   "cell_type": "code",
   "execution_count": 11,
   "id": "c251ceae-e19a-4d19-99d7-612f80e7f643",
   "metadata": {},
   "outputs": [
    {
     "data": {
      "text/plain": [
       "7"
      ]
     },
     "execution_count": 11,
     "metadata": {},
     "output_type": "execute_result"
    }
   ],
   "source": [
    "range = np.max(c) - np.min(c)\n",
    "range"
   ]
  },
  {
   "cell_type": "code",
   "execution_count": 12,
   "id": "3c8c82e7-9ebc-4852-ab3f-0fe8378f7631",
   "metadata": {},
   "outputs": [
    {
     "data": {
      "text/plain": [
       "4.244897959183674"
      ]
     },
     "execution_count": 12,
     "metadata": {},
     "output_type": "execute_result"
    }
   ],
   "source": [
    "np.var(c)"
   ]
  },
  {
   "cell_type": "code",
   "execution_count": 13,
   "id": "b6a807b7-13a1-40c4-9e2d-996bf1c91831",
   "metadata": {},
   "outputs": [
    {
     "data": {
      "text/plain": [
       "2.0603150145508513"
      ]
     },
     "execution_count": 13,
     "metadata": {},
     "output_type": "execute_result"
    }
   ],
   "source": [
    "np.std(c)"
   ]
  },
  {
   "cell_type": "markdown",
   "id": "f83a9ae5-5fae-4cc4-bd88-fba3ef8c2267",
   "metadata": {},
   "source": [
    "#"
   ]
  },
  {
   "cell_type": "markdown",
   "id": "0411f912-c910-4da1-b666-6164f467778b",
   "metadata": {},
   "source": [
    "## Q6. What is a Venn diagram?"
   ]
  },
  {
   "cell_type": "markdown",
   "id": "8a674d7b-c7da-4ca9-8529-4dbdf7608687",
   "metadata": {},
   "source": [
    "## Answer"
   ]
  },
  {
   "cell_type": "markdown",
   "id": "c30d195b-be9c-408c-8221-bbf80ac95c9c",
   "metadata": {},
   "source": [
    "#### Venn diagram is a visual tool used to illustrate the relation betweem different sets."
   ]
  },
  {
   "cell_type": "markdown",
   "id": "33a71464-43c7-4703-ba79-507a62012240",
   "metadata": {},
   "source": [
    "##"
   ]
  },
  {
   "cell_type": "markdown",
   "id": "0b6ae6cc-758c-4a04-9997-5aaddd0dc62f",
   "metadata": {},
   "source": [
    "##  Q7. For the two given sets A = (2,3,4,5,6,7) & B = (0,2,6,8,10). Find:\n",
    "## (i) \tA Intersection B\n",
    "## (ii)\tA ⋃ B B"
   ]
  },
  {
   "cell_type": "markdown",
   "id": "d6104ddb-a6d8-4aac-994b-e9b14f85e42e",
   "metadata": {},
   "source": [
    "## Answer"
   ]
  },
  {
   "cell_type": "markdown",
   "id": "3bf0b468-3ed8-4e5d-9616-0eae5c09539c",
   "metadata": {},
   "source": [
    "#### (i) (2)\n",
    "#### (ii) (0,2,3,4,5,6,7,8,10)"
   ]
  },
  {
   "cell_type": "markdown",
   "id": "c2bd0e9e-af4f-4311-b409-72c75becd284",
   "metadata": {},
   "source": [
    "#"
   ]
  },
  {
   "cell_type": "markdown",
   "id": "323ccef5-1db0-47e6-b77b-aa66555bf93c",
   "metadata": {},
   "source": [
    "##  Q8. What do you understand about skewness in data?"
   ]
  },
  {
   "cell_type": "markdown",
   "id": "0f7482d4-9d28-483c-8934-e749e825ae0c",
   "metadata": {},
   "source": [
    "## Answer"
   ]
  },
  {
   "cell_type": "markdown",
   "id": "d707ac03-991e-406d-ac7e-e9f182f5539a",
   "metadata": {},
   "source": [
    "#### Skewness in data describes the symmetry or asymmetry in the data.\n",
    "#### For example : if we have a stack of coin and its perfectly standing straight, it means there is no skewness or zero skewness.\n",
    "#### If our stack of coins is leaning towards right, it means the data is right skewed, means the tail of the right side is longer than the left side.\n",
    "#### Alternatively if our stack of coins is leaning towards left, it means the data is left skewed, means the left side tail is longer than the right side."
   ]
  },
  {
   "cell_type": "markdown",
   "id": "e2e2cf2e-3be2-4b34-93de-7d0db57392fa",
   "metadata": {},
   "source": [
    "#"
   ]
  },
  {
   "cell_type": "markdown",
   "id": "51e2a8ce-659b-47c8-9d87-98c5cc8a2f04",
   "metadata": {},
   "source": [
    "##  Q9. If a data is right skewed then what will be the position of median with respect to mean?"
   ]
  },
  {
   "cell_type": "markdown",
   "id": "a8de99a8-a443-4242-9f7d-8899359c3119",
   "metadata": {},
   "source": [
    "## Answer"
   ]
  },
  {
   "cell_type": "markdown",
   "id": "06622196-8cc0-4eea-b2d1-cfc2543ceca4",
   "metadata": {},
   "source": [
    "#### The median will be on the negative side of mean or left side of the mean."
   ]
  },
  {
   "cell_type": "markdown",
   "id": "73ccf321-0fe5-421d-ac56-4b5dcc0e7745",
   "metadata": {},
   "source": [
    "##"
   ]
  },
  {
   "cell_type": "markdown",
   "id": "d2e49052-43d8-4651-a774-8844d982a478",
   "metadata": {},
   "source": [
    "## Q10. Explain the difference between covariance and correlation. How are these measures used in statistical analysis??"
   ]
  },
  {
   "cell_type": "markdown",
   "id": "8be42e36-d108-4ec3-8683-8cbe8389bd96",
   "metadata": {},
   "source": [
    "#### Covariance describes how the 2 different variables changes together or how they are depending on each other but it lacks the standardization. It can share the direction of the change, either +ve or -ve but it can't measure what is the degree of their change or how much degree they are relative/dependent on each other.\n",
    "#### Correlation provides both the direction and strength of the dependency of both the variables."
   ]
  },
  {
   "cell_type": "markdown",
   "id": "1b2d5095-7ba6-4c1f-9a5f-495ffa493488",
   "metadata": {},
   "source": [
    "#"
   ]
  },
  {
   "cell_type": "markdown",
   "id": "c228a227-8e50-4be0-90fb-f4c1862aaceb",
   "metadata": {},
   "source": [
    "## Q11. What is the formula for calculating the sample mean? Provide an example calculation for a dataset.."
   ]
  },
  {
   "cell_type": "markdown",
   "id": "4968aff0-feea-47d6-a0c9-38107e258f3c",
   "metadata": {},
   "source": [
    "## bar_X = {sum}x_i/n\n",
    "\n",
    "#### {sum} = Submission of all the values in it\n",
    "#### x_i = Indicated the value in the data\n",
    "#### n = Number of values in the data"
   ]
  },
  {
   "cell_type": "markdown",
   "id": "685c78af-feaf-4aff-9b87-534844d601dd",
   "metadata": {},
   "source": [
    "##"
   ]
  },
  {
   "cell_type": "markdown",
   "id": "72874d75-93dd-407b-bfd2-6292818713db",
   "metadata": {},
   "source": [
    "## Q12. For a normal distribution data what is the relationship between its measure of central tendency?"
   ]
  },
  {
   "cell_type": "markdown",
   "id": "c83d2bd6-c9f3-48c8-a9fc-5d641da36c1d",
   "metadata": {},
   "source": [
    "## Answer "
   ]
  },
  {
   "cell_type": "markdown",
   "id": "ee322747-6f2b-441e-9bdc-0f657baaeabe",
   "metadata": {},
   "source": [
    "#### In normal distribution data\n",
    "#### mean = median = mode"
   ]
  },
  {
   "cell_type": "markdown",
   "id": "0eb4dc22-93c6-497d-80e6-5f034aee8360",
   "metadata": {},
   "source": [
    "#"
   ]
  },
  {
   "cell_type": "markdown",
   "id": "ce786971-df6d-4f24-b432-5374c0555f40",
   "metadata": {},
   "source": [
    "## Q13. How is covariance different from correlation?"
   ]
  },
  {
   "cell_type": "markdown",
   "id": "b2cc82a4-b056-48b8-9f84-500d0593cc07",
   "metadata": {},
   "source": [
    "## Answer"
   ]
  },
  {
   "cell_type": "markdown",
   "id": "f53e236e-a64b-40c8-8616-348ead5ff2f5",
   "metadata": {},
   "source": [
    "#### Covariance describes the relation or changes between 2 variables with direction but not strength.\n",
    "#### Correlation describes the relation or changes between 2 variables with direction as well as strength."
   ]
  },
  {
   "cell_type": "markdown",
   "id": "4153c1ca-726f-450a-87ff-9826b0fb88e5",
   "metadata": {},
   "source": [
    "##"
   ]
  },
  {
   "cell_type": "markdown",
   "id": "a1ae6e12-2aaa-42f4-8725-38808c2d206f",
   "metadata": {},
   "source": [
    "## 14. How do outliers affect measures of central tendency and dispersion? Provide an example."
   ]
  },
  {
   "cell_type": "markdown",
   "id": "1f6a6c92-6d0d-4d9b-b522-b33a05e4646d",
   "metadata": {},
   "source": [
    "## Answer"
   ]
  },
  {
   "cell_type": "code",
   "execution_count": 21,
   "id": "f38e1de0-6c6e-4641-aeb6-1b411941b38d",
   "metadata": {},
   "outputs": [],
   "source": [
    "a = [178,177,176,177,178.2,178,175,179,180,175,178.9,176.2,177,172.5,178,176.5]"
   ]
  },
  {
   "cell_type": "code",
   "execution_count": 29,
   "id": "5217675f-2b84-49b8-bc21-1f89aaac3919",
   "metadata": {},
   "outputs": [
    {
     "data": {
      "text/plain": [
       "177.01875"
      ]
     },
     "execution_count": 29,
     "metadata": {},
     "output_type": "execute_result"
    }
   ],
   "source": [
    "#median\n",
    "np.mean(a)"
   ]
  },
  {
   "cell_type": "code",
   "execution_count": 33,
   "id": "999ab5c5-df3a-4f44-bc53-78ad724bef8c",
   "metadata": {},
   "outputs": [],
   "source": [
    "#Changing any 1 value with high variance, let say last digit)\n",
    "d = [178,177,176,177,178.2,178,175,179,180,175,178.9,176.2,177,172.5,178,1000]"
   ]
  },
  {
   "cell_type": "code",
   "execution_count": 34,
   "id": "79e9c1ae-ae15-4228-9890-61429ae547c9",
   "metadata": {},
   "outputs": [
    {
     "data": {
      "text/plain": [
       "228.48749999999998"
      ]
     },
     "execution_count": 34,
     "metadata": {},
     "output_type": "execute_result"
    }
   ],
   "source": [
    "np.mean(d)"
   ]
  },
  {
   "cell_type": "markdown",
   "id": "ba7eeaca-bfa1-44f9-8e4a-9206c168ec84",
   "metadata": {},
   "source": [
    "##### We can see here how outlier (1000) affect the mean, that's why we need median here."
   ]
  },
  {
   "cell_type": "markdown",
   "id": "8b0a7008-9bdb-49e7-bb9a-63a30459c405",
   "metadata": {},
   "source": [
    "#"
   ]
  },
  {
   "cell_type": "code",
   "execution_count": 35,
   "id": "3057fb49-f8b7-4a3c-9704-3a53508f98f8",
   "metadata": {},
   "outputs": [
    {
     "data": {
      "text/plain": [
       "3.199023437500001"
      ]
     },
     "execution_count": 35,
     "metadata": {},
     "output_type": "execute_result"
    }
   ],
   "source": [
    "np.var(a)"
   ]
  },
  {
   "cell_type": "code",
   "execution_count": 36,
   "id": "50cb7d3a-2963-49a2-b940-2e179da3f3b9",
   "metadata": {},
   "outputs": [
    {
     "data": {
      "text/plain": [
       "39685.28359375"
      ]
     },
     "execution_count": 36,
     "metadata": {},
     "output_type": "execute_result"
    }
   ],
   "source": [
    "np.var(d)"
   ]
  },
  {
   "cell_type": "markdown",
   "id": "3a045bd8-e095-4ca9-b699-b4df927d7b31",
   "metadata": {},
   "source": [
    "##### We can see here how outlier affected the variance."
   ]
  }
 ],
 "metadata": {
  "kernelspec": {
   "display_name": "Python 3 (ipykernel)",
   "language": "python",
   "name": "python3"
  },
  "language_info": {
   "codemirror_mode": {
    "name": "ipython",
    "version": 3
   },
   "file_extension": ".py",
   "mimetype": "text/x-python",
   "name": "python",
   "nbconvert_exporter": "python",
   "pygments_lexer": "ipython3",
   "version": "3.12.2"
  }
 },
 "nbformat": 4,
 "nbformat_minor": 5
}
