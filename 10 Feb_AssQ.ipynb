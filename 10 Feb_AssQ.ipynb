{
 "cells": [
  {
   "cell_type": "markdown",
   "id": "256b14a6",
   "metadata": {},
   "source": [
    "## Q1. Which function is used to open a file? What are the different modes of opening a file? Explain each mode of file opening."
   ]
  },
  {
   "cell_type": "markdown",
   "id": "b31ddada",
   "metadata": {},
   "source": [
    "### Answer :\n",
    "#### Opening a file means to create a file ready for writing and reading, we used open() function to open a file\n",
    "#### There are many modes to open a file :-\n",
    "#### 1.  \"w\" - writing\n",
    "#### When we open a file with \"w\" ( writing ), All the previous data in the file gets deleted and the new data get stored in it.\n",
    "#### 2.  \"r\" - reading\n",
    "#### When we open a file as \"r\" ( reading ), We can read the data in the file.\n",
    "#### 3. \"a\" - append\n",
    "#### When we open our file as \"a\" ( append ), we can add new data to the existing file, without losing old data"
   ]
  },
  {
   "cell_type": "markdown",
   "id": "a9928448",
   "metadata": {},
   "source": [
    "# "
   ]
  },
  {
   "cell_type": "markdown",
   "id": "67d370ad",
   "metadata": {},
   "source": [
    "## Q2. Why close() function is used? Why is it important to close a file?"
   ]
  },
  {
   "cell_type": "markdown",
   "id": "4e9a77d9",
   "metadata": {},
   "source": [
    "### Answer :\n",
    "#### close() function is used to close the file we open, it is very important to close the file we created/open because, if want to open a new file in the same existing console, we can't because, untill we close the previous file we can't open a new file"
   ]
  },
  {
   "cell_type": "markdown",
   "id": "99f8c847",
   "metadata": {},
   "source": [
    "# "
   ]
  },
  {
   "cell_type": "markdown",
   "id": "b160ae09",
   "metadata": {},
   "source": [
    "## Q3. Write a python program to create a text file. Write ‘I want to become a Data Scientist’ in that file. Then close the file. Open this file and read the content of the file."
   ]
  },
  {
   "cell_type": "code",
   "execution_count": 19,
   "id": "2859533c",
   "metadata": {},
   "outputs": [],
   "source": [
    "with open(\"assq.txt\", \"w\") as f:\n",
    "    f.write(\"i want to become a data scientist\\n\")"
   ]
  },
  {
   "cell_type": "code",
   "execution_count": 22,
   "id": "a72530d3",
   "metadata": {},
   "outputs": [],
   "source": [
    "with open(\"assq.txt\", \"r\") as f:\n",
    "    reader = f.read()"
   ]
  },
  {
   "cell_type": "code",
   "execution_count": 23,
   "id": "c7a6bacb",
   "metadata": {},
   "outputs": [
    {
     "data": {
      "text/plain": [
       "'i want to become a data scientist\\n'"
      ]
     },
     "execution_count": 23,
     "metadata": {},
     "output_type": "execute_result"
    }
   ],
   "source": [
    "reader"
   ]
  },
  {
   "cell_type": "code",
   "execution_count": 24,
   "id": "42270cf0",
   "metadata": {},
   "outputs": [],
   "source": [
    "f.close()"
   ]
  },
  {
   "cell_type": "markdown",
   "id": "2ebeb9ee",
   "metadata": {},
   "source": [
    "## Q4. Explain the following with python code: read(), readline() and readlines()."
   ]
  },
  {
   "cell_type": "markdown",
   "id": "8984269e",
   "metadata": {},
   "source": [
    "### Answer :\n",
    "#### read() reads the entire file and returns a string, readline() reads just one line from a file, and readlines() returns a list of strings representing the lines of the file."
   ]
  },
  {
   "cell_type": "code",
   "execution_count": 25,
   "id": "94fb7d7d",
   "metadata": {},
   "outputs": [],
   "source": [
    "with open(\"assq1.txt\", \"w\") as f1:\n",
    "    f1.write(\"i want to become a data scientist\\n\"\n",
    "            \"i'll help the people after becoming a successful data scientist\\n\")"
   ]
  },
  {
   "cell_type": "code",
   "execution_count": 31,
   "id": "1f6d1357",
   "metadata": {},
   "outputs": [],
   "source": [
    "with open (\"assq1.txt\", \"r\") as f1:\n",
    "    reader = f1.read()\n",
    "    f1.seek(0)\n",
    "    readline = f1.readline()\n",
    "    f1.seek(0)\n",
    "    readlines = f1.readlines()"
   ]
  },
  {
   "cell_type": "code",
   "execution_count": 32,
   "id": "c745fcc1",
   "metadata": {},
   "outputs": [
    {
     "data": {
      "text/plain": [
       "\"i want to become a data scientist\\ni'll help the people after becoming a successful data scientist\\n\""
      ]
     },
     "execution_count": 32,
     "metadata": {},
     "output_type": "execute_result"
    }
   ],
   "source": [
    "reader"
   ]
  },
  {
   "cell_type": "code",
   "execution_count": 33,
   "id": "64762b4d",
   "metadata": {},
   "outputs": [
    {
     "data": {
      "text/plain": [
       "'i want to become a data scientist\\n'"
      ]
     },
     "execution_count": 33,
     "metadata": {},
     "output_type": "execute_result"
    }
   ],
   "source": [
    "readline"
   ]
  },
  {
   "cell_type": "code",
   "execution_count": 34,
   "id": "ec12c161",
   "metadata": {},
   "outputs": [
    {
     "data": {
      "text/plain": [
       "['i want to become a data scientist\\n',\n",
       " \"i'll help the people after becoming a successful data scientist\\n\"]"
      ]
     },
     "execution_count": 34,
     "metadata": {},
     "output_type": "execute_result"
    }
   ],
   "source": [
    "readlines"
   ]
  },
  {
   "cell_type": "code",
   "execution_count": 35,
   "id": "fa6ed3bb",
   "metadata": {},
   "outputs": [],
   "source": [
    "f.close()"
   ]
  },
  {
   "cell_type": "markdown",
   "id": "be41e9f7",
   "metadata": {},
   "source": [
    "# "
   ]
  },
  {
   "cell_type": "markdown",
   "id": "33cd8788",
   "metadata": {},
   "source": [
    "## Q5. Explain why with statement is used with open(). What is the advantage of using with statement and open() together?"
   ]
  },
  {
   "cell_type": "markdown",
   "id": "039ccbb1",
   "metadata": {},
   "source": [
    "### Answer :\n",
    "#### when we open a file without \"with\" statement, and for example we create an object \"reader\", and if an exception occur while execution of the function then it skips the file closing but if open a file with thw \"with\" statment, it automatically closes the \"reader\" object. That's the benefit of using \"with\" statement with open()."
   ]
  },
  {
   "cell_type": "markdown",
   "id": "7e7f7c2d",
   "metadata": {},
   "source": [
    "# "
   ]
  },
  {
   "cell_type": "markdown",
   "id": "0b938e6c",
   "metadata": {},
   "source": [
    "## Explain the write() and writelines() functions. Give a suitable example."
   ]
  },
  {
   "cell_type": "markdown",
   "id": "182bae88",
   "metadata": {},
   "source": [
    "### Answer :\n",
    "#### when we want to write something in a file, we open the file with the mode \"w\" means writing....... write() allows us to write only one string to the file we opened but writelines() helps us to a list of string to the fil"
   ]
  },
  {
   "cell_type": "code",
   "execution_count": 55,
   "id": "4ea5fb26",
   "metadata": {},
   "outputs": [],
   "source": [
    "with open(\"assq2.txt\", \"w\") as f2:\n",
    "    write = f2.write(\"hare krishna\")\n",
    "    writelines = f2.writelines([\"hare\", \"krishna\", \"haribol\"])\n",
    "    \n",
    "with open(\"assq2.txt\", \"r\") as f2:\n",
    "    read = f2.read()"
   ]
  },
  {
   "cell_type": "code",
   "execution_count": 57,
   "id": "8fa93b24",
   "metadata": {},
   "outputs": [
    {
     "data": {
      "text/plain": [
       "'hare krishnaharekrishnaharibol'"
      ]
     },
     "execution_count": 57,
     "metadata": {},
     "output_type": "execute_result"
    }
   ],
   "source": [
    "read"
   ]
  },
  {
   "cell_type": "code",
   "execution_count": 58,
   "id": "7ef7c1f6",
   "metadata": {},
   "outputs": [],
   "source": [
    "f2.close()"
   ]
  }
 ],
 "metadata": {
  "kernelspec": {
   "display_name": "Python 3 (ipykernel)",
   "language": "python",
   "name": "python3"
  },
  "language_info": {
   "codemirror_mode": {
    "name": "ipython",
    "version": 3
   },
   "file_extension": ".py",
   "mimetype": "text/x-python",
   "name": "python",
   "nbconvert_exporter": "python",
   "pygments_lexer": "ipython3",
   "version": "3.11.4"
  }
 },
 "nbformat": 4,
 "nbformat_minor": 5
}
