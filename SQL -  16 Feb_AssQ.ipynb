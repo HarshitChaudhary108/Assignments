{
 "cells": [
  {
   "cell_type": "markdown",
   "id": "18372a6f",
   "metadata": {},
   "source": [
    "# Q1. What is a database? Differentiate between SQL and NoSQL databases.\n",
    "## Answer :\n",
    "#### A database is a collection of structured information or data typically stored in a electronically operated system. A databse is usually controlled by the database management system (DBMS).\n",
    "\n",
    "### SQL and NoSQL Databases\n",
    "#### structured query language(SQL) is a programming language for both technical and non technical minded users to manipulate, manage and change data in a relational database. SQL works best with the structured data, such as name and class, which have relations between different entities. In SQL data is generally stored in tabular form\n",
    "\n",
    "#### NoSQL Database doesn't mean it doesn't use SQL, it actually means that it doesn't use SQL only. where SQL works best with structured data, here NoSQL works with Structured, semi-structured and non structured data as well. it stores data in a manner other than SQL. NoSQL uses non-tabular data for example : image, audio, video and etc"
   ]
  },
  {
   "cell_type": "markdown",
   "id": "8904a192",
   "metadata": {},
   "source": [
    "# "
   ]
  },
  {
   "cell_type": "markdown",
   "id": "cb824e94",
   "metadata": {},
   "source": [
    "# Q2. What is DDL? Explain why CREATE, DROP, ALTER, and TRUNCATE are used with an example.\n",
    "## Answer :\n",
    "#### DDL Stands for DATA DEFINITION LANGUAGE. These commands are used to modify the structure of our database and database objects. for example these commands can be used to add, remove, modify the table objects within a database.\n",
    "### DDL Commands are :\n",
    "#### 1. CREATE\n",
    "#### 2. DROP\n",
    "#### 3. ALTER\n",
    "#### 4. TRUNCATE\n",
    "###### --------------------------------------------------------------------------\n",
    "### 1. CREATE\n",
    "#### This command is used to create table in the relational databases\n",
    "\n",
    "### 2. DROP\n",
    "#### DROP command is used to delet an whole table or database from the relational database. the drop statement in SQL removes an whole component from our database.\n",
    "\n",
    "### 3. ALTER \n",
    "#### The ALTER Statement in a relational database is used to add, delete, modify and etc, components within an existing table.\n",
    "\n",
    "### 4. TRUNCATE\n",
    "#### TRUNCATE command in SQL, deletes the data from the table but not the table itself"
   ]
  },
  {
   "cell_type": "markdown",
   "id": "ace1f299",
   "metadata": {},
   "source": [
    "# "
   ]
  },
  {
   "attachments": {},
   "cell_type": "markdown",
   "id": "c715e89f",
   "metadata": {},
   "source": [
    "# Q3. What is DML? Explain INSERT, UPDATE, and DELETE with an example.\n",
    "## Answer :\n",
    "#### DML stands for DATA MANIPULATION LANGUAGE. table and formulas are generally very useful whil e communicating with data in a database upto a point in SQL. there is a time comes when we actually want to execute some fairly complex data interactions, at that time DML helps us a lot. when it comes to define, manioulate, add within existing data, in the databse, DML provides us a convenient way to do so\n",
    "\n",
    "### DML commands are :\n",
    "#### 1. INSERT\n",
    "#### 2. UPDATE\n",
    "#### 3. DELETE\n",
    "###### ----------------------------------------------------------------------------------\n",
    "### 1. INSERT\n",
    "#### INSERT Command is used to add data within an existing table of one or more records, in SQL\n",
    "\n",
    "### 2. UPDATE\n",
    "#### UPDATE command is used to add update/change data of one or more records within an existing table, in SQL\n",
    "\n",
    "### 3. DELETE\n",
    "#### DELETE command is used to delete or destroy one or more data records within an exitinf table, in SQL"
   ]
  },
  {
   "cell_type": "markdown",
   "id": "79293f29",
   "metadata": {},
   "source": [
    "# "
   ]
  },
  {
   "cell_type": "markdown",
   "id": "2e6ac6c0",
   "metadata": {},
   "source": [
    "# Q4. What is DQL? Explain SELECT with an example.\n",
    "## Answer :\n",
    "#### DQL stands for DATA QUERY LANGUAGE. it is a part of Structured Query Language (SQL) which allows us to get and organize data. \n",
    "######\n",
    "### SELECT COMMAND\n",
    "#### the main DQL command is SELECT, which helps us to extract the data and execute operations in it.\n",
    "######\n",
    "### For Example :\n",
    "#### SELECT Column1 from Table2;\n",
    "#### (this command gives us the record of column1(COLUMN) from table2(TABLE)) "
   ]
  },
  {
   "cell_type": "markdown",
   "id": "37b83869",
   "metadata": {},
   "source": [
    "# "
   ]
  },
  {
   "cell_type": "markdown",
   "id": "1a618f71",
   "metadata": {},
   "source": [
    "# Q5. Explain Primary Key and Foreign Key.\n",
    "## Answer :\n",
    "#### Primary key ensures that the data within a column in a table is unique. any value of the column cannot be NULL\n",
    "#### For Example : stu_roll_no. , Employee_ID and etc\n",
    "\n",
    "#### Foreign key is a set of attributes of a table that refers to the primary of another table. it's a link between 2 tables"
   ]
  },
  {
   "cell_type": "markdown",
   "id": "67ce5092",
   "metadata": {},
   "source": [
    "# "
   ]
  },
  {
   "cell_type": "markdown",
   "id": "ffebce59",
   "metadata": {},
   "source": [
    "# Q6. Write a python code to connect MySQL to python. Explain the cursor() and execute() method.\n",
    "## Answer :"
   ]
  },
  {
   "cell_type": "raw",
   "id": "0111ffc8",
   "metadata": {},
   "source": [
    "import mysql.connector\n",
    "\n",
    "mydb = mysql.connector.connect(\n",
    "    host = \"\"\n",
    "    user = \"\"\n",
    "    password = \"\"\n",
    ")\n",
    "mycursor = mydb.cursor()\n",
    "mycursor.execute(\"Your Query\")\n",
    "mydb.close()"
   ]
  },
  {
   "cell_type": "code",
   "execution_count": 2,
   "id": "bb803841",
   "metadata": {},
   "outputs": [],
   "source": [
    "# cursor function read the data from the the existing table within the database\n",
    "# execute function helps to perform any action within our database directly from the python"
   ]
  },
  {
   "cell_type": "markdown",
   "id": "5f7d18c6",
   "metadata": {},
   "source": [
    "# "
   ]
  },
  {
   "cell_type": "markdown",
   "id": "ecc38b46",
   "metadata": {},
   "source": [
    "# Q7. Give the order of execution of SQL clauses in an SQL query.\n",
    "## Answer :\n",
    "#### From, Join\n",
    "#### where\n",
    "#### group by\n",
    "#### having\n",
    "#### select\n",
    "#### order by\n",
    "#### top"
   ]
  }
 ],
 "metadata": {
  "kernelspec": {
   "display_name": "Python 3 (ipykernel)",
   "language": "python",
   "name": "python3"
  },
  "language_info": {
   "codemirror_mode": {
    "name": "ipython",
    "version": 3
   },
   "file_extension": ".py",
   "mimetype": "text/x-python",
   "name": "python",
   "nbconvert_exporter": "python",
   "pygments_lexer": "ipython3",
   "version": "3.11.4"
  }
 },
 "nbformat": 4,
 "nbformat_minor": 5
}
