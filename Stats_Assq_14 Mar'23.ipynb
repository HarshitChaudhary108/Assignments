{
 "cells": [
  {
   "cell_type": "markdown",
   "id": "ce621326-eac3-4abf-a4ff-4528a67d0787",
   "metadata": {},
   "source": [
    "##  Q1. Write a Python function that takes in two arrays of data and calculates the F-value for a variance ratio test. The function should return the F-value and the corresponding p-value for the test."
   ]
  },
  {
   "cell_type": "markdown",
   "id": "e9386c74-d2af-4660-a4b3-a5ecf0ff032d",
   "metadata": {},
   "source": [
    "## Answer "
   ]
  },
  {
   "cell_type": "code",
   "execution_count": 4,
   "id": "04c3775b-97a1-4459-80bf-a32409f6b20a",
   "metadata": {},
   "outputs": [],
   "source": [
    "def chiTest(a,b):\n",
    "    from scipy.stats import f_oneway\n",
    "    stat, pvalue = f_oneway(a,b)\n",
    "    print(f\"F_stat : {stat}\")\n",
    "    print(f\"pvalue : {pvalue}\")"
   ]
  },
  {
   "cell_type": "code",
   "execution_count": 5,
   "id": "2dd4edc8-a841-4802-906e-bb7f960a8839",
   "metadata": {},
   "outputs": [],
   "source": [
    "a = [207, 282, 241]\n",
    "b = [234, 242, 232]"
   ]
  },
  {
   "cell_type": "code",
   "execution_count": 6,
   "id": "600e4740-21d2-4819-a6db-e5cd2fc239e6",
   "metadata": {},
   "outputs": [
    {
     "name": "stdout",
     "output_type": "stream",
     "text": [
      "F_stat : 0.11216685979142524\n",
      "pvalue : 0.754517018430424\n"
     ]
    }
   ],
   "source": [
    "chiTest(a,b)"
   ]
  },
  {
   "cell_type": "markdown",
   "id": "166aef1f-4e67-4356-a3cc-82c056495b3b",
   "metadata": {},
   "source": [
    "## "
   ]
  },
  {
   "cell_type": "markdown",
   "id": "9a3d2840-dfd2-48a1-86c5-bc29ed0dc30b",
   "metadata": {},
   "source": [
    "##  Q2. Given a significance level of 0.05 and the degrees of freedom for the numerator and denominator of an F-distribution, write a Python function that returns the critical F-value for a two-tailed test."
   ]
  },
  {
   "cell_type": "markdown",
   "id": "34a581e8-5a8c-456e-901b-66a053f08b72",
   "metadata": {},
   "source": [
    "## Answer "
   ]
  },
  {
   "cell_type": "code",
   "execution_count": 11,
   "id": "7b7f6cf9-fad6-4b8b-99e2-402ac3cff2c7",
   "metadata": {},
   "outputs": [],
   "source": [
    "def Fcritical(df_num, df_den, alpha = 0.05):\n",
    "    import scipy.stats as stats\n",
    "    critical_value = stats.f.ppf(1-alpha/2, df_num, df_den)\n",
    "    return f\"Critical Value : {critical_value}\""
   ]
  },
  {
   "cell_type": "code",
   "execution_count": 12,
   "id": "109ceb67-4a2c-4ba6-9c67-61cfd5763f72",
   "metadata": {},
   "outputs": [
    {
     "data": {
      "text/plain": [
       "'Critical Value : 3.858698666273216'"
      ]
     },
     "execution_count": 12,
     "metadata": {},
     "output_type": "execute_result"
    }
   ],
   "source": [
    "Fcritical(3,20)"
   ]
  },
  {
   "cell_type": "markdown",
   "id": "5f70d42e-db64-40e3-ba63-57af889d00ef",
   "metadata": {},
   "source": [
    "##"
   ]
  },
  {
   "cell_type": "markdown",
   "id": "93a355d1-da41-4692-b7b6-45586b80ca91",
   "metadata": {},
   "source": [
    "##  Q3. Write a Python program that generates random samples from two normal distributions with known variances and uses an F-test to determine if the variances are equal. The program should output the Fvalue, degrees of freedom, and p-value for the test."
   ]
  },
  {
   "cell_type": "markdown",
   "id": "cd17c365-5cef-4d51-94ff-33e47a59c9e4",
   "metadata": {},
   "source": [
    "## Answer"
   ]
  },
  {
   "cell_type": "code",
   "execution_count": 13,
   "id": "6b06bbf6-3f62-4f69-942d-13be35d907ee",
   "metadata": {},
   "outputs": [],
   "source": [
    "import numpy as np"
   ]
  },
  {
   "cell_type": "code",
   "execution_count": 14,
   "id": "363456fe-7072-4d35-9816-ccb27d62a178",
   "metadata": {},
   "outputs": [],
   "source": [
    "def Ftest(std1, std2):\n",
    "    data1 = np.random.normal(size=10, scale = std1)\n",
    "    data2 = np.random.normal(size=10, scale = std2)\n",
    "    \n",
    "    from scipy.stats import f_oneway\n",
    "    import scipy.stats as stats\n",
    "    stats, pvalue = f_oneway(data1, data2)\n",
    "    dof = 1 ## given in question that we have to generate random samples from two normal distribtuons.\n",
    "\n",
    "    if pvalue<0.05:\n",
    "        print(\"variances are not equal\")\n",
    "        print(f\"fvalue : {stats}\")\n",
    "        print(f\"dof : {dof}\")\n",
    "        print(f\"pvalue : {pvalue}\")\n",
    "    else:\n",
    "        print(\"Variances are equal\")\n",
    "        print(f\"fvalue : {stats}\")\n",
    "        print(f\"dof : {dof}\")\n",
    "        print(f\"pvalue : {pvalue}\")\n",
    "    "
   ]
  },
  {
   "cell_type": "code",
   "execution_count": 15,
   "id": "363ffe4c-116b-4eb5-ba53-654063ea2217",
   "metadata": {},
   "outputs": [
    {
     "name": "stdout",
     "output_type": "stream",
     "text": [
      "Variances are equal\n",
      "fvalue : 1.7417250002883942\n",
      "dof : 1\n",
      "pvalue : 0.20346030991822578\n"
     ]
    }
   ],
   "source": [
    "Ftest(3,9)"
   ]
  },
  {
   "cell_type": "markdown",
   "id": "1fa5756e-680c-4539-b00c-595dbafd2584",
   "metadata": {},
   "source": [
    "## "
   ]
  },
  {
   "cell_type": "markdown",
   "id": "68cdff7b-a563-4cc3-a155-df24cfca663c",
   "metadata": {},
   "source": [
    "##  Q4.The variances of two populations are known to be 10 and 15. A sample of 12 observations is taken from each population. Conduct an F-test at the 5% significance level to determine if the variances are significantly different."
   ]
  },
  {
   "cell_type": "markdown",
   "id": "1e887f61-5a7f-46f4-a2fb-d4598397230f",
   "metadata": {},
   "source": [
    "## Answer "
   ]
  },
  {
   "cell_type": "code",
   "execution_count": 16,
   "id": "4728bc2b-86be-43ff-b196-5668c93b836d",
   "metadata": {},
   "outputs": [],
   "source": [
    "std1 = 10\n",
    "std2 = 15"
   ]
  },
  {
   "cell_type": "code",
   "execution_count": 17,
   "id": "fabb9d40-c6ef-4789-8f95-d3ff565dfddd",
   "metadata": {},
   "outputs": [],
   "source": [
    "samp1 = np.random.normal(scale = std1, size = 12)\n",
    "samp2 = np.random.normal(scale = std2, size = 12)"
   ]
  },
  {
   "cell_type": "code",
   "execution_count": 18,
   "id": "8ba170a3-4f5e-4e34-8f4e-a91fd33c72ad",
   "metadata": {},
   "outputs": [],
   "source": [
    "alpha = 0.05"
   ]
  },
  {
   "cell_type": "code",
   "execution_count": 22,
   "id": "0aae2fbe-124b-455e-b0cf-0d498b698406",
   "metadata": {},
   "outputs": [
    {
     "name": "stdout",
     "output_type": "stream",
     "text": [
      "stats : 0.5239552241779638, pvalue : 0.47678652765360374, aplha = 0.05\n",
      "---------------------------------------------------------------------\n",
      "There is no significant differences between the variances\n"
     ]
    }
   ],
   "source": [
    "from scipy.stats import f_oneway\n",
    "stats, pvalue = f_oneway(samp1, samp2)\n",
    "print(f\"stats : {stats}, pvalue : {pvalue}, aplha = {alpha}\")\n",
    "print(\"---------------------------------------------------------------------\")\n",
    "if pvalue<alpha:\n",
    "    print(\"There is significant differences between the variances\")\n",
    "else:\n",
    "    print(\"There is no significant differences between the variances\")"
   ]
  },
  {
   "cell_type": "markdown",
   "id": "c65b3f2a-7054-45bc-ba63-004499a2da01",
   "metadata": {},
   "source": [
    "## "
   ]
  },
  {
   "cell_type": "markdown",
   "id": "8973d8e4-db00-435f-8d13-3071f39cffb1",
   "metadata": {},
   "source": [
    "## Q5. A manufacturer claims that the variance of the diameter of a certain product is 0.005. A sample of 25 products is taken, and the sample variance is found to be 0.006. Conduct an F-test at the 1% significance level to determine if the claim is justified."
   ]
  },
  {
   "cell_type": "markdown",
   "id": "55ebb551-aba3-44a0-96f7-1153ec0c0ebb",
   "metadata": {},
   "source": [
    "## Answer "
   ]
  },
  {
   "cell_type": "code",
   "execution_count": 23,
   "id": "e29c425a-4911-42e2-9898-debd272a118d",
   "metadata": {},
   "outputs": [],
   "source": [
    "std1 = 0.005\n",
    "alpha = 0.001\n",
    "n = 25\n",
    "samp_std = 0.006\n",
    "dof = n-1"
   ]
  },
  {
   "cell_type": "code",
   "execution_count": 24,
   "id": "4e275029-c7cc-4f2d-bae9-964ea51502d2",
   "metadata": {},
   "outputs": [
    {
     "data": {
      "text/plain": [
       "1.2"
      ]
     },
     "execution_count": 24,
     "metadata": {},
     "output_type": "execute_result"
    }
   ],
   "source": [
    "fstats = samp_std/std1\n",
    "fstats"
   ]
  },
  {
   "cell_type": "code",
   "execution_count": 25,
   "id": "fa6ae8f1-3640-4349-b038-7037ce9ebd71",
   "metadata": {},
   "outputs": [
    {
     "data": {
      "text/plain": [
       "24"
      ]
     },
     "execution_count": 25,
     "metadata": {},
     "output_type": "execute_result"
    }
   ],
   "source": [
    "dof"
   ]
  },
  {
   "cell_type": "markdown",
   "id": "d115eec7-9af2-40c2-9808-8d6e4a6104b8",
   "metadata": {},
   "source": [
    "### Using the f distribution table "
   ]
  },
  {
   "cell_type": "code",
   "execution_count": 26,
   "id": "20c9c403-4b48-4bfc-b384-f02faaefb168",
   "metadata": {},
   "outputs": [],
   "source": [
    "critical_value = 2.659"
   ]
  },
  {
   "cell_type": "code",
   "execution_count": 27,
   "id": "92973bf7-52e5-4975-b08b-ada83a51f16a",
   "metadata": {},
   "outputs": [
    {
     "name": "stdout",
     "output_type": "stream",
     "text": [
      "claim is wrong\n"
     ]
    }
   ],
   "source": [
    "if fstats < critical_value:\n",
    "    print(\"claim is wrong\")\n",
    "else :\n",
    "    print(\"Claim is correct\")"
   ]
  },
  {
   "cell_type": "markdown",
   "id": "df055975-ef53-4b99-b422-e335d056d9d2",
   "metadata": {},
   "source": [
    "## "
   ]
  },
  {
   "cell_type": "markdown",
   "id": "cc8047ee-bede-48b2-a793-6d90de97835b",
   "metadata": {},
   "source": [
    "## Q6. Write a Python function that takes in the degrees of freedom for the numerator and denominator of an F-distribution and calculates the mean and variance of the distribution. The function should return the mean and variance as a tuple."
   ]
  },
  {
   "cell_type": "markdown",
   "id": "3dc9821b-aafc-469c-9c7d-1fbb85569b06",
   "metadata": {},
   "source": [
    "## Answer "
   ]
  },
  {
   "cell_type": "code",
   "execution_count": 28,
   "id": "164d3ca5-4aa7-4323-a002-9c5a0224789a",
   "metadata": {},
   "outputs": [],
   "source": [
    "def func(df_num, df_den):\n",
    "    mean  = df_den/(df_den-2)\n",
    "    variance = 2*(df_den**2)*(df_den + df_num - 2)/df_num*((df_den-2)**2)*(df_den-4)\n",
    "    return mean, variance"
   ]
  },
  {
   "cell_type": "code",
   "execution_count": 29,
   "id": "4db87592-fc57-4373-8d94-e7084d859efa",
   "metadata": {},
   "outputs": [
    {
     "data": {
      "text/plain": [
       "(1.25, 230400.0)"
      ]
     },
     "execution_count": 29,
     "metadata": {},
     "output_type": "execute_result"
    }
   ],
   "source": [
    "func(4, 10)"
   ]
  },
  {
   "cell_type": "markdown",
   "id": "1be087e2-ed10-447d-b795-a1b2d40d139f",
   "metadata": {},
   "source": [
    "## "
   ]
  },
  {
   "cell_type": "markdown",
   "id": "f4062792-ce7a-4de5-b35c-23664a7e50c3",
   "metadata": {},
   "source": [
    "##  Q7. A random sample of 10 measurements is taken from a normal population with unknown variance. The sample variance is found to be 25. Another random sample of 15 measurements is taken from another normal population with unknown variance, and the sample variance is found to be 20. Conduct an F-test at the 10% significance level to determine if the variances are significantly different."
   ]
  },
  {
   "cell_type": "markdown",
   "id": "fda0c82e-394d-41a8-ae5c-310c8767ec66",
   "metadata": {},
   "source": [
    "## Answer "
   ]
  },
  {
   "cell_type": "code",
   "execution_count": 30,
   "id": "f0789e18-c452-42e3-8a16-4d1da41b9c93",
   "metadata": {},
   "outputs": [],
   "source": [
    "n1 = 10\n",
    "std1 = 25\n",
    "dof1 = n1-1\n",
    "\n",
    "n2 = 15\n",
    "std2 = 20\n",
    "dof2 = n2-1\n",
    "\n",
    "alpha = 0.1"
   ]
  },
  {
   "cell_type": "code",
   "execution_count": 31,
   "id": "19b76dc6-082f-4fd8-8695-fe7115e5923b",
   "metadata": {},
   "outputs": [],
   "source": [
    "import scipy.stats as stats"
   ]
  },
  {
   "cell_type": "markdown",
   "id": "4bef48ff-9c7e-48ea-99d4-db8e52df50f3",
   "metadata": {},
   "source": [
    "### Using the f Table"
   ]
  },
  {
   "cell_type": "code",
   "execution_count": 32,
   "id": "7c99ee59-bbd3-4967-9156-2a393f97635a",
   "metadata": {},
   "outputs": [],
   "source": [
    "critica_value= 2.92"
   ]
  },
  {
   "cell_type": "code",
   "execution_count": 33,
   "id": "cb282d6a-35b9-4e63-bd3e-0797fe02eb14",
   "metadata": {},
   "outputs": [],
   "source": [
    "fstats = std1/std2"
   ]
  },
  {
   "cell_type": "code",
   "execution_count": 34,
   "id": "2cd7a3a9-64e0-4557-8d20-6146b71d9df9",
   "metadata": {},
   "outputs": [
    {
     "name": "stdout",
     "output_type": "stream",
     "text": [
      "not significantly different\n"
     ]
    }
   ],
   "source": [
    "if fstats<critica_value:\n",
    "    print(\"not significantly different\")\n",
    "else :\n",
    "    print(\"significantly different\")"
   ]
  },
  {
   "cell_type": "markdown",
   "id": "16f60f76-7624-42e7-a59b-7cc2be508bf0",
   "metadata": {},
   "source": [
    "## "
   ]
  },
  {
   "cell_type": "markdown",
   "id": "0cc1d8c6-4d70-4ad3-926e-e09c809e8161",
   "metadata": {},
   "source": [
    "## Q8. The following data represent the waiting times in minutes at two different restaurants on a Saturday night: Restaurant A: 24, 25, 28, 23, 22, 20, 27; Restaurant B: 31, 33, 35, 30, 32, 36. Conduct an F-test at the 5% significance level to determine if the variances are significantly different."
   ]
  },
  {
   "cell_type": "markdown",
   "id": "7bf3e45c-9e89-4778-b233-dd99465383b8",
   "metadata": {},
   "source": [
    "## Answer "
   ]
  },
  {
   "cell_type": "code",
   "execution_count": 35,
   "id": "d81fabe9-ccdf-4e72-8ca5-229713d895cd",
   "metadata": {},
   "outputs": [],
   "source": [
    "resA = [24, 25, 28, 23, 22, 20, 27] # waitin time in restaurent A\n",
    "resB = [31, 33, 35, 30, 32, 36] # waitin time in restaurent B\n",
    "\n",
    "alpha = 0.05\n",
    "\n",
    "H0 = \"variances are not significantly different\"\n",
    "H1 = \"Variances are significantly different\""
   ]
  },
  {
   "cell_type": "code",
   "execution_count": 37,
   "id": "02c39b33-d8f6-4a69-929a-9fd353bd2299",
   "metadata": {},
   "outputs": [],
   "source": [
    "stats, pvalue = f_oneway(resA, resB)"
   ]
  },
  {
   "cell_type": "code",
   "execution_count": 38,
   "id": "7da26d09-3056-4516-a651-97dc1b834991",
   "metadata": {},
   "outputs": [
    {
     "name": "stdout",
     "output_type": "stream",
     "text": [
      "Variances are significantly different\n"
     ]
    }
   ],
   "source": [
    "if pvalue<alpha:\n",
    "    print(\"Variances are significantly different\")\n",
    "else:\n",
    "    print(\"Variances are not significantly different\")"
   ]
  },
  {
   "cell_type": "markdown",
   "id": "9badef03-94f8-42e8-9993-0eac5d626613",
   "metadata": {},
   "source": [
    "## "
   ]
  },
  {
   "cell_type": "markdown",
   "id": "f07e6d7f-e000-4b16-a063-11277341f083",
   "metadata": {},
   "source": [
    "## Q9. The following data represent the test scores of two groups of students: Group A: 80, 85, 90, 92, 87, 83; Group B: 75, 78, 82, 79, 81, 84. Conduct an F-test at the 1% significance level to determine if the variances are significantly different."
   ]
  },
  {
   "cell_type": "markdown",
   "id": "5c034b03-bb35-4ed1-91a6-82ee825f0e2e",
   "metadata": {},
   "source": [
    "## Answer "
   ]
  },
  {
   "cell_type": "code",
   "execution_count": 43,
   "id": "f8ea1d2a-2bd4-4aba-a89f-ed5fd70e0f5f",
   "metadata": {},
   "outputs": [],
   "source": [
    "group1 = [80, 85, 90, 92, 87, 83]\n",
    "group2 = [75, 78, 82, 79, 81, 84]\n",
    "alpha1 = 0.01"
   ]
  },
  {
   "cell_type": "code",
   "execution_count": 44,
   "id": "db7a2b6f-15b7-4648-b8b4-93ef9354707c",
   "metadata": {},
   "outputs": [],
   "source": [
    "stats1, pvalue1 = f_oneway(group1, group2)"
   ]
  },
  {
   "cell_type": "code",
   "execution_count": 45,
   "id": "abf3c881-172a-4aed-a52a-8d51cbd16a4e",
   "metadata": {},
   "outputs": [
    {
     "name": "stdout",
     "output_type": "stream",
     "text": [
      "Variances are not significantly different\n"
     ]
    }
   ],
   "source": [
    "if pvalue1<alpha1:\n",
    "    print(\"Variances are significantly different\")\n",
    "else:\n",
    "    print(\"Variances are not significantly different\")"
   ]
  },
  {
   "cell_type": "markdown",
   "id": "594ec7e1-8753-4a61-a11a-002124fe13ad",
   "metadata": {},
   "source": [
    "## "
   ]
  }
 ],
 "metadata": {
  "kernelspec": {
   "display_name": "Python 3 (ipykernel)",
   "language": "python",
   "name": "python3"
  },
  "language_info": {
   "codemirror_mode": {
    "name": "ipython",
    "version": 3
   },
   "file_extension": ".py",
   "mimetype": "text/x-python",
   "name": "python",
   "nbconvert_exporter": "python",
   "pygments_lexer": "ipython3",
   "version": "3.12.2"
  }
 },
 "nbformat": 4,
 "nbformat_minor": 5
}
