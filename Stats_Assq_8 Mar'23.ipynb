{
 "cells": [
  {
   "cell_type": "markdown",
   "id": "89fa62de-5e17-41ba-a8bc-879ffd7745bc",
   "metadata": {},
   "source": [
    "## Q1. What is the Probability density function?"
   ]
  },
  {
   "cell_type": "markdown",
   "id": "d4d6e73b-36b5-4d0c-a4fa-62f0436b67fe",
   "metadata": {},
   "source": [
    "## Answer \n",
    "##### Probability Density Funtion (PDF) is a concept in statistics which tell us about the likelihood of a Continuous random variable.\n",
    "##### Imagine if we are looking at the data set of heights of people. If the PDF peak is 170cm, it means most of the people have their height around this number."
   ]
  },
  {
   "cell_type": "markdown",
   "id": "b5d20df7-7b98-4872-8873-e22429c82af7",
   "metadata": {},
   "source": [
    "#"
   ]
  },
  {
   "cell_type": "markdown",
   "id": "5d2d10c0-ae6e-417b-9bfb-d9253a6bf356",
   "metadata": {},
   "source": [
    "##  Q2. What are the types of Probability distribution?"
   ]
  },
  {
   "cell_type": "markdown",
   "id": "4edb4239-986b-43f4-9243-00738685103a",
   "metadata": {},
   "source": [
    "## Answer\n",
    "#### 1. Bernaulli Distribution\n",
    "##### This is a discrete probability function. It Gives a binary outcome for 1 trial. This is used for a random variable that can give one or more outcome.\n",
    "#### Success\n",
    "#### Failure\n",
    "#### E.g : A COIN IS TOSSED.\n",
    "#\n",
    "#### 2. Binomial Distribution\n",
    "##### This is a dicrete probability function. It gives a binary outcome for more than 1 trials.\n",
    "##### A group of bernali Distribution create a binomial function.\n",
    "#### E.g : A COIN IS TOSSED for 7 times.\n",
    "#\n",
    "#### 3. Poisson Distribution\n",
    "##### It describes the number of events occuring in a fixed time interval.\n",
    "##### E.g : No. of events occuring in every hour.\n",
    "#\n",
    "#### 4. Normal/Gaussian Distribution\n",
    "##### It is a continuous probability function.\n",
    "##### It's Bell Shaped and symmetric around the mean.\n",
    "#\n",
    "#### 5. Uniform Distribution\n",
    "##### a. Continuous U.D\n",
    "##### b. Discrete U.D\n",
    "##### This distribution describes an experiment where there is an arbitary outcome that lies between certain bounds."
   ]
  },
  {
   "cell_type": "markdown",
   "id": "49453553-011e-46e4-bf20-8dbaadcf09d4",
   "metadata": {},
   "source": [
    "#"
   ]
  },
  {
   "cell_type": "markdown",
   "id": "d0cb5550-e497-4ac6-bee5-3d79f3e33403",
   "metadata": {},
   "source": [
    "## Q3. Write a Python function to calculate the probability density function of a normal distribution with given mean and standard deviation at a given point.t"
   ]
  },
  {
   "cell_type": "markdown",
   "id": "cb877269-d44f-4afa-aa00-980f64d6c547",
   "metadata": {},
   "source": [
    "## Answer"
   ]
  },
  {
   "cell_type": "code",
   "execution_count": 3,
   "id": "68b94140-5d89-4b4f-b9bb-af7911d3a402",
   "metadata": {},
   "outputs": [],
   "source": [
    "import math\n",
    "\n",
    "class NormalDistribution:\n",
    "    def __init__(self, mean, std):\n",
    "        self.mean = mean\n",
    "        self.std = std\n",
    "\n",
    "    def PDF(self,x):\n",
    "        ## x = the value at ehich to evaluate the PDF\n",
    "        coefficient = 1/(self.std * math.sqrt(2*math.pi))\n",
    "        exponential = -0.5 * (((x - self.mean)/self.std) ** 2)\n",
    "        pdf_value = coefficient * math.exp(exponential)\n",
    "        return pdf_value"
   ]
  },
  {
   "cell_type": "code",
   "execution_count": 5,
   "id": "5ba78834-4272-4fa3-a98d-a854562048c7",
   "metadata": {},
   "outputs": [],
   "source": [
    "normal_dist = NormalDistribution(1,2)"
   ]
  },
  {
   "cell_type": "code",
   "execution_count": 10,
   "id": "a800c79a-89cd-4b6e-8706-0faeb589adc5",
   "metadata": {},
   "outputs": [
    {
     "name": "stdout",
     "output_type": "stream",
     "text": [
      "0.02699548325659403\n"
     ]
    }
   ],
   "source": [
    "pdf = normal_dist.PDF(5)\n",
    "print(pdf)"
   ]
  },
  {
   "cell_type": "markdown",
   "id": "962abfc1-92b8-4ed3-8bdb-c8e0d776d5e8",
   "metadata": {},
   "source": [
    "#"
   ]
  },
  {
   "cell_type": "markdown",
   "id": "b128ae41-96af-41fc-9382-b080e430033c",
   "metadata": {},
   "source": [
    "## Q4. What are the properties of Binomial distribution? Give two examples of events where binomial distribution can be applied."
   ]
  },
  {
   "cell_type": "markdown",
   "id": "8a30bb92-e86b-4854-bc4a-7c71409905f3",
   "metadata": {},
   "source": [
    "## Answer \n",
    "#### PROPERTIES OF BINOMIAL DISTRIBUTION :\n",
    "##### ----------------------------------------\n",
    "#### 1. It's a discrete probability function.\n",
    "#### 2. It gives binary outcome for n trials (n>1).\n",
    "#### 3. Each trial is independent of others.\n",
    "#### 4. The probability of trials remains constant.\n",
    "#\n",
    "#### EXAMPLES :\n",
    "##### ---------------------------------------\n",
    "#### 1. Quality of bulbs in a manufacturing factory\n",
    "##### If the bulb is defective (Failure) or not defective (Success). This can help to predict the likelihood of achieving not defective (Success) conversions for a cmopany.\n"
   ]
  },
  {
   "cell_type": "markdown",
   "id": "4d3e934b-3e1a-4f32-a7a6-e4a78403c744",
   "metadata": {},
   "source": [
    "#"
   ]
  },
  {
   "cell_type": "markdown",
   "id": "3878cc54-6e6e-478c-875b-abdf8e2ec6de",
   "metadata": {},
   "source": [
    "## Q5. Generate a random sample of size 1000 from a binomial distribution with probability of success 0.4 and plot a histogram of the results using matplotlib.."
   ]
  },
  {
   "cell_type": "markdown",
   "id": "92ad59e9-d5c4-4882-9aa1-19ebfb26bd0d",
   "metadata": {},
   "source": [
    "## Answer"
   ]
  },
  {
   "cell_type": "code",
   "execution_count": 41,
   "id": "4e7fbe31-79c5-40bd-b72e-8d727d8f2484",
   "metadata": {},
   "outputs": [
    {
     "data": {
      "image/png": "[encoded data removed]",
      "text/plain": [
       "<Figure size 640x480 with 1 Axes>"
      ]
     },
     "metadata": {},
     "output_type": "display_data"
    }
   ],
   "source": [
    "import numpy as np\n",
    "import matplotlib.pyplot as plt\n",
    "\n",
    "# Generate a random sample from a binomial distribution\n",
    "n_trials = 1000\n",
    "p_success = 0.4\n",
    "sample = np.random.binomial(n=1, p=p_success, size=n_trials)  # 1 indicates success (yes/no outcome)\n",
    "\n",
    "# Plot a histogram\n",
    "plt.hist(sample, bins=20, edgecolor='black', alpha=0.7)\n",
    "plt.xlabel(\"Number of Successes\")\n",
    "plt.ylabel(\"Frequency\")\n",
    "plt.title(\"Binomial Distribution Sample (n=1000, p=0.4)\")\n",
    "plt.show()\n"
   ]
  },
  {
   "cell_type": "markdown",
   "id": "a01b1214-319b-4df5-8e3e-d96a915f4fd2",
   "metadata": {},
   "source": [
    "#"
   ]
  },
  {
   "cell_type": "markdown",
   "id": "d231a61f-fb97-40c7-aecd-da049f5e5f8b",
   "metadata": {
    "scrolled": true
   },
   "source": [
    "##  Q6. Write a Python function to calculate the cumulative distribution function of a Poisson distribution with given mean at a given point"
   ]
  },
  {
   "cell_type": "code",
   "execution_count": 53,
   "id": "f820ae81-dfb7-48e3-948c-e79db5e536fc",
   "metadata": {},
   "outputs": [
    {
     "data": {
      "text/plain": [
       "0.8943502263331446"
      ]
     },
     "execution_count": 53,
     "metadata": {},
     "output_type": "execute_result"
    }
   ],
   "source": [
    "## direct method\n",
    "from scipy.stats import norm\n",
    "x = 1.25 # x is the specific value on which we have to find the cdf\n",
    "norm.cdf(1.25)"
   ]
  },
  {
   "cell_type": "markdown",
   "id": "15658be8-e43c-47e7-b81a-c0d68b0fe615",
   "metadata": {},
   "source": [
    "#"
   ]
  },
  {
   "cell_type": "markdown",
   "id": "26de0350-9dd4-4fc6-95e1-f872d14cce04",
   "metadata": {},
   "source": [
    "##  Q7. How Binomial distribution different from Poisson distribution?\n"
   ]
  },
  {
   "cell_type": "markdown",
   "id": "4914a0dc-d5e0-4c02-bf53-73ad120b0bae",
   "metadata": {},
   "source": [
    "## Answer \n",
    "#### BINOMIAL DISTRIBUTION FUNCTION\n",
    "##### It describe the outcomes in binary for more than 1 trials.\n",
    "##### It has fixed no. of trials\n",
    "#\n",
    "#### POISSON DISTRIBUTION\n",
    "##### It describes the number of events occuring in a fixed interval of time.\n",
    "##### any no. events can occur during a certain interval of time."
   ]
  },
  {
   "cell_type": "markdown",
   "id": "37b431be-9248-4db0-aa45-23b44f56419d",
   "metadata": {},
   "source": [
    "#"
   ]
  },
  {
   "cell_type": "markdown",
   "id": "ed70afe8-50fb-48bb-afa1-e54bf2420523",
   "metadata": {},
   "source": [
    "## Q8. Generate a random sample of size 1000 from a Poisson distribution with mean 5 and calculate the sample mean and variance.."
   ]
  },
  {
   "cell_type": "code",
   "execution_count": 55,
   "id": "12c5d966-6182-4966-ac4e-08d07644bb40",
   "metadata": {},
   "outputs": [],
   "source": [
    "sample = np.random.poisson(5, 1000)"
   ]
  },
  {
   "cell_type": "code",
   "execution_count": 56,
   "id": "9f710bfc-99e0-4d65-aa30-b42253dac012",
   "metadata": {},
   "outputs": [
    {
     "data": {
      "text/plain": [
       "5.139"
      ]
     },
     "execution_count": 56,
     "metadata": {},
     "output_type": "execute_result"
    }
   ],
   "source": [
    "sample.mean()"
   ]
  },
  {
   "cell_type": "code",
   "execution_count": 57,
   "id": "6ec351d5-2013-4084-a1d6-50b381d2838f",
   "metadata": {},
   "outputs": [
    {
     "data": {
      "text/plain": [
       "5.459679"
      ]
     },
     "execution_count": 57,
     "metadata": {},
     "output_type": "execute_result"
    }
   ],
   "source": [
    "sample.var()"
   ]
  },
  {
   "cell_type": "markdown",
   "id": "b3946e84-f114-440e-916c-e933bcce3296",
   "metadata": {},
   "source": [
    "##"
   ]
  },
  {
   "cell_type": "markdown",
   "id": "35f073f7-4d55-47d4-8219-c13f13ad68aa",
   "metadata": {},
   "source": [
    "## Q9. How mean and variance are related in Binomial distribution and Poisson distribution?"
   ]
  },
  {
   "cell_type": "markdown",
   "id": "2d470e0e-9b93-4cef-aff8-a767330e16fd",
   "metadata": {},
   "source": [
    "## Answer\n",
    "### BINOMIAL DISTRIBUTION\n",
    "#### MEAN = np\n",
    "#### VAR = npq  (q = 1-p)\n",
    "#\n",
    "### POISSON DISTRIBUTION\n",
    "#### MEAN = VAR = lambda * t\n",
    "#### lambda - no. of events occuring\n",
    "#### t = time interval"
   ]
  },
  {
   "cell_type": "markdown",
   "id": "6af0e124-07e6-4744-8903-d31834c7c87b",
   "metadata": {},
   "source": [
    "#"
   ]
  },
  {
   "cell_type": "markdown",
   "id": "c27c2aac-558d-4cc8-90bf-5e430fe778d4",
   "metadata": {},
   "source": [
    "## Q10. In normal distribution with respect to mean position, where does the least frequent data appear?"
   ]
  },
  {
   "cell_type": "markdown",
   "id": "c62e632d-a330-4d0f-8288-8ba8224dfc2f",
   "metadata": {},
   "source": [
    "## Answer :\n",
    "#### At the tails"
   ]
  }
 ],
 "metadata": {
  "kernelspec": {
   "display_name": "Python 3 (ipykernel)",
   "language": "python",
   "name": "python3"
  },
  "language_info": {
   "codemirror_mode": {
    "name": "ipython",
    "version": 3
   },
   "file_extension": ".py",
   "mimetype": "text/x-python",
   "name": "python",
   "nbconvert_exporter": "python",
   "pygments_lexer": "ipython3",
   "version": "3.12.2"
  }
 },
 "nbformat": 4,
 "nbformat_minor": 5
}
