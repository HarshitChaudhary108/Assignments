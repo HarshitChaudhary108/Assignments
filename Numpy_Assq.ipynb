{
 "cells": [
  {
   "cell_type": "markdown",
   "id": "25dce0eb-77cf-4159-b61e-b980ba68f9c7",
   "metadata": {},
   "source": [
    "#  Consider the below code to answer further questions:t_)"
   ]
  },
  {
   "cell_type": "markdown",
   "id": "9950877a-41e0-406c-898c-965416c241f0",
   "metadata": {},
   "source": [
    "## import numpy as np\n",
    "## list_ = [ ‘1’ , ’2’ , ‘3’ , ‘4’ , ‘5’ ]\n",
    "## array_list = np.array(object = list_)"
   ]
  },
  {
   "cell_type": "markdown",
   "id": "8552dfbb-8d4a-4f8b-b10f-a912515b74c5",
   "metadata": {},
   "source": [
    "\n",
    "## Q1. Is there any difference in the data type of variables list_ and array_list? If there is then write a code to  print the data types of both the variable.s"
   ]
  },
  {
   "cell_type": "code",
   "execution_count": 4,
   "id": "8a6e8191-bd76-4c50-be84-d3e1cc482890",
   "metadata": {},
   "outputs": [],
   "source": [
    "import numpy as np\n",
    "list = [\"1\", \"2\", \"3\", \"4\", \"5\"]\n",
    "array_list = np.array(object=list)"
   ]
  },
  {
   "cell_type": "code",
   "execution_count": 5,
   "id": "183e2ead-e16e-413e-8e0b-412dbf06c233",
   "metadata": {},
   "outputs": [
    {
     "data": {
      "text/plain": [
       "array(['1', '2', '3', '4', '5'], dtype='<U1')"
      ]
     },
     "execution_count": 5,
     "metadata": {},
     "output_type": "execute_result"
    }
   ],
   "source": [
    "array_list"
   ]
  },
  {
   "cell_type": "code",
   "execution_count": 6,
   "id": "e27ce135-63e6-42ae-a93f-36f449a89807",
   "metadata": {},
   "outputs": [
    {
     "data": {
      "text/plain": [
       "numpy.ndarray"
      ]
     },
     "execution_count": 6,
     "metadata": {},
     "output_type": "execute_result"
    }
   ],
   "source": [
    "type(array_list)"
   ]
  },
  {
   "cell_type": "code",
   "execution_count": 7,
   "id": "ba8be1e2-ef2c-48bf-a59c-f668e79defca",
   "metadata": {},
   "outputs": [
    {
     "data": {
      "text/plain": [
       "list"
      ]
     },
     "execution_count": 7,
     "metadata": {},
     "output_type": "execute_result"
    }
   ],
   "source": [
    "type(list)"
   ]
  },
  {
   "cell_type": "markdown",
   "id": "8b83665e-5b4b-4265-b785-4dfd2d7f18c1",
   "metadata": {},
   "source": [
    "### Yes, both the variables are very different form each other, because the data type of the array_list is \"NDARRAY\" and data type of the given LIST is \"STRING\"."
   ]
  },
  {
   "cell_type": "markdown",
   "id": "c1d0e3ee-762b-498e-b737-dd20a934251f",
   "metadata": {},
   "source": [
    "#"
   ]
  },
  {
   "cell_type": "markdown",
   "id": "07bf6226-5c95-4dc5-a265-2a6cb30a5707",
   "metadata": {},
   "source": [
    "## Q2. Write a code to print the data type of each and every element of both the variables list_ and  array_list."
   ]
  },
  {
   "cell_type": "code",
   "execution_count": 9,
   "id": "ba204d43-13ff-41c6-80e9-8f483bea65b2",
   "metadata": {},
   "outputs": [
    {
     "name": "stdout",
     "output_type": "stream",
     "text": [
      "<class 'numpy.str_'>\n",
      "<class 'numpy.str_'>\n",
      "<class 'numpy.str_'>\n",
      "<class 'numpy.str_'>\n",
      "<class 'numpy.str_'>\n"
     ]
    }
   ],
   "source": [
    "for i in array_list:\n",
    "    print(type(i))"
   ]
  },
  {
   "cell_type": "code",
   "execution_count": 10,
   "id": "07e54a80-a0bf-4d52-880a-174f60da603e",
   "metadata": {},
   "outputs": [
    {
     "name": "stdout",
     "output_type": "stream",
     "text": [
      "<class 'str'>\n",
      "<class 'str'>\n",
      "<class 'str'>\n",
      "<class 'str'>\n",
      "<class 'str'>\n"
     ]
    }
   ],
   "source": [
    "for i in list:\n",
    "    print(type(i))"
   ]
  },
  {
   "cell_type": "markdown",
   "id": "4cb4c164-d623-43bf-ae65-04d373d8d323",
   "metadata": {},
   "source": [
    "#"
   ]
  },
  {
   "cell_type": "markdown",
   "id": "910603f1-4092-42de-beb9-374ad0371117",
   "metadata": {},
   "source": [
    "##  Q3. Considering the following changes in the variable, array_list: \n",
    "## array_list = np.array(object = list_, dtype = int)\n",
    "Will there be any difference in the data type of the elements present in both the variables, list_ and \n",
    "arra_list? If so then print the data types of each and every element present in both the variables, list\r\n",
    "a d aryra_list."
   ]
  },
  {
   "cell_type": "code",
   "execution_count": 12,
   "id": "6eeac430-fe81-431b-b17c-67f86db602dc",
   "metadata": {},
   "outputs": [],
   "source": [
    "array_list = np.array(list, dtype = int)"
   ]
  },
  {
   "cell_type": "code",
   "execution_count": 13,
   "id": "3ad7da2a-ee09-453f-b414-52db869af59a",
   "metadata": {},
   "outputs": [
    {
     "data": {
      "text/plain": [
       "array([1, 2, 3, 4, 5])"
      ]
     },
     "execution_count": 13,
     "metadata": {},
     "output_type": "execute_result"
    }
   ],
   "source": [
    "array_list"
   ]
  },
  {
   "cell_type": "code",
   "execution_count": 14,
   "id": "9a334cc1-c19e-4f79-935e-2044d64754e4",
   "metadata": {},
   "outputs": [
    {
     "name": "stdout",
     "output_type": "stream",
     "text": [
      "<class 'numpy.int32'>\n",
      "<class 'numpy.int32'>\n",
      "<class 'numpy.int32'>\n",
      "<class 'numpy.int32'>\n",
      "<class 'numpy.int32'>\n"
     ]
    }
   ],
   "source": [
    "for i in array_list:\n",
    "    print(type(i))"
   ]
  },
  {
   "cell_type": "code",
   "execution_count": 15,
   "id": "e6ee0bd2-0f1a-47bb-8f7b-03024a7ed102",
   "metadata": {},
   "outputs": [
    {
     "name": "stdout",
     "output_type": "stream",
     "text": [
      "<class 'str'>\n",
      "<class 'str'>\n",
      "<class 'str'>\n",
      "<class 'str'>\n",
      "<class 'str'>\n"
     ]
    }
   ],
   "source": [
    "for i in list:\n",
    "    print(type(i))"
   ]
  },
  {
   "cell_type": "markdown",
   "id": "7cf9b0ca-de5e-42b0-8458-d55e7f1058ea",
   "metadata": {},
   "source": [
    "#### Yes, still there is a very big difference in the data type of the elements of both the variable_list and array_list. the data type of the elements of the variable list is \"STRING\" and the data type of the elements of the array_list is \"Int\""
   ]
  },
  {
   "cell_type": "markdown",
   "id": "9b8f1cd7-7d28-4bac-8ddf-d9c85a5a718c",
   "metadata": {},
   "source": [
    "##"
   ]
  },
  {
   "cell_type": "markdown",
   "id": "551904a9-4349-47dc-8bc1-06033f6e8927",
   "metadata": {},
   "source": [
    "##  Consider the below code to answer further questions"
   ]
  },
  {
   "cell_type": "code",
   "execution_count": 18,
   "id": "e4cf55e5-b0ad-4f05-9924-33e7c9421d1c",
   "metadata": {},
   "outputs": [],
   "source": [
    "num_list = [ [ 1 , 2 , 3 ] , [ 4 , 5 , 6 ] ]\n",
    "num_array = np.array(object = num_list)"
   ]
  },
  {
   "cell_type": "markdown",
   "id": "76422937-615a-4aff-929f-cbc542dc6cc1",
   "metadata": {},
   "source": [
    "## Q4. Write a code to find the following characteristics of variable, num_array:\n",
    "## (i) Size\n",
    "## (ii) Shape"
   ]
  },
  {
   "cell_type": "code",
   "execution_count": 19,
   "id": "03bcf0aa-1dfe-4c25-9d8c-4383a73d49e5",
   "metadata": {},
   "outputs": [
    {
     "data": {
      "text/plain": [
       "array([[1, 2, 3],\n",
       "       [4, 5, 6]])"
      ]
     },
     "execution_count": 19,
     "metadata": {},
     "output_type": "execute_result"
    }
   ],
   "source": [
    "num_array"
   ]
  },
  {
   "cell_type": "code",
   "execution_count": 21,
   "id": "26f931a8-4a57-4691-93c3-b2644c91b09b",
   "metadata": {},
   "outputs": [
    {
     "data": {
      "text/plain": [
       "2"
      ]
     },
     "execution_count": 21,
     "metadata": {},
     "output_type": "execute_result"
    }
   ],
   "source": [
    "num_array.ndim"
   ]
  },
  {
   "cell_type": "code",
   "execution_count": 23,
   "id": "92ecae83-1637-495c-b2c1-7bf86fa43203",
   "metadata": {},
   "outputs": [
    {
     "data": {
      "text/plain": [
       "6"
      ]
     },
     "execution_count": 23,
     "metadata": {},
     "output_type": "execute_result"
    }
   ],
   "source": [
    "num_array.size # total number of elements present in the array"
   ]
  },
  {
   "cell_type": "code",
   "execution_count": 24,
   "id": "0cbad1bf-b25c-41db-b20f-9d2f6804a7aa",
   "metadata": {},
   "outputs": [
    {
     "data": {
      "text/plain": [
       "(2, 3)"
      ]
     },
     "execution_count": 24,
     "metadata": {},
     "output_type": "execute_result"
    }
   ],
   "source": [
    "num_array.shape # tell about the rows X columns of the array"
   ]
  },
  {
   "cell_type": "markdown",
   "id": "ba9404d0-eadc-4792-9c97-f0f554959386",
   "metadata": {},
   "source": [
    "## Q.5. Write a code to create numpy array of 3*3 matrix containing zeros only, using a numpy array ccreation function \n",
    " [Hint: The size of the array will be 9 and the shape will be (3,3).]"
   ]
  },
  {
   "cell_type": "code",
   "execution_count": 26,
   "id": "e78c5870-dba2-4fb6-82e1-d11506b73006",
   "metadata": {},
   "outputs": [
    {
     "data": {
      "text/plain": [
       "array([[0., 0., 0.],\n",
       "       [0., 0., 0.],\n",
       "       [0., 0., 0.]])"
      ]
     },
     "execution_count": 26,
     "metadata": {},
     "output_type": "execute_result"
    }
   ],
   "source": [
    "np.zeros((3,3))"
   ]
  },
  {
   "cell_type": "markdown",
   "id": "7322bc7b-a9ed-4b40-8f93-578bb8cac7dd",
   "metadata": {},
   "source": [
    "#"
   ]
  },
  {
   "cell_type": "markdown",
   "id": "8fa54d85-d7cd-424c-8566-170abb4ec5d3",
   "metadata": {},
   "source": [
    "## Q6. Create an identity matrix of shape (5,5) using numpy functions?\n",
    "##  [Hint: An identity matrix is a matrix containing 1 diagonally and other elements will be 0.\r\n"
   ]
  },
  {
   "cell_type": "code",
   "execution_count": 28,
   "id": "fa08d0c1-cc35-4028-a04c-4b32b7b2a467",
   "metadata": {},
   "outputs": [
    {
     "data": {
      "text/plain": [
       "array([[1., 0., 0., 0., 0.],\n",
       "       [0., 1., 0., 0., 0.],\n",
       "       [0., 0., 1., 0., 0.],\n",
       "       [0., 0., 0., 1., 0.],\n",
       "       [0., 0., 0., 0., 1.]])"
      ]
     },
     "execution_count": 28,
     "metadata": {},
     "output_type": "execute_result"
    }
   ],
   "source": [
    "np.eye(5,5)"
   ]
  }
 ],
 "metadata": {
  "kernelspec": {
   "display_name": "Python 3 (ipykernel)",
   "language": "python",
   "name": "python3"
  },
  "language_info": {
   "codemirror_mode": {
    "name": "ipython",
    "version": 3
   },
   "file_extension": ".py",
   "mimetype": "text/x-python",
   "name": "python",
   "nbconvert_exporter": "python",
   "pygments_lexer": "ipython3",
   "version": "3.12.2"
  }
 },
 "nbformat": 4,
 "nbformat_minor": 5
}
