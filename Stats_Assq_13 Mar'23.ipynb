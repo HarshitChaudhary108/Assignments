{
 "cells": [
  {
   "cell_type": "markdown",
   "id": "43821e17-fac7-4f47-95e8-469a0d12c271",
   "metadata": {},
   "source": [
    "## Q1. Explain the assumptions required to use ANOVA and provide examples of violations that could impact the validity of the results."
   ]
  },
  {
   "cell_type": "markdown",
   "id": "6f7cb66c-52d5-4435-9b25-082f8b1b2441",
   "metadata": {},
   "source": [
    "## Asnwer "
   ]
  },
  {
   "cell_type": "markdown",
   "id": "f2df896e-af16-4554-9c26-1b5e446891d7",
   "metadata": {},
   "source": [
    "#### 1. Normality of sampling distribution of means\n",
    "#### || The distribution of sample mean is normally distributed.\n",
    "#### Example Violation : Suppose we conduct a one way anova test, if the data set is not following a bell cured shape then the assumptions can be violated.\n",
    "##\n",
    "#### 2. Absence of outliers\n",
    "#### || Outliers score need to be removed from the data set.\n",
    "#### Example Violation : It helps to reduce the type 1 error risk.\n",
    "##\n",
    "#### 3. Homogenity of variance\n",
    "#### || Each one of the population has the same variance.\n",
    "#### Example Violation : If the variance between the samples differ significantly then the final test result can be affected. and \n",
    "##\n",
    "#### 4. Samples are independent and random to each other.\n",
    "#### || Independent samples ensures that obervation within each group de=oes not affect EACH OTHER."
   ]
  },
  {
   "cell_type": "markdown",
   "id": "7d2946ce-6a50-4423-ae58-7804de5d7664",
   "metadata": {},
   "source": [
    "## "
   ]
  },
  {
   "cell_type": "markdown",
   "id": "242715a1-03c7-4fee-9b2a-320657f0ea86",
   "metadata": {},
   "source": [
    "##  Q2. What are the three types of ANOVA, and in what situations would each be used?"
   ]
  },
  {
   "cell_type": "markdown",
   "id": "8fba443c-97cf-4b58-9fe9-fb6a10fde2f5",
   "metadata": {},
   "source": [
    "## Answer "
   ]
  },
  {
   "cell_type": "markdown",
   "id": "6f9ef65a-0129-4978-b6a1-2cb98da53c1c",
   "metadata": {},
   "source": [
    "#### 1. One Way ANOVA \n",
    "#### || One Factor , =2 & >2 variables (Independent)\n",
    "#\n",
    "#### 2. Two Way ANOVA\n",
    "#### || One Factor ,  at least 2 variable (Dependent)\n",
    "#\n",
    "#### 3. N>2 ANOVA\n",
    "#### || 2 or more than 2 factors (each woth at least 2 levels), levels can be independent or dependent. "
   ]
  },
  {
   "cell_type": "markdown",
   "id": "b06097ce-75a3-4971-9db5-8126cabcb0ac",
   "metadata": {},
   "source": [
    "## "
   ]
  },
  {
   "cell_type": "markdown",
   "id": "a3ec6da0-2569-4249-ab57-86e23afae9b6",
   "metadata": {},
   "source": [
    "##  Q3. What is the partitioning of variance in ANOVA, and why is it important to understand this concept?"
   ]
  },
  {
   "cell_type": "markdown",
   "id": "9c0db3fe-1f08-4469-b775-fd24e4ae8a7a",
   "metadata": {},
   "source": [
    "## Answer"
   ]
  },
  {
   "cell_type": "markdown",
   "id": "d3d95ee3-a111-4ef3-8bf2-7d6a1d5660fd",
   "metadata": {},
   "source": [
    "### Partioning of Variance in ANOVA :\n",
    "#### Between Group Variance :\n",
    "#### || Let say we have a copare the heights of plants of different species, in B/W group variance we compare the average height of each species.\n",
    "#### Within Group Variance :\n",
    "#### || Now, We can also understand that there is also some variation in the height of plants of an individual specie. To Within group variance captures the variability in the heights of the plants of that particular species.\n",
    "#\n",
    "#### Why is it important ?\n",
    "#### It is that important because, it hepls us to interpret and understand our result in a more good way. for example if the b/w variance is larger than within, it can easily be understood that one group mean is significantly larger than the other.\n",
    "#### Where other tests, like z test , ttest, chi square tests, helps us to compare between 2 groups, on the other hand, ANOVA helps us to compare between 2 or more than 2 groups."
   ]
  },
  {
   "cell_type": "markdown",
   "id": "97526de3-1de7-4544-9ca7-b27440c35736",
   "metadata": {},
   "source": [
    "## "
   ]
  },
  {
   "cell_type": "markdown",
   "id": "1abcdec1-0fff-4541-980a-9804b0b842e4",
   "metadata": {},
   "source": [
    "## Q4. How would you calculate the total sum of squares (SST), explained sum of squares (SSE), and residual sum of squares (SSR) in a one-way ANOVA using Python?"
   ]
  },
  {
   "cell_type": "markdown",
   "id": "2d659c51-2d62-4d92-83fb-9d61edf71a54",
   "metadata": {},
   "source": [
    "## Answer "
   ]
  },
  {
   "cell_type": "markdown",
   "id": "e9c1252a-378d-4a23-b308-1ba43eaef015",
   "metadata": {},
   "source": [
    "#### To find these 3 in python, we'll need to create a linear regression line first."
   ]
  },
  {
   "cell_type": "code",
   "execution_count": 19,
   "id": "366c4a09-1d08-40fe-b0a7-df208dd0d50e",
   "metadata": {},
   "outputs": [],
   "source": [
    "from scipy.stats import f_oneway"
   ]
  },
  {
   "cell_type": "markdown",
   "id": "cb5d88a9-8600-4f5d-b8f3-553d79cc5bea",
   "metadata": {},
   "source": [
    "## "
   ]
  },
  {
   "cell_type": "markdown",
   "id": "1e6c2b33-9010-472f-9b2d-99d1339f242e",
   "metadata": {},
   "source": [
    "## Q5. In a two-way ANOVA, how would you calculate the main effects and interaction effects using Python?"
   ]
  },
  {
   "cell_type": "markdown",
   "id": "fb397eab-6ede-4321-841d-3dfa96aff492",
   "metadata": {},
   "source": [
    "## Answer "
   ]
  },
  {
   "cell_type": "markdown",
   "id": "8702287e-e350-48a3-9953-c63eebde8618",
   "metadata": {},
   "source": [
    "#### to find this, we'll first require to import"
   ]
  },
  {
   "cell_type": "code",
   "execution_count": 21,
   "id": "2790453b-24ce-49d2-bf01-9af3534fcbc2",
   "metadata": {},
   "outputs": [],
   "source": [
    "from scipy.stats import f_oneway"
   ]
  },
  {
   "cell_type": "markdown",
   "id": "820f974b-349e-4852-8ec6-1b4cc2d032fa",
   "metadata": {},
   "source": [
    "#### within our code we'll create a linear regression line usinf f_oneway, and with this we can find our p_value and oneway stats."
   ]
  },
  {
   "cell_type": "markdown",
   "id": "c565e89b-b1f7-413f-a214-f74cec05e37d",
   "metadata": {},
   "source": [
    "#### If the pvalue is less than the significance value, we can reject the null hypothesis. else we'll fail to reject the null hypothesis."
   ]
  },
  {
   "cell_type": "markdown",
   "id": "e04c95ba-9f74-42d1-a612-b30a27333864",
   "metadata": {},
   "source": [
    "## "
   ]
  },
  {
   "cell_type": "markdown",
   "id": "06906cb6-7f89-403c-b749-7aba77643e28",
   "metadata": {},
   "source": [
    "##  Q6. Suppose you conducted a one-way ANOVA and obtained an F-statistic of 5.23 and a p-value of 0.02. What can you conclude about the differences between the groups, and how would you interpret these results?"
   ]
  },
  {
   "cell_type": "markdown",
   "id": "b1e8f3f5-51ec-4e96-9108-9fcdb92e2556",
   "metadata": {},
   "source": [
    "## Answer "
   ]
  },
  {
   "cell_type": "code",
   "execution_count": 23,
   "id": "71b1d7b1-258c-44d4-bbd9-bf77f9ad6a6f",
   "metadata": {},
   "outputs": [],
   "source": [
    "f_stats = 5.23\n",
    "p_value = 0.02"
   ]
  },
  {
   "cell_type": "markdown",
   "id": "88799c5d-4097-4916-b842-e8ef4ad4ea61",
   "metadata": {},
   "source": [
    "#### 1. We can see here that p_value is lower than the significance value 0.05. Hence we can reject the null hypothesis.\n",
    "#### 2. F_stats conclude that there is significant difference between means of each groups."
   ]
  },
  {
   "cell_type": "markdown",
   "id": "fab997a3-7ef1-4513-93c4-aa0b973fea4c",
   "metadata": {},
   "source": [
    "## "
   ]
  },
  {
   "cell_type": "markdown",
   "id": "18781e66-e21a-48d4-87e2-f9c1450ae73e",
   "metadata": {},
   "source": [
    "##  Q7. In a repeated measures ANOVA, how would you handle missing data, and what are the potential consequences of using different methods to handle missing data?"
   ]
  },
  {
   "cell_type": "markdown",
   "id": "cc80fc09-ce10-4fa9-90c3-86aa33f773ad",
   "metadata": {},
   "source": [
    "## Answer "
   ]
  },
  {
   "cell_type": "markdown",
   "id": "a46e78f7-faef-4ef5-887f-5b3d1b8aaf07",
   "metadata": {},
   "source": [
    "#### Listwise-deletion\n",
    "#### || Sometimes, we can see that we have so many missing values in the data. to overcome this, In listwise deletion menthod, we can delete the entire variable of missing values. It is not recommended to use this method unless there is significant missing values in the data.\n",
    "### CONSEQUENCES :Loss of information , reduce the statistical power\n",
    "#\n",
    "#### Imputation Method\n",
    "#### || In this method, we impute the estimated values from the observed data. We can replace the missing values with the mean or median of the variable.\n",
    "### CONSEQUENCES : We assumes tha new value , Final result may have some degree of error."
   ]
  },
  {
   "cell_type": "markdown",
   "id": "b355877a-d6e4-437c-a37a-ff73cf948ce4",
   "metadata": {},
   "source": [
    "## "
   ]
  },
  {
   "cell_type": "markdown",
   "id": "d0383865-4969-4220-974f-0b59375df751",
   "metadata": {},
   "source": [
    "##  Q8. What are some common post-hoc tests used after ANOVA, and when would you use each one? Provide an example of a situation where a post-hoc test might be necessary."
   ]
  },
  {
   "cell_type": "markdown",
   "id": "a2cb85ca-4cb3-46d4-8fc0-a4d3446e31ca",
   "metadata": {},
   "source": [
    "## Answer "
   ]
  },
  {
   "cell_type": "markdown",
   "id": "49e8e2fd-1d12-4d55-92b8-a18f65c5db9b",
   "metadata": {},
   "source": [
    "#### After Comparing the means of the two different groups, to check which gruop is significantly different from the other one's, we use post-hoc tests.\n",
    "#### Few of the post-hoc tests are mentioned below :\n",
    "#### HSD ( Honest Significant Difference )Test : \n",
    "#### || It is very useful for pairwise COMPARISONS\n",
    "#### || Suppose we want to measure the stamina of 3 different athlets, HSD Test will help us a lot to check which athlet's stamina differ from the another 2.\n",
    "#### Example : Athelet A's stamina is different from B.\n",
    "#\n",
    "#### HOLM's Method\n",
    "#### || Slightly more conservative than HSD Test.\n",
    "#### Rather comparing the groups directly, it's more cautious. it ranks the Pvalue.\n",
    "#### Example : If A's stamina is higher than B, then it must be higher than C."
   ]
  },
  {
   "cell_type": "markdown",
   "id": "9c075c0b-707d-41df-8e2b-e9bf54484137",
   "metadata": {},
   "source": [
    "##"
   ]
  },
  {
   "cell_type": "markdown",
   "id": "4969e0cb-918b-4efb-8c90-14f2cf9bc6a7",
   "metadata": {},
   "source": [
    "## Q9. A researcher wants to compare the mean weight loss of three diets: A, B, and C. They collect data from 50 participants who were randomly assigned to one of the diets. Conduct a one-way ANOVA using Python to determine if there are any significant differences between the mean weight loss of the three diets. Report the F-statistic and p-value, and interpret the results."
   ]
  },
  {
   "cell_type": "code",
   "execution_count": 2,
   "id": "267fb51b-2831-4a78-95ed-2d17322fccb6",
   "metadata": {},
   "outputs": [],
   "source": [
    "n = 50"
   ]
  },
  {
   "cell_type": "code",
   "execution_count": 3,
   "id": "8a5c1d2f-5ed2-4d33-8baa-76d7e5ee0d58",
   "metadata": {},
   "outputs": [],
   "source": [
    "diet_A = [2.5, 3.0, 2.8, 2.3, 2.7, 2.5, 3.0, 2.8, 2.3, 2.7]\n",
    "diet_B = [2.1, 2.4, 2.0, 2.5, 2.3, 1.8, 2.0, 1.9, 2.2, 1.7]\n",
    "diet_C = [1.8, 2.0, 1.9, 2.2, 1.7, 2.1, 2.4, 2.0, 2.5, 2.3]"
   ]
  },
  {
   "cell_type": "code",
   "execution_count": 8,
   "id": "ca21a63e-6a49-4ef4-b1e8-cf5f3c48ddd8",
   "metadata": {},
   "outputs": [],
   "source": [
    "from scipy.stats import f_oneway"
   ]
  },
  {
   "cell_type": "code",
   "execution_count": 11,
   "id": "d7d86860-17c7-4aa2-a8da-913a05b49fff",
   "metadata": {},
   "outputs": [],
   "source": [
    "stats, pvalue = f_oneway(diet_A, diet_B, diet_C)"
   ]
  },
  {
   "cell_type": "code",
   "execution_count": 7,
   "id": "0e651c1d-dba0-425d-8ba3-a1a086b7ad1e",
   "metadata": {},
   "outputs": [
    {
     "name": "stdout",
     "output_type": "stream",
     "text": [
      "We reject the Null Hypothesis\n"
     ]
    }
   ],
   "source": [
    "if pvalue<0.05 :\n",
    "    print(\"We reject the Null Hypothesis\")\n",
    "else :\n",
    "    print(\"We fail to reject the null hypothesis\")"
   ]
  },
  {
   "cell_type": "code",
   "execution_count": 15,
   "id": "9539a7ad-ffe1-403d-816f-d050f6613356",
   "metadata": {},
   "outputs": [
    {
     "data": {
      "text/plain": [
       "16.226970033296336"
      ]
     },
     "execution_count": 15,
     "metadata": {},
     "output_type": "execute_result"
    }
   ],
   "source": [
    "stats"
   ]
  },
  {
   "cell_type": "markdown",
   "id": "07df68f4-d82d-497f-8128-d969de961ed3",
   "metadata": {},
   "source": [
    "## As we know, more the stats value, more the difference between means of groups."
   ]
  },
  {
   "cell_type": "markdown",
   "id": "c647ca52-2217-4a87-8162-c0df73564cbf",
   "metadata": {},
   "source": [
    "##"
   ]
  },
  {
   "cell_type": "markdown",
   "id": "364316e9-3146-42dd-a998-cdf8080f1168",
   "metadata": {},
   "source": [
    "## Q10. A company wants to know if there are any significant differences in the average time it takes to complete a task using three different software programs: Program A, Program B, and Program C. They randomly assign 30 employees to one of the programs and record the time it takes each employee to complete the task. Conduct a two-way ANOVA using Python to determine if there are any main effects or interaction effects between the software programs and employee experience level (novice vs. experienced). Report the F-statistics and p-values, and interpret the results."
   ]
  },
  {
   "cell_type": "markdown",
   "id": "4e5d9a2c-a9f2-42e1-a3ee-d9f5f1cd6d49",
   "metadata": {},
   "source": [
    "## Answer"
   ]
  },
  {
   "cell_type": "code",
   "execution_count": 36,
   "id": "e1f16e1c-9afb-4382-953a-a6848585f7e5",
   "metadata": {},
   "outputs": [],
   "source": [
    "from statsmodels.stats.anova import anova_lm\n",
    "from statsmodels.formula.api import ols"
   ]
  },
  {
   "cell_type": "code",
   "execution_count": 37,
   "id": "65e589fa-c959-4dfa-8462-9e77de7a6f95",
   "metadata": {},
   "outputs": [],
   "source": [
    "import pandas as pd\n",
    "data = {\n",
    "    'program': ['A', 'B', 'C'] * 10,\n",
    "    'experience': ['novice'] * 15 + ['experienced'] * 15,\n",
    "    'completion_time': [10.23, 12.45, 11.78, 9.92, 14.01,13.20, 10.67, 9.34, 11.89, 14.56,12.10, 9.71, 13.80, 10.98, 14.32,11.05, 9.12, 13.67, 10.76, 14.88,12.33, 9.45, 11.34, 14.79, 12.67,9.87, 13.45, 11.56, 14.23, 12.89]\n",
    "}\n",
    "df = pd.DataFrame(data)"
   ]
  },
  {
   "cell_type": "code",
   "execution_count": 39,
   "id": "492108da-4215-4c15-95c0-598043b3643f",
   "metadata": {
    "scrolled": true
   },
   "outputs": [],
   "source": [
    "model = ols('completion_time ~ C(program) + C(experience) + C(program):C(experience)', data=df).fit()\n",
    "anovaResults = anova_lm(model, type=2)"
   ]
  },
  {
   "cell_type": "code",
   "execution_count": 41,
   "id": "53abac6a-90bf-4129-9c48-ef358a5f708a",
   "metadata": {},
   "outputs": [
    {
     "data": {
      "text/html": [
       "<div>\n",
       "<style scoped>\n",
       "    .dataframe tbody tr th:only-of-type {\n",
       "        vertical-align: middle;\n",
       "    }\n",
       "\n",
       "    .dataframe tbody tr th {\n",
       "        vertical-align: top;\n",
       "    }\n",
       "\n",
       "    .dataframe thead th {\n",
       "        text-align: right;\n",
       "    }\n",
       "</style>\n",
       "<table border=\"1\" class=\"dataframe\">\n",
       "  <thead>\n",
       "    <tr style=\"text-align: right;\">\n",
       "      <th></th>\n",
       "      <th>df</th>\n",
       "      <th>sum_sq</th>\n",
       "      <th>mean_sq</th>\n",
       "      <th>F</th>\n",
       "      <th>PR(&gt;F)</th>\n",
       "    </tr>\n",
       "  </thead>\n",
       "  <tbody>\n",
       "    <tr>\n",
       "      <th>C(program)</th>\n",
       "      <td>2.0</td>\n",
       "      <td>9.536540</td>\n",
       "      <td>4.768270</td>\n",
       "      <td>1.460276</td>\n",
       "      <td>0.252074</td>\n",
       "    </tr>\n",
       "    <tr>\n",
       "      <th>C(experience)</th>\n",
       "      <td>1.0</td>\n",
       "      <td>0.320333</td>\n",
       "      <td>0.320333</td>\n",
       "      <td>0.098102</td>\n",
       "      <td>0.756826</td>\n",
       "    </tr>\n",
       "    <tr>\n",
       "      <th>C(program):C(experience)</th>\n",
       "      <td>2.0</td>\n",
       "      <td>4.953927</td>\n",
       "      <td>2.476963</td>\n",
       "      <td>0.758566</td>\n",
       "      <td>0.479239</td>\n",
       "    </tr>\n",
       "    <tr>\n",
       "      <th>Residual</th>\n",
       "      <td>24.0</td>\n",
       "      <td>78.367720</td>\n",
       "      <td>3.265322</td>\n",
       "      <td>NaN</td>\n",
       "      <td>NaN</td>\n",
       "    </tr>\n",
       "  </tbody>\n",
       "</table>\n",
       "</div>"
      ],
      "text/plain": [
       "                            df     sum_sq   mean_sq         F    PR(>F)\n",
       "C(program)                 2.0   9.536540  4.768270  1.460276  0.252074\n",
       "C(experience)              1.0   0.320333  0.320333  0.098102  0.756826\n",
       "C(program):C(experience)   2.0   4.953927  2.476963  0.758566  0.479239\n",
       "Residual                  24.0  78.367720  3.265322       NaN       NaN"
      ]
     },
     "execution_count": 41,
     "metadata": {},
     "output_type": "execute_result"
    }
   ],
   "source": [
    "anovaResults"
   ]
  },
  {
   "cell_type": "code",
   "execution_count": 134,
   "id": "3e8fe8d3-c4f7-4739-9d5f-3e0c8815bb6c",
   "metadata": {},
   "outputs": [
    {
     "name": "stdout",
     "output_type": "stream",
     "text": [
      "No significant change\n"
     ]
    }
   ],
   "source": [
    "if anovaResults[\"PR(>F)\"][\"C(program):C(experience)\"]<0.05:\n",
    "    print(\"Significant change\")\n",
    "else:\n",
    "    print(\"No significant change\")"
   ]
  },
  {
   "cell_type": "code",
   "execution_count": null,
   "id": "424553a9-fcde-4734-9bc4-afd7abe697a7",
   "metadata": {},
   "outputs": [],
   "source": [
    "from stat import f_tx"
   ]
  },
  {
   "cell_type": "code",
   "execution_count": null,
   "id": "36a96441-c0ac-4163-93e6-8174cbfa5e6f",
   "metadata": {},
   "outputs": [],
   "source": []
  },
  {
   "cell_type": "markdown",
   "id": "2e1ad805-a010-4967-bc7c-d3ede5e0155c",
   "metadata": {},
   "source": [
    "## "
   ]
  },
  {
   "cell_type": "markdown",
   "id": "92d40233-93cf-42a0-a5ba-fabe91ee6c9b",
   "metadata": {},
   "source": [
    "## Q11. An educational researcher is interested in whether a new teaching method improves student test scores. They randomly assign 100 students to either the control group (traditional teaching method) or the experimental group (new teaching method) and administer a test at the end of the semester. Conduct a two-sample t-test using Python to determine if there are any significant differences in test scores between the two groups. If the results are significant, follow up with a post-hoc test to determine which group(s) differ significantly from each other."
   ]
  },
  {
   "cell_type": "markdown",
   "id": "98aedb45-32f5-4d6c-92b3-aa0d5138f3d4",
   "metadata": {},
   "source": [
    "## Answer"
   ]
  },
  {
   "cell_type": "code",
   "execution_count": 123,
   "id": "3b929dbe-2d81-405d-9be2-736cc137ec68",
   "metadata": {},
   "outputs": [],
   "source": [
    "import scipy.stats as stats\n",
    "import pandas as pd\n",
    "import numpy as np"
   ]
  },
  {
   "cell_type": "code",
   "execution_count": 124,
   "id": "a4add49f-d390-4f06-8c6f-9e29a7b53975",
   "metadata": {},
   "outputs": [],
   "source": [
    "data = pd.DataFrame({\n",
    "    'group': ['C'] * 50 + ['E'] * 50,\n",
    "'score': np.random.randint(45, 98, size=100)\n",
    "\n",
    "})"
   ]
  },
  {
   "cell_type": "code",
   "execution_count": 125,
   "id": "71aa08a7-54c0-4b42-8b1a-1657b530e443",
   "metadata": {},
   "outputs": [],
   "source": [
    "TraditionalStyle = data[data[\"group\"]==\"C\"][\"score\"]"
   ]
  },
  {
   "cell_type": "code",
   "execution_count": 126,
   "id": "4ed633f7-7265-40d3-8879-cbfd2e7f8df4",
   "metadata": {},
   "outputs": [],
   "source": [
    "ExpStyle = data[data[\"group\"]==\"E\"][\"score\"]"
   ]
  },
  {
   "cell_type": "code",
   "execution_count": 127,
   "id": "9593f2a2-57a4-4e93-8728-0ac1f2bce74d",
   "metadata": {},
   "outputs": [],
   "source": [
    "stats, pvalue = stats.ttest_ind(TraditionalStyle, ExpStyle)"
   ]
  },
  {
   "cell_type": "code",
   "execution_count": 128,
   "id": "7193b72f-fdf2-475e-95e4-07ba2376f61a",
   "metadata": {},
   "outputs": [
    {
     "data": {
      "text/plain": [
       "(0.7408134157192365, 0.460577936425705)"
      ]
     },
     "execution_count": 128,
     "metadata": {},
     "output_type": "execute_result"
    }
   ],
   "source": [
    "stats, pvalue"
   ]
  },
  {
   "cell_type": "code",
   "execution_count": 129,
   "id": "0dcc55a2-0e07-4fa1-86a6-b59def31d2e3",
   "metadata": {},
   "outputs": [
    {
     "name": "stdout",
     "output_type": "stream",
     "text": [
      "there is no change in both the teaching methods\n"
     ]
    }
   ],
   "source": [
    "if pvalue<0.05:\n",
    "    print(\"There is insignificant change in both the teaching methods\")\n",
    "else:\n",
    "    print(\"there is no change in both the teaching methods\")"
   ]
  },
  {
   "cell_type": "markdown",
   "id": "b19f0808-4efa-45a7-a678-d24c426d7a22",
   "metadata": {},
   "source": [
    "## POST_HOC "
   ]
  },
  {
   "cell_type": "code",
   "execution_count": 130,
   "id": "9d9e3514-deb6-4eec-8589-f34c99a6fc08",
   "metadata": {},
   "outputs": [],
   "source": [
    "from statsmodels.stats.multicomp import pairwise_tukeyhsd"
   ]
  },
  {
   "cell_type": "code",
   "execution_count": 132,
   "id": "cd079e18-a158-4ff8-8aed-bc2242694abe",
   "metadata": {},
   "outputs": [],
   "source": [
    "posthoc = pairwise_tukeyhsd(data[\"score\"], data[\"group\"])"
   ]
  },
  {
   "cell_type": "code",
   "execution_count": 133,
   "id": "da6bc866-1599-4bbe-8a12-19682ae048fc",
   "metadata": {},
   "outputs": [
    {
     "name": "stdout",
     "output_type": "stream",
     "text": [
      " Multiple Comparison of Means - Tukey HSD, FWER=0.05 \n",
      "=====================================================\n",
      "group1 group2 meandiff p-adj   lower    upper  reject\n",
      "-----------------------------------------------------\n",
      "     C      E    -6.52 0.0369 -12.6355 -0.4045   True\n",
      "-----------------------------------------------------\n"
     ]
    }
   ],
   "source": [
    "print(hsd_result.summary())"
   ]
  },
  {
   "cell_type": "markdown",
   "id": "cb221e87-ec39-4b51-a03a-8dbb78d080df",
   "metadata": {},
   "source": [
    "#### We can see that the rejection is True, Means We reject the Null Hypothesis. There is significantly changes between both the groups.\n",
    "#### The students in group E scored 6.52 points low than the students in Group C"
   ]
  },
  {
   "cell_type": "markdown",
   "id": "cc4ebae9-74f8-4410-a920-ddcc8218cbfd",
   "metadata": {},
   "source": [
    "## "
   ]
  },
  {
   "cell_type": "markdown",
   "id": "371355be-5f19-4f88-96b7-86996d9fee71",
   "metadata": {},
   "source": [
    "##  Q12. A researcher wants to know if there are any significant differences in the average daily sales of three retail stores: Store A, Store B, and Store C. They randomly select 30 days and record the sales for each store on those days. Conduct a repeated measures ANOVA using Python to determine if there are any significant differences in sales between the three stores. If the results are significant, follow up with a posthoc test to determine which store(s) differ significantly from each other."
   ]
  },
  {
   "cell_type": "markdown",
   "id": "c03993fe-3715-4a74-bbf0-cba33b07f2b0",
   "metadata": {},
   "source": [
    "## Answer "
   ]
  },
  {
   "cell_type": "code",
   "execution_count": 74,
   "id": "454a33d5-782a-4842-a157-a306b3f9cc05",
   "metadata": {},
   "outputs": [],
   "source": [
    "data = {\n",
    "    \"sales\" : np.random.randint(30, 80, size = 30),\n",
    "    \"store\" : [\"A\", \"B\", \"C\"] *10\n",
    "}"
   ]
  },
  {
   "cell_type": "code",
   "execution_count": 77,
   "id": "1a4643b3-cfdf-4667-8350-dac88be30364",
   "metadata": {},
   "outputs": [],
   "source": [
    "df = pd.DataFrame(data)"
   ]
  },
  {
   "cell_type": "code",
   "execution_count": 79,
   "id": "f72cda52-1c62-4f99-a459-79b6ca565af0",
   "metadata": {},
   "outputs": [],
   "source": [
    "from statsmodels.formula.api import ols\n",
    "from statsmodels.stats.anova import anova_lm"
   ]
  },
  {
   "cell_type": "code",
   "execution_count": 81,
   "id": "aeb77488-e322-4369-b520-5b7cf1dda8e7",
   "metadata": {},
   "outputs": [],
   "source": [
    "model = ols(\"sales ~ store\", data=df).fit()"
   ]
  },
  {
   "cell_type": "code",
   "execution_count": 83,
   "id": "dab294e9-cbef-453d-b381-f5b9425c25dd",
   "metadata": {},
   "outputs": [],
   "source": [
    "results = anova_lm(model, type=2)"
   ]
  },
  {
   "cell_type": "code",
   "execution_count": 84,
   "id": "894e71a4-b601-464f-bfed-2aeb966d3a1f",
   "metadata": {},
   "outputs": [
    {
     "data": {
      "text/html": [
       "<div>\n",
       "<style scoped>\n",
       "    .dataframe tbody tr th:only-of-type {\n",
       "        vertical-align: middle;\n",
       "    }\n",
       "\n",
       "    .dataframe tbody tr th {\n",
       "        vertical-align: top;\n",
       "    }\n",
       "\n",
       "    .dataframe thead th {\n",
       "        text-align: right;\n",
       "    }\n",
       "</style>\n",
       "<table border=\"1\" class=\"dataframe\">\n",
       "  <thead>\n",
       "    <tr style=\"text-align: right;\">\n",
       "      <th></th>\n",
       "      <th>df</th>\n",
       "      <th>sum_sq</th>\n",
       "      <th>mean_sq</th>\n",
       "      <th>F</th>\n",
       "      <th>PR(&gt;F)</th>\n",
       "    </tr>\n",
       "  </thead>\n",
       "  <tbody>\n",
       "    <tr>\n",
       "      <th>store</th>\n",
       "      <td>2.0</td>\n",
       "      <td>685.066667</td>\n",
       "      <td>342.533333</td>\n",
       "      <td>1.408979</td>\n",
       "      <td>0.261794</td>\n",
       "    </tr>\n",
       "    <tr>\n",
       "      <th>Residual</th>\n",
       "      <td>27.0</td>\n",
       "      <td>6563.900000</td>\n",
       "      <td>243.107407</td>\n",
       "      <td>NaN</td>\n",
       "      <td>NaN</td>\n",
       "    </tr>\n",
       "  </tbody>\n",
       "</table>\n",
       "</div>"
      ],
      "text/plain": [
       "            df       sum_sq     mean_sq         F    PR(>F)\n",
       "store      2.0   685.066667  342.533333  1.408979  0.261794\n",
       "Residual  27.0  6563.900000  243.107407       NaN       NaN"
      ]
     },
     "execution_count": 84,
     "metadata": {},
     "output_type": "execute_result"
    }
   ],
   "source": [
    "results"
   ]
  },
  {
   "cell_type": "code",
   "execution_count": 87,
   "id": "4d57fa82-4334-43a9-993a-1c7523e9d2b9",
   "metadata": {},
   "outputs": [
    {
     "name": "stdout",
     "output_type": "stream",
     "text": [
      "There is no insignificant difference\n"
     ]
    }
   ],
   "source": [
    "if results['PR(>F)']['store']<0.05:\n",
    "    print(\"Insignificant Difference between the 3\")\n",
    "    posthoc_test = pairwise_tukeyhsd(data[\"sales\"], data[\"store\"])\n",
    "else:\n",
    "    print(\"There is no insignificant difference\")"
   ]
  }
 ],
 "metadata": {
  "kernelspec": {
   "display_name": "Python 3 (ipykernel)",
   "language": "python",
   "name": "python3"
  },
  "language_info": {
   "codemirror_mode": {
    "name": "ipython",
    "version": 3
   },
   "file_extension": ".py",
   "mimetype": "text/x-python",
   "name": "python",
   "nbconvert_exporter": "python",
   "pygments_lexer": "ipython3",
   "version": "3.12.2"
  }
 },
 "nbformat": 4,
 "nbformat_minor": 5
}
